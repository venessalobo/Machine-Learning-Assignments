{
 "cells": [
  {
   "cell_type": "markdown",
   "metadata": {
    "ein.tags": [
     "worksheet-0"
    ],
    "slideshow": {
     "slide_type": "-"
    }
   },
   "source": [
    "# Problem Set 4, due '05/23/2017' at 3:30pm.\n",
    "\n",
    "### Before You Start\n",
    "\n",
    "This is a fun but challenging problem set. It will test your python skills, as well as your understanding of the material in class and in the readings. Start early and debug often! Some notes:\n",
    "\n",
    "* Part 1 is meant to be easy, so get through it quickly.\n",
    "* Part 2 (especially 2.1) will be difficult, but it is the lynchpin of this problem set to make sure to do it well and understand what you've done. If you find your gradient descent algorithm is taking more than a few minutes to complete, debug more, compare notes with others, and go to the TA sessions.\n",
    "* Depending on how well you've done 2.1, parts 2.3 and 4.3 will be relatively painless or incredibly painful. \n",
    "* Part 4 (especially 3.3) will be computationally intensive. Don't leave this until the last minute, otherwise your code might be running when the deadline arrives.\n",
    "* Do the extra credit problems last."
   ]
  },
  {
   "cell_type": "markdown",
   "metadata": {
    "ein.tags": [
     "worksheet-0"
    ],
    "slideshow": {
     "slide_type": "-"
    }
   },
   "source": [
    "---\n",
    "\n",
    "## Introduction to the assignment\n",
    "\n",
    "As with the last assignment, you will be using the [Boston Housing Prices Data Set](http://archive.ics.uci.edu/ml/datasets/Housing)."
   ]
  },
  {
   "cell_type": "code",
   "execution_count": 1,
   "metadata": {
    "autoscroll": "json-false",
    "collapsed": false,
    "ein.tags": [
     "worksheet-0"
    ],
    "slideshow": {
     "slide_type": "-"
    }
   },
   "outputs": [],
   "source": [
    "import IPython\n",
    "import numpy as np\n",
    "import scipy as sp\n",
    "import pandas as pd\n",
    "import matplotlib\n",
    "import sklearn\n",
    "\n",
    "%matplotlib inline  \n",
    "import matplotlib.pyplot as plt\n",
    "import statsmodels.api as sm\n",
    "from sklearn.linear_model import LinearRegression, LogisticRegression\n",
    "from sklearn.metrics import mean_squared_error\n",
    "import statsmodels.formula.api as smf\n",
    "from sklearn.model_selection import KFold\n",
    "from sklearn.metrics import mean_squared_error\n",
    "from statsmodels.sandbox.regression.predstd import wls_prediction_std\n",
    "import time"
   ]
  },
  {
   "cell_type": "code",
   "execution_count": 2,
   "metadata": {
    "autoscroll": "json-false",
    "collapsed": false,
    "ein.tags": [
     "worksheet-0"
    ],
    "slideshow": {
     "slide_type": "-"
    }
   },
   "outputs": [],
   "source": [
    "from sklearn.datasets import load_boston\n",
    "bdata = load_boston()"
   ]
  },
  {
   "cell_type": "markdown",
   "metadata": {
    "ein.tags": [
     "worksheet-0"
    ],
    "slideshow": {
     "slide_type": "-"
    }
   },
   "source": [
    "---\n",
    "\n",
    "## Part 1: Getting oriented\n",
    "\n",
    "Use different learning rates\n",
    "\n",
    "### 1.1 Use existing libraries\n",
    "\n",
    "Soon, you will write your own gradient descent algorithm, which you will then use to minimize the squared error cost function.  First, however, let's use the canned versions that come with Python, to make sure we understand what we're aiming to achieve.\n",
    "\n",
    "Using the same Boston housing prices dataset, use the [Linear Regression class](http://scikit-learn.org/stable/modules/generated/sklearn.linear_model.LinearRegression.html) from sklearn or the [OLS class](http://wiki.scipy.org/Cookbook/OLS) from SciPy to explore the relationship between  median housing price and number of rooms per house. Do this by first (a) regressing the housing price on the number of rooms per house, and then (b) regressing the housing price on the number of rooms per house and the (number of rooms per house) squared.  Interpret your results."
   ]
  },
  {
   "cell_type": "code",
   "execution_count": 3,
   "metadata": {
    "autoscroll": "json-false",
    "collapsed": false,
    "ein.tags": [
     "worksheet-0"
    ],
    "slideshow": {
     "slide_type": "-"
    }
   },
   "outputs": [
    {
     "name": "stdout",
     "output_type": "stream",
     "text": [
      "keys: dict_keys(['data', 'target', 'feature_names', 'DESCR'])\n",
      "feature names: ['CRIM' 'ZN' 'INDUS' 'CHAS' 'NOX' 'RM' 'AGE' 'DIS' 'RAD' 'TAX' 'PTRATIO'\n",
      " 'B' 'LSTAT']\n",
      "data shape: (506, 13)\n",
      "target shape (506,)\n",
      "--------------------------------------------------------------------------------\n"
     ]
    }
   ],
   "source": [
    "# uncomment the following if you want to see a lengthy description of the dataset\n",
    "print (\"keys:\", bdata.keys())\n",
    "print (\"feature names:\",  bdata.feature_names)\n",
    "print (\"data shape:\", bdata.data.shape)\n",
    "print (\"target shape\", bdata.target.shape)\n",
    "#print (bdata.DESCR)\n",
    "print (\"-\"*80)"
   ]
  },
  {
   "cell_type": "code",
   "execution_count": 4,
   "metadata": {
    "collapsed": true
   },
   "outputs": [],
   "source": [
    "#Combine bdata data and target values into array\n",
    "bdata_df = np.insert(bdata.data, bdata.data.shape[1],bdata.target, axis = 1)"
   ]
  },
  {
   "cell_type": "code",
   "execution_count": 5,
   "metadata": {
    "collapsed": false
   },
   "outputs": [
    {
     "name": "stdout",
     "output_type": "stream",
     "text": [
      "Intercept: [-34.67062078]\n",
      "Coefficient: [[ 9.10210898]]\n",
      "Coefficient of determination: 0.48\n"
     ]
    }
   ],
   "source": [
    "#Linear regression \n",
    "#(a) regressing the housing price on the number of rooms per house\n",
    "x = bdata_df[:, np.newaxis, 5]\n",
    "y = bdata_df[:,np.newaxis, 13]\n",
    "\n",
    "#Create linear regression object\n",
    "lm1 = LinearRegression()\n",
    "lm1.fit(x,y)\n",
    "\n",
    "#Intercept\n",
    "print('Intercept:', lm1.intercept_)\n",
    "#Coefficient\n",
    "print('Coefficient:', lm1.coef_)\n",
    "#R-squared value\n",
    "print('Coefficient of determination: %.2f' %lm1.score(x,y))"
   ]
  },
  {
   "cell_type": "markdown",
   "metadata": {},
   "source": [
    "#### Interpretation\n",
    "* An increase in 1 room per house is associated with an increase in the median housing price by $9102. \n",
    "* The intercept value of the linear regression is the median value of the house when no features are considered. A negative value for the intercept needs to be mean-centered for the interpretation to make sense. \n",
    "* The Coefficient of determination (R-squared) value = 0.48 implies the model explains 48 percent of the variability in the data."
   ]
  },
  {
   "cell_type": "code",
   "execution_count": 6,
   "metadata": {
    "collapsed": false
   },
   "outputs": [
    {
     "name": "stdout",
     "output_type": "stream",
     "text": [
      "Intercept: [ 66.05884748]\n",
      "Coefficient: [[-22.64326237   2.47012384]]\n",
      "Coefficient of determination: 0.55\n"
     ]
    }
   ],
   "source": [
    "#Linear Regression \n",
    "#(b) regressing the housing price on the number of rooms per house and the (number of rooms per house)squared.\n",
    "x1 = bdata_df[:, np.newaxis, 5]\n",
    "x2 = x1**2\n",
    "x = np.append(x1, x2,1)\n",
    "y = bdata_df[:,np.newaxis, 13]\n",
    "\n",
    "#Create linear regression object\n",
    "lm2 = LinearRegression()\n",
    "lm2.fit(x,y)\n",
    "\n",
    "#Intercept\n",
    "print('Intercept:', lm2.intercept_)\n",
    "#Coefficient\n",
    "print('Coefficient:', lm2.coef_)\n",
    "#R-squared value\n",
    "print('Coefficient of determination: %.2f' %lm2.score(x,y))"
   ]
  },
  {
   "cell_type": "markdown",
   "metadata": {},
   "source": [
    "#### Interpretation\n",
    "* Due to the squared value of rooms per house, we now have a polynomial funtion which tries to better explain the model. An increase in 1 room per house is associated with an increase in the median housing price by $2470. \n",
    "\n",
    "* The intercept value of the linear regression is the median value of the house when no features are considered and is equal to $66058.\n",
    "* The Coefficient of determination (R-squared) value = 0.55 implies the model explains 55 percent of the variability in the data which is an improvement to the earlier model of regressing housing proces on just the rooms per house."
   ]
  },
  {
   "cell_type": "markdown",
   "metadata": {
    "ein.tags": [
     "worksheet-0"
    ],
    "slideshow": {
     "slide_type": "-"
    }
   },
   "source": [
    "### 1.2 Training and testing\n",
    "\n",
    "Chances are, for the above problem you used all of your data to fit the regression line. In some circumstances this is a reasonable thing to do, but often this will result in overfitting. Let's redo the above results the ML way, using careful cross-validation.  Since you are now experts in cross-validation, and have written your own cross-validation algorithm from scratch, you can now take a shortcut and use the libraries that others have built for you.\n",
    "\n",
    "Using the [cross-validation functions](http://scikit-learn.org/stable/modules/cross_validation.html) from scikit-learn, use 250-fold cross-validation to fit regression (a) above, i.e. the linear fit of housing price on number of rooms per house.\n",
    "Each fold of cross-validation will give you one slope coefficient and one intercept coefficient.  Plot the distribution of the 250 slope coefficients, and draw a vertical line at the value of the slope coefficient that you estimated in 1.1 using the full dataset.  What do you notice?\n",
    "\n",
    "Note: please use 'random_state=1' and keep 'shuffle=False' when doing the KFold splitting to ensure reproducibility!"
   ]
  },
  {
   "cell_type": "code",
   "execution_count": 7,
   "metadata": {
    "collapsed": false
   },
   "outputs": [],
   "source": [
    "#Create data frame to store and display K-fold results\n",
    "kfold_df = pd.DataFrame(columns=['K-Fold','Slope Coefficient','Intercept Coefficient'])\n",
    "kfold_df['K-Fold']=range(1,251)"
   ]
  },
  {
   "cell_type": "code",
   "execution_count": 8,
   "metadata": {
    "autoscroll": "json-false",
    "collapsed": false,
    "ein.tags": [
     "worksheet-0"
    ],
    "slideshow": {
     "slide_type": "-"
    }
   },
   "outputs": [],
   "source": [
    "#K-Fold \n",
    "X = bdata_df[:, np.newaxis, 5]\n",
    "y = bdata_df[:,np.newaxis, 13]\n",
    "\n",
    "kf = KFold(n_splits = 250, random_state=1, shuffle=False)\n",
    "fold = 0\n",
    "slope = []\n",
    "intercept = []\n",
    "for train, test in kf.split(X):\n",
    "    fold += 1\n",
    "    X_train, X_test = X[train], X[test]\n",
    "    y_train, y_test = y[train], y[test]\n",
    "    lm_kfold = LinearRegression().fit(X_train, y_train)\n",
    "    intercept.append(float(lm_kfold.intercept_))\n",
    "    slope.append(float(lm_kfold.coef_))  \n",
    "    \n",
    "#Adding results to dataframe\n",
    "kfold_df['Slope Coefficient'] = slope\n",
    "kfold_df['Intercept Coefficient'] = intercept"
   ]
  },
  {
   "cell_type": "code",
   "execution_count": 9,
   "metadata": {
    "collapsed": false
   },
   "outputs": [
    {
     "data": {
      "text/plain": [
       "<matplotlib.text.Text at 0x285939be7b8>"
      ]
     },
     "execution_count": 9,
     "metadata": {},
     "output_type": "execute_result"
    },
    {
     "data": {
      "image/png": "[encoded data removed]",
      "text/plain": [
       "<matplotlib.figure.Figure at 0x285937fd080>"
      ]
     },
     "metadata": {},
     "output_type": "display_data"
    }
   ],
   "source": [
    "#Histogram\n",
    "ax = plt.subplot(111)\n",
    "ax.hist(kfold_df['Slope Coefficient'], bins= 30, edgecolor='black')\n",
    "plt.axvline(lm1.coef_, color = 'k')\n",
    "ax.spines['right'].set_visible(False)\n",
    "ax.spines['top'].set_visible(False)\n",
    "plt.xlabel('Slope Coefficients')\n",
    "plt.ylabel('Frequency')\n",
    "plt.title('K-Fold Frequency Distribution')"
   ]
  },
  {
   "cell_type": "markdown",
   "metadata": {},
   "source": [
    "#### What do you notice?\n",
    "After cross-validation, it is observed that the estimate of the slope co-efficient is ~ 9.1 which is equal to the estimate obtained by linear regression on the entire dataset. This helps us verify that the model from linear regression is not overfitting the data."
   ]
  },
  {
   "cell_type": "markdown",
   "metadata": {
    "ein.tags": [
     "worksheet-0"
    ],
    "slideshow": {
     "slide_type": "-"
    }
   },
   "source": [
    "### 1.3 Regression lines\n",
    "\n",
    "Create a scatterplot of housing price on rooms per house, and add the two regression lines from 1.1 (or 1.2 if you prefer to do so). Show the linear regression line in red, and the linear+quadratic regression line (which may have curvature) in blue.  Label these two regression lines with the corresponding regression equations (i.e. the slope and intercept of the line).\n",
    "\n",
    "Bonus: Add the 95% confidence bands (i.e.,  the area that has a 95% chance of containing the true regression line) to each of these lines."
   ]
  },
  {
   "cell_type": "code",
   "execution_count": 10,
   "metadata": {
    "autoscroll": "json-false",
    "collapsed": false,
    "ein.tags": [
     "worksheet-0"
    ],
    "slideshow": {
     "slide_type": "-"
    }
   },
   "outputs": [
    {
     "data": {
      "text/plain": [
       "<matplotlib.legend.Legend at 0x28593dbd4a8>"
      ]
     },
     "execution_count": 10,
     "metadata": {},
     "output_type": "execute_result"
    },
    {
     "data": {
      "image/png": "[encoded data removed]",
      "text/plain": [
       "<matplotlib.figure.Figure at 0x28593cdbd30>"
      ]
     },
     "metadata": {},
     "output_type": "display_data"
    }
   ],
   "source": [
    "#Scatterplot of housing price on rooms per house\n",
    "plt.figure(figsize=(10,10))\n",
    "X = bdata_df[:, np.newaxis, 5]\n",
    "\n",
    "# To obtain a smooth linear + quadratic regression line\n",
    "X_grid = np.arange(min(X), max(X), 0.1)\n",
    "X_grid = X_grid.reshape((len(X_grid), 1))\n",
    "y = bdata_df[:,np.newaxis, 13]\n",
    "plt.scatter(X,y, alpha=.5, color='green')\n",
    "plt.plot(X_grid, lm1.predict(X_grid),label=str(lm1.intercept_[0])+ '+ beta * ' + str(lm1.coef_[0][0])  , color='red', linewidth=1)\n",
    "plt.plot(X_grid, lm2.intercept_+(lm2.coef_[0][0]*X_grid)+(lm2.coef_[0][1]*X_grid**2), \n",
    "         label=str(lm2.intercept_[0])+ '+ beta1 * ' + str(lm2.coef_[0][0]) + '+ beta2 * ' + str(lm2.coef_[0][1]) , \n",
    "         color='blue', linewidth=1)\n",
    "plt.xlabel('Rooms per house')\n",
    "plt.ylabel('Median housing price in $1000\\'s')\n",
    "plt.title('Housing Price vs. Rooms per house')\n",
    "plt.legend(loc = 'lower right')"
   ]
  },
  {
   "cell_type": "markdown",
   "metadata": {
    "ein.tags": [
     "worksheet-0"
    ],
    "slideshow": {
     "slide_type": "-"
    }
   },
   "source": [
    "## Part 2: Gradient descent: Linear Regression\n",
    "\n",
    "This is where it gets fun!\n",
    "\n",
    "### 2.1 Implement gradient descent with one independent variable (Average rooms per house)\n",
    "\n",
    "Implement the batch gradient descent algorithm that we discussed in class. Use the version you implement to regress the housing price on the number of rooms per house. Experiment with 3-4 different values of the learning rate *R*, and do the following:\n",
    "\n",
    "* Report the values of alpha and beta that minimize the loss function\n",
    "* Report the number of iterations it takes for your algorithm to converge (for each value of *R*)\n",
    "* Report the total running time of your algorithm, in seconds\n",
    "\n",
    "Some skeleton code is provided below, but you should feel free to delete this code and start from scratch if you prefer.\n",
    "\n",
    "* *Hint 1: Don't forget to implement a stopping condition, so that at every iteration you check whether your results have converged. Common approaches to this are to (a) check to see if the loss has stopped decreasing; and (b) check if both your current parameter esimates are close to the estimates from the previous iteration.  In both cases, \"close\" should not be ==0, it should be <=epsilon, where epsilon is something very small (like 0.0001).*\n",
    "* *Hint 2: It is always useful to include maximum number of iterations, otherwise a rogue estimation may go on forever.*"
   ]
  },
  {
   "cell_type": "code",
   "execution_count": 13,
   "metadata": {
    "autoscroll": "json-false",
    "collapsed": false,
    "ein.tags": [
     "worksheet-0"
    ],
    "slideshow": {
     "slide_type": "-"
    }
   },
   "outputs": [
    {
     "data": {
      "text/plain": [
       "'\\n    Function\\n    --------\\n    bivariate_ols: Gradient Decent to minimize OLS. Used to find coefficients of bivariate OLS Linear regression\\n\\n    Parameters\\n    ----------\\n    xvalues, yvalues : narray xvalues: independent variable; yvalues: dependent variable\\n    R: float, Learning rate\\n    MaxIterations: Int, maximum number of iterations\\n\\n    Returns\\n    -------\\n    alpha: float, intercept\\n    beta: float, co-efficient\\n    ttaken: time taken\\n    it: number of iterations\\n    convergence: logical, convergence achieved?\\n'"
      ]
     },
     "execution_count": 13,
     "metadata": {},
     "output_type": "execute_result"
    }
   ],
   "source": [
    "\"\"\"\n",
    "    Function\n",
    "    --------\n",
    "    bivariate_ols: Gradient Decent to minimize OLS. Used to find coefficients of bivariate OLS Linear regression\n",
    "\n",
    "    Parameters\n",
    "    ----------\n",
    "    xvalues, yvalues : narray xvalues: independent variable; yvalues: dependent variable\n",
    "    R: float, Learning rate\n",
    "    MaxIterations: Int, maximum number of iterations\n",
    "\n",
    "    Returns\n",
    "    -------\n",
    "    alpha: float, intercept\n",
    "    beta: float, co-efficient\n",
    "    ttaken: time taken\n",
    "    it: number of iterations\n",
    "    convergence: logical, convergence achieved?\n",
    "\"\"\""
   ]
  },
  {
   "cell_type": "code",
   "execution_count": 11,
   "metadata": {
    "collapsed": true
   },
   "outputs": [],
   "source": [
    "#Gradient descent wih one independent variable\n",
    "def bivariate_ols(xvalues, yvalues, R, MaxIterations):\n",
    "    start_time = time.time()\n",
    "    xTrans = xvalues.transpose()\n",
    "    n = len(xvalues)\n",
    "    eps= 0.0001\n",
    "    m = xvalues.shape[1]\n",
    "    beta = np.zeros(m)\n",
    "    prev = np.zeros(m+1)\n",
    "    for i in range(0,MaxIterations):\n",
    "        hypothesis = np.dot(xvalues, beta)\n",
    "        loss = hypothesis - yvalues\n",
    "        cost = np.sum(loss ** 2) / (2 * n)\n",
    "        gradient = np.dot(xTrans, loss)/n\n",
    "        beta = beta - R*gradient\n",
    "        diff = prev - np.asarray([beta[0],beta[1], cost])\n",
    "        if (abs(diff[0]) < eps and abs(diff[1]) < eps and abs(diff[2]) < eps):\n",
    "            elapsed_time = time.time() - start_time\n",
    "            return beta[0], beta[1], elapsed_time, i-1, True\n",
    "        prev = np.asarray([beta[0],beta[1], cost])\n",
    "        elapsed_time = round(time.time() - start_time,2)\n",
    "    return(beta[0], beta[1], elapsed_time, i, False)"
   ]
  },
  {
   "cell_type": "code",
   "execution_count": 12,
   "metadata": {
    "collapsed": false
   },
   "outputs": [
    {
     "name": "stdout",
     "output_type": "stream",
     "text": [
      "Learning rate R: 0.001 and MaxIterations: 50000\n",
      "Gradient descent failed to converge\n",
      "\n",
      "The gradient descent obtained for R: 0.010 and MaxIterations: 50000\n",
      "Alpha: -33.839101\n",
      "Beta: 8.971390\n",
      "Time taken: 1.656590\n",
      "Iterations: 31155.000000\n",
      "Convergence: True \n",
      "\n",
      "The gradient descent obtained for R: 0.030 and MaxIterations: 50000\n",
      "Alpha: -34.393490\n",
      "Beta: 9.058543\n",
      "Time taken: 0.779856\n",
      "Iterations: 13428.000000\n",
      "Convergence: True \n",
      "\n"
     ]
    },
    {
     "name": "stderr",
     "output_type": "stream",
     "text": [
      "C:\\Users\\vanlo\\Anaconda3\\lib\\site-packages\\ipykernel\\__main__.py:16: RuntimeWarning: invalid value encountered in subtract\n",
      "C:\\Users\\vanlo\\Anaconda3\\lib\\site-packages\\ipykernel\\__main__.py:13: RuntimeWarning: overflow encountered in square\n",
      "C:\\Users\\vanlo\\Anaconda3\\lib\\site-packages\\ipykernel\\__main__.py:15: RuntimeWarning: invalid value encountered in subtract\n"
     ]
    },
    {
     "name": "stdout",
     "output_type": "stream",
     "text": [
      "Learning rate R: 0.050 and MaxIterations: 50000\n",
      "Gradient descent failed to converge\n",
      "\n",
      "Learning rate R: 0.100 and MaxIterations: 50000\n",
      "Gradient descent failed to converge\n",
      "\n"
     ]
    }
   ],
   "source": [
    "#Run the gradient descent algo for different R\n",
    "xvalues = np.append(np.ones((bdata_df.shape[0],1)),bdata_df[:, np.newaxis, 5],1)\n",
    "yvalues = bdata_df[:,13]\n",
    "MaxIterations = 50000\n",
    "R = [0.001,0.01,0.03, 0.05, 0.1]\n",
    "for i in R:\n",
    "    alpha, beta, ttaken, it, convergence = bivariate_ols(xvalues, yvalues, i, MaxIterations)\n",
    "    if convergence == True:\n",
    "        print('The gradient descent obtained for R: %.3f and MaxIterations: %d' %(i,MaxIterations))\n",
    "        print('Alpha: %f' %alpha)\n",
    "        print('Beta: %f' %beta)\n",
    "        print('Time taken: %f' %ttaken)\n",
    "        print('Iterations: %f' %it)\n",
    "        print(\"Convergence:\", convergence,\"\\n\")\n",
    "    else:\n",
    "        print('Learning rate R: %.3f and MaxIterations: %d' %(i,MaxIterations))\n",
    "        print('Gradient descent failed to converge\\n')"
   ]
  },
  {
   "cell_type": "markdown",
   "metadata": {
    "ein.tags": [
     "worksheet-0"
    ],
    "slideshow": {
     "slide_type": "-"
    }
   },
   "source": [
    "### 2.2 Data normalization (done for you!)\n",
    "\n",
    "Soon, you will implement a version of gradient descent that can use an arbitrary number of independent variables. Before doing this, we want to give you some code in case you want to standardize your features."
   ]
  },
  {
   "cell_type": "code",
   "execution_count": 13,
   "metadata": {
    "autoscroll": "json-false",
    "collapsed": false,
    "ein.tags": [
     "worksheet-0"
    ],
    "slideshow": {
     "slide_type": "-"
    }
   },
   "outputs": [],
   "source": [
    "def standardize(raw_data):\n",
    "    \"\"\"\n",
    "    standardizes raw data and returns\n",
    "    standardized data, mean by column, sd by column\n",
    "    \"\"\"\n",
    "    mu = np.mean(raw_data, axis = 0)\n",
    "    sd = np.std(raw_data, axis = 0)\n",
    "    return (raw_data - mu) / sd, mu, sd"
   ]
  },
  {
   "cell_type": "markdown",
   "metadata": {
    "ein.tags": [
     "worksheet-0"
    ],
    "slideshow": {
     "slide_type": "-"
    }
   },
   "source": [
    "### 2.3 Implement gradient descent with an arbitrary number of independent variables\n",
    "\n",
    "Now that you have a simple version of gradient descent working, create a version of gradient descent that can take more than one independent variable.  Assume all independent variables will be continuous.  Test your algorithm using CRIM and RM as independent variables. Standardize these variables before before inputting them to the gradient descent algorithm. \n",
    "\n",
    "As before,  report and interpret your estimated coefficients, the number of iterations before convergence, and the total running time of your algorithm. Experiment with the following values of R: 0.1, 0.01, and 0.001.\n",
    "\n",
    "* *Hint 1: Be careful to implement this efficiently, otherwise it might take a long time for your code to run. Commands like `np.dot` can be a good friend to you on this problem*"
   ]
  },
  {
   "cell_type": "code",
   "execution_count": 17,
   "metadata": {
    "autoscroll": "json-false",
    "collapsed": false,
    "ein.tags": [
     "worksheet-0"
    ],
    "slideshow": {
     "slide_type": "-"
    }
   },
   "outputs": [
    {
     "data": {
      "text/plain": [
       "'\\nFunction\\n--------\\nmultiple_ols\\n    Gradient Decent to minimize OLS. Used to find co-efficients of bivariate OLS Linear regression\\n\\nParameters\\n----------\\nxvalue_matrix, yvalues : narray\\n    xvalue_matrix: independent variable\\n    yvalues: dependent variable\\n    \\nR: float\\n    Learning rate\\n    \\nMaxIterations: Int\\n    maximum number of iterations\\n\\nReturns\\n-------\\nbeta: array[float], coefficients\\n'"
      ]
     },
     "execution_count": 17,
     "metadata": {},
     "output_type": "execute_result"
    }
   ],
   "source": [
    "\"\"\"\n",
    "Function\n",
    "--------\n",
    "multiple_ols\n",
    "    Gradient Decent to minimize OLS. Used to find co-efficients of bivariate OLS Linear regression\n",
    "\n",
    "Parameters\n",
    "----------\n",
    "xvalue_matrix, yvalues : narray\n",
    "    xvalue_matrix: independent variable\n",
    "    yvalues: dependent variable\n",
    "    \n",
    "R: float\n",
    "    Learning rate\n",
    "    \n",
    "MaxIterations: Int\n",
    "    maximum number of iterations\n",
    "\n",
    "Returns\n",
    "-------\n",
    "beta: array[float], coefficients\n",
    "\"\"\"\n"
   ]
  },
  {
   "cell_type": "code",
   "execution_count": 14,
   "metadata": {
    "collapsed": false
   },
   "outputs": [],
   "source": [
    "def multiple_ols(xvalues_matrix, yvalues, R, MaxIterations):\n",
    "    xTrans = xvalues_matrix.transpose()\n",
    "    n = len(xvalues_matrix)\n",
    "    eps = 0.0001\n",
    "    m = xvalues_matrix.shape[1]\n",
    "    beta = np.zeros(m)\n",
    "    beta_init = beta[1:]\n",
    "    cost_init = 0\n",
    "    alpha_init = beta[0]\n",
    "    start_time = time.time()\n",
    "    for i in range(0,MaxIterations):\n",
    "        hypothesis = np.dot(xvalues_matrix, beta)\n",
    "        loss = hypothesis - yvalues\n",
    "        cost = np.sum(loss ** 2) / (2 * n)\n",
    "        gradient = np.dot(xTrans, loss)/n\n",
    "        beta = beta - R*gradient\n",
    "        if np.around(abs(beta_init - beta[1:]),decimals=4).all() < eps and (abs(alpha_init - beta[0]) < eps) and (abs(cost_init - cost) < eps):\n",
    "            elapsed_time = time.time() - start_time\n",
    "            return alpha_init,beta_init, elapsed_time, i-1, True\n",
    "        else:\n",
    "            beta_init = beta[1:]\n",
    "            alpha_init = beta[0]\n",
    "            cost_init = cost\n",
    "    elapsed_time = round(time.time() - start_time,2)\n",
    "    return(beta[0],beta[1], elapsed_time, i, False)"
   ]
  },
  {
   "cell_type": "code",
   "execution_count": 15,
   "metadata": {
    "collapsed": false
   },
   "outputs": [],
   "source": [
    "#CRIM and RM as features\n",
    "xvalues_matrix = bdata_df[:, (0,5)]\n",
    "yvalues = bdata_df[:,13]\n",
    "\n",
    "MaxIterations = 50000\n",
    "\n",
    "#Standardize features\n",
    "norm_x, mu_x, sd_x = standardize(xvalues_matrix)\n",
    "\n",
    "#Append column of one's\n",
    "xvalues_norm = np.append(np.ones((norm_x.shape[0],1)),norm_x,1)"
   ]
  },
  {
   "cell_type": "code",
   "execution_count": 20,
   "metadata": {
    "collapsed": false
   },
   "outputs": [
    {
     "name": "stdout",
     "output_type": "stream",
     "text": [
      "The gradient descent obtained for R: 0.100 and MaxIterations: 50000\n",
      "Alpha: 22.532067\n",
      "Beta: [-2.24923441  5.89376778]\n",
      "Time taken: 0.005014\n",
      "Iterations: 97.000000\n",
      "Convergence: True \n",
      "\n",
      "The gradient descent obtained for R: 0.010 and MaxIterations: 50000\n",
      "Alpha: 22.522892\n",
      "Beta: [-2.25270474  5.88967325]\n",
      "Time taken: 0.032085\n",
      "Iterations: 768.000000\n",
      "Convergence: True \n",
      "\n",
      "The gradient descent obtained for R: 0.001 and MaxIterations: 50000\n",
      "Alpha: 22.432822\n",
      "Beta: [-2.26976826  5.86229036]\n",
      "Time taken: 0.203551\n",
      "Iterations: 5414.000000\n",
      "Convergence: True \n",
      "\n"
     ]
    }
   ],
   "source": [
    "R= [0.1, 0.01, 0.001]\n",
    "for i in R:\n",
    "    alpha, beta, ttaken, it, convergence = multiple_ols(xvalues_norm, yvalues, i, MaxIterations)\n",
    "    print('The gradient descent obtained for R: %.3f and MaxIterations: %d' %(i,MaxIterations))\n",
    "    print('Alpha: %f' %alpha)\n",
    "    print('Beta:', beta)   \n",
    "    print('Time taken: %f' %ttaken)\n",
    "    print('Iterations: %f' %it)\n",
    "    print(\"Convergence:\", convergence,\"\\n\")"
   ]
  },
  {
   "cell_type": "markdown",
   "metadata": {
    "ein.tags": [
     "worksheet-0"
    ],
    "slideshow": {
     "slide_type": "-"
    }
   },
   "source": [
    "### 2.4 Compare standardized vs. non-standardized results\n",
    "\n",
    "Repeat the analysis from 2.3, but this time do not standardize your variables - i.e., use the original data. Use the same three values of R (0.1, 0.01, and 0.001). What do you notice about the running time and convergence properties of your algorithm?"
   ]
  },
  {
   "cell_type": "code",
   "execution_count": 16,
   "metadata": {
    "collapsed": true
   },
   "outputs": [],
   "source": [
    "xvalues_matrix = np.append(np.ones((bdata_df.shape[0],1)),bdata_df[:, (0,5)],1)\n",
    "yvalues = bdata_df[:,13]\n",
    "MaxIterations = 200000"
   ]
  },
  {
   "cell_type": "code",
   "execution_count": 17,
   "metadata": {
    "collapsed": false
   },
   "outputs": [
    {
     "name": "stderr",
     "output_type": "stream",
     "text": [
      "C:\\Users\\vanlo\\Anaconda3\\lib\\site-packages\\ipykernel\\__main__.py:14: RuntimeWarning: overflow encountered in square\n",
      "C:\\Users\\vanlo\\Anaconda3\\lib\\site-packages\\numpy\\core\\fromnumeric.py:2822: RuntimeWarning: overflow encountered in multiply\n",
      "  return round(decimals, out)\n",
      "C:\\Users\\vanlo\\Anaconda3\\lib\\site-packages\\ipykernel\\__main__.py:16: RuntimeWarning: invalid value encountered in subtract\n"
     ]
    },
    {
     "name": "stdout",
     "output_type": "stream",
     "text": [
      "Learning rate R: 0.100 and MaxIterations: 200000\n",
      "Gradient descent failed to converge\n",
      "\n",
      "The gradient descent obtained for R: 0.010 and MaxIterations: 200000\n",
      "Alpha: -28.409167\n",
      "Beta: [-0.26480411  8.25881216]\n",
      "Time taken: 1.175690\n",
      "Iterations: 31337.000000\n",
      "Convergence: True \n",
      "\n",
      "The gradient descent obtained for R: 0.001 and MaxIterations: 200000\n",
      "Alpha: -20.375628\n",
      "Beta: [-0.29163813  7.01019483]\n",
      "Time taken: 3.962772\n",
      "Iterations: 107856.000000\n",
      "Convergence: True \n",
      "\n"
     ]
    }
   ],
   "source": [
    "R= [0.1, 0.01, 0.001]\n",
    "for i in R:\n",
    "    alpha, beta, ttaken, it, convergence = multiple_ols(xvalues_matrix, yvalues, i, MaxIterations)\n",
    "    if convergence == True:\n",
    "        print('The gradient descent obtained for R: %.3f and MaxIterations: %d' %(i,MaxIterations))\n",
    "        print('Alpha: %f' %alpha)\n",
    "        print('Beta:', beta)   \n",
    "        print('Time taken: %f' %ttaken)\n",
    "        print('Iterations: %f' %it)\n",
    "        print(\"Convergence:\", convergence,\"\\n\")\n",
    "    else:\n",
    "        print('Learning rate R: %.3f and MaxIterations: %d' %(i,MaxIterations))\n",
    "        print('Gradient descent failed to converge\\n')"
   ]
  },
  {
   "cell_type": "markdown",
   "metadata": {},
   "source": [
    "#### What do you notice about the running time and convergence properties of your algorithm?\n",
    "* For Learning Rate R = 0.01, the time taken to converge (time taken = 1.17 s) is longer than the one obtained for the standardized results (time taken = 0.032 s)\n",
    "* For non-standardized results, the algorithm fails to converge on large values of Learning rate (R = 0.1). Also, for R = 0.01 and R = 0.001, the number of iterations taken to converge are much larger than for the standardized results."
   ]
  },
  {
   "cell_type": "markdown",
   "metadata": {
    "ein.tags": [
     "worksheet-0"
    ],
    "slideshow": {
     "slide_type": "-"
    }
   },
   "source": [
    "## 3. Prediction\n",
    "\n",
    "Let's use our fitted model to make predictions about housing prices. Since the focus is now on prediction rather than the interpretation of the coefficients, first standardize your features before proceeding.\n",
    "\n",
    "### 3.1 Cross-Validation\n",
    "\n",
    "Unless you were careful above, you probably overfit your data again. Let's fix that in one of two ways. If you're feeling confident, use k-fold cross-validation to re-fit the multiple regression from 2.3 above, and report your estimated coefficients (there should be three, corresponding to the intercept and the two coefficients for CRIM and RM). Or if you want to do the quick and dirty version, randomly divide your data into a training set (66%) and testing set (34%) and use the training set to re-fit the regression from 2.3 above. "
   ]
  },
  {
   "cell_type": "code",
   "execution_count": 19,
   "metadata": {
    "autoscroll": "json-false",
    "collapsed": false,
    "ein.tags": [
     "worksheet-0"
    ],
    "slideshow": {
     "slide_type": "-"
    }
   },
   "outputs": [],
   "source": [
    "#Standarize features\n",
    "X = bdata_df[:,0:13]\n",
    "norm_df_x, mu_df_x, sd_df_x = standardize(X)\n",
    "\n",
    "yvalues = bdata_df[:,np.newaxis,13]\n",
    "\n",
    "#Append y values to standardized features\n",
    "norm_df = np.append(norm_df_x,yvalues,axis = 1)"
   ]
  },
  {
   "cell_type": "code",
   "execution_count": 20,
   "metadata": {
    "collapsed": true
   },
   "outputs": [],
   "source": [
    "#Function to split data into training and testing set\n",
    "def train_test_split(data, percentage):\n",
    "    np.random.shuffle(data)\n",
    "    bdata_train = data[0:np.int(data.shape[0] * percentage),:]\n",
    "    bdata_test = data[np.int(data.shape[0] * percentage):data.shape[0],:]\n",
    "    return bdata_train, bdata_test  "
   ]
  },
  {
   "cell_type": "code",
   "execution_count": 32,
   "metadata": {
    "collapsed": false
   },
   "outputs": [],
   "source": [
    "# Split data into training set (66%)\n",
    "train, test = train_test_split(norm_df, 0.66)"
   ]
  },
  {
   "cell_type": "code",
   "execution_count": 33,
   "metadata": {
    "collapsed": false
   },
   "outputs": [],
   "source": [
    "#Extract features CRIM and RM\n",
    "xvalues_matrix = train[:, (0,5)]\n",
    "\n",
    "#Append column of one's\n",
    "xvalues_matrix = np.append(np.ones((xvalues_matrix.shape[0],1)),xvalues_matrix,1)\n",
    "\n",
    "yvalues = train[:,13]\n",
    "MaxIterations = 50000\n",
    "R = 0.01"
   ]
  },
  {
   "cell_type": "code",
   "execution_count": 34,
   "metadata": {
    "collapsed": false
   },
   "outputs": [
    {
     "name": "stdout",
     "output_type": "stream",
     "text": [
      "The gradient descent obtained for R: 0.010000 and MaxIterations: 50000\n",
      "Alpha: 22.698124\n",
      "Beta: [-2.26414231  5.84458241]\n",
      "Time taken: 0.038101\n",
      "Iterations: 878.000000\n",
      "Convergence: True \n",
      "\n"
     ]
    }
   ],
   "source": [
    "alpha, beta, ttaken, it, convergence = multiple_ols(xvalues_matrix, yvalues, R, MaxIterations)\n",
    "print('The gradient descent obtained for R: %f and MaxIterations: %d' %(R,MaxIterations))\n",
    "print('Alpha: %f' %alpha)\n",
    "print('Beta:', beta)  \n",
    "print('Time taken: %f' %ttaken)\n",
    "print('Iterations: %f' %it)\n",
    "print(\"Convergence:\", convergence,\"\\n\")"
   ]
  },
  {
   "cell_type": "markdown",
   "metadata": {
    "ein.tags": [
     "worksheet-0"
    ],
    "slideshow": {
     "slide_type": "-"
    }
   },
   "source": [
    "### 3.2 Predicted values and RMSE\n",
    "\n",
    "Let's figure out how accurate this predictive model turned out to be. Compute the RMSE on your test cases, i.e. take the model parameters that you found above and compare the actual to the predicted values for just the test instances. If you did this the k-fold way above, this will be the average RMSE across the k test sets. If you did this the quick and dirty way above, this will just be the RMSE on your single test set.\n",
    "\n",
    "What is your test RMSE?  How does it compare to the performance of your nearest neighbor algorithm from the last problem set?  How does it compare to RMSE from a simpler model where number of rooms is the only explanatory variable?"
   ]
  },
  {
   "cell_type": "code",
   "execution_count": 29,
   "metadata": {
    "autoscroll": "json-false",
    "collapsed": false,
    "ein.tags": [
     "worksheet-0"
    ],
    "slideshow": {
     "slide_type": "-"
    }
   },
   "outputs": [],
   "source": [
    "# Function : Compute RMSE\n",
    "def compute_rmse(predictions,yvalues):\n",
    "    x = np.square(np.asarray(predictions)- np.asarray(yvalues))\n",
    "    s = x.size + 0.0\n",
    "    y = np.sqrt(np.sum(x) * np.reciprocal(s))\n",
    "    return (round(y,2))    "
   ]
  },
  {
   "cell_type": "code",
   "execution_count": 35,
   "metadata": {
    "collapsed": false
   },
   "outputs": [
    {
     "name": "stdout",
     "output_type": "stream",
     "text": [
      "The gradient descent obtained for R: 0.010000 and MaxIterations: 50000\n",
      "Alpha: 22.698124\n",
      "Beta: [-2.26414231  5.84458241]\n",
      "Time taken: 0.040106\n",
      "Iterations: 878.000000\n",
      "Convergence: True\n",
      "Test RMSE: 6.13 \n",
      "\n"
     ]
    }
   ],
   "source": [
    "#Extract features CRIM and RM\n",
    "xvalues_matrix = train[:, (0,5)]\n",
    "#Append column of one's\n",
    "xvalues_matrix = np.append(np.ones((xvalues_matrix.shape[0],1)),xvalues_matrix,1)\n",
    "yvalues = train[:,13]\n",
    "MaxIterations = 50000\n",
    "R = 0.01\n",
    "\n",
    "alpha, beta, ttaken, it, convergence = multiple_ols(xvalues_matrix, yvalues, R, MaxIterations)\n",
    "print('The gradient descent obtained for R: %f and MaxIterations: %d' %(R,MaxIterations))\n",
    "print('Alpha: %f' %alpha)\n",
    "print('Beta:', beta)  \n",
    "print('Time taken: %f' %ttaken)\n",
    "print('Iterations: %f' %it)\n",
    "print(\"Convergence:\", convergence)\n",
    "rmse = compute_rmse(alpha + test[:,0]*beta[0] + test[:,5]*beta[1], test[:,13])\n",
    "print('Test RMSE:',rmse,\"\\n\")"
   ]
  },
  {
   "cell_type": "markdown",
   "metadata": {},
   "source": [
    "#### What is your test RMSE?  \n",
    "Test RMSE = 6.13\n",
    "\n",
    "#### How does it compare to the performance of your nearest neighbor algorithm from the last problem set?  \n",
    "Comparing this model to the Nearest neighbour algorithm with normalized input, \n",
    "* The RMSE value obtained then was 7.73 with time taken = 3.35 seconds\n",
    "* The RMSE value obtained via gradient descent algorithm here is comparatively lower with 6.13 in a considerably shorter time period of 0.04 seconds."
   ]
  },
  {
   "cell_type": "code",
   "execution_count": 42,
   "metadata": {
    "collapsed": false
   },
   "outputs": [
    {
     "name": "stdout",
     "output_type": "stream",
     "text": [
      "The gradient descent obtained for R: 0.01 and MaxIterations: 50000\n",
      "Alpha: 22.717424\n",
      "Beta: 6.35334967053\n",
      "Time taken: 0.195149\n",
      "Iterations: 5420.000000\n",
      "Convergence: True\n",
      "RMSE: 6.81 \n",
      "\n"
     ]
    }
   ],
   "source": [
    "# Calcuting RMSE with Number of Rooms as the only explanatory variable\n",
    "\n",
    "#RM Feature and appending column of one's\n",
    "xvalues = train[:, 5]\n",
    "xvalues = np.append(np.ones((xvalues.shape[0],1)),xvalues[:, np.newaxis],1)\n",
    "\n",
    "yvalues = train[:,13]\n",
    "\n",
    "R = 0.01\n",
    "MaxIterations = 50000\n",
    "alpha, beta, ttaken, it, convergence = bivariate_ols(xvalues, yvalues, i, MaxIterations)\n",
    "print('The gradient descent obtained for R: %.2f and MaxIterations: %d' %(R,MaxIterations))\n",
    "print('Alpha: %f' %alpha)\n",
    "print('Beta:', beta)  \n",
    "print('Time taken: %f' %ttaken)\n",
    "print('Iterations: %f' %it)\n",
    "print(\"Convergence:\", convergence)\n",
    "rmse = compute_rmse(alpha + test[:,5]*beta, test[:,13])\n",
    "print('RMSE:',rmse,\"\\n\")"
   ]
  },
  {
   "cell_type": "markdown",
   "metadata": {},
   "source": [
    "#### How does it compare to RMSE from a simpler model where number of rooms is the only explanatory variable?\n",
    "The RMSE obtained with CRIM and RM is lower than the RMSE obtained from a simpler model with RM as the only explanatory variable:\n",
    "* Test RMSE with CRIM and RM = 6.13\n",
    "* Test RMSE with RM = 6.81\n",
    "\n",
    "\n",
    "The lower RMSE when two features are considered is likely due the model explaining the data better than with one explanatory variable. Therefore, the predicted values are closer to the actual values returning a lower RMSE value."
   ]
  },
  {
   "cell_type": "markdown",
   "metadata": {
    "ein.tags": [
     "worksheet-0"
    ],
    "slideshow": {
     "slide_type": "-"
    }
   },
   "source": [
    "## 4 Regularization \n",
    "\n",
    "### 4.1 Get prepped\n",
    "\n",
    "Step 1: Create new interaction variables between each possible pair of the F_s features.  Note: as all the original features are numeric, you can just multiply.  If you originally had *K* features, you should now have K+(K*(K+1))/2 features. Standardize all of your features.\n",
    "\n",
    "Step 2: For simplicity, generate a single training and testing set.  Randomly sample 66% of your data and call this the training set, and set aside the remaining 34% as your test set."
   ]
  },
  {
   "cell_type": "code",
   "execution_count": 49,
   "metadata": {
    "autoscroll": "json-false",
    "collapsed": false,
    "ein.tags": [
     "worksheet-0"
    ],
    "slideshow": {
     "slide_type": "-"
    }
   },
   "outputs": [],
   "source": [
    "from sklearn.model_selection import train_test_split\n",
    "from sklearn.preprocessing import PolynomialFeatures\n",
    "\n",
    "#Step 1 :Interaction variables\n",
    "# create interaction terms \n",
    "X = bdata_df[:,0:13]\n",
    "y = bdata_df[:,13]\n",
    "poly = PolynomialFeatures(degree = 2,interaction_only = False, include_bias = False)\n",
    "int_features = poly.fit_transform(X)\n",
    "\n",
    "#Standaradize features\n",
    "norm_df, mu_df, sd_df=standardize(int_features)\n",
    "\n",
    "#Step 2 : Generate training and testing set\n",
    "train_X, test_X, train_y, test_y = train_test_split(norm_df, y, test_size = 0.34)"
   ]
  },
  {
   "cell_type": "markdown",
   "metadata": {
    "ein.tags": [
     "worksheet-0"
    ],
    "slideshow": {
     "slide_type": "-"
    }
   },
   "source": [
    "### 4.2 Let's overfit!\n",
    "Now, using your version of multiple regression from 2.3, let's overfit the training data. Using your training set, regress housing price on as many of those K+(K*(K+1))/2 features as you can.  If you get too greedy, it's possible this will take a long time to compute, so start with 5-10 features, and if you have the time, add more features.\n",
    "\n",
    "Report the RMSE when you apply your model to your training set and to your testing set. How do these numbers compare to each other, and to the RMSE from 3.2 and nearest neighbors?"
   ]
  },
  {
   "cell_type": "code",
   "execution_count": 50,
   "metadata": {
    "collapsed": false
   },
   "outputs": [],
   "source": [
    "#Features\n",
    "# Append column of one's\n",
    "xvalues_matrix = np.append(np.ones((train_X.shape[0],1)),train_X,1)\n",
    "yvalues = train_y\n",
    "R = 0.1\n",
    "MaxIterations = 50000"
   ]
  },
  {
   "cell_type": "code",
   "execution_count": 51,
   "metadata": {
    "collapsed": false
   },
   "outputs": [
    {
     "name": "stdout",
     "output_type": "stream",
     "text": [
      "RMSE on training data: 3.77\n",
      "RMSE on test data: 4.86 \n",
      "\n"
     ]
    }
   ],
   "source": [
    "#Consider first 45 features\n",
    "alpha, beta, ttaken, it, convergence = multiple_ols(xvalues_matrix[:,0:46], yvalues, R, MaxIterations)\n",
    "predicted_y_train = alpha + np.dot(train_X[:,0:45],beta)\n",
    "predicted_y_test = alpha + np.dot(test_X[:,0:45],beta)\n",
    "rmse_poly = compute_rmse(predicted_y_train, train_y)\n",
    "print('RMSE on training data:',rmse_poly)\n",
    "rmse_poly = compute_rmse(predicted_y_test, test_y)\n",
    "print('RMSE on test data:',rmse_poly,'\\n')"
   ]
  },
  {
   "cell_type": "markdown",
   "metadata": {},
   "source": [
    "#### How do these numbers compare to each other, and to the RMSE from 3.2 and nearest neighbors?\n",
    "* The RMSE on the training data is lower than the RMSE on the test data which implies that the model explains the training data comparatively well but performs considerably less on the test data, which is expected.\n",
    "\n",
    "---\n",
    "* RMSE obtained in 3.2 = 6.13\n",
    "* RMSE obtained in Nearest neighbour = 7.73 \n",
    "\n",
    "The RMSE value obtained on the test data with the overfit model is lower than the one obtained in Nearest Neighbour and 3.2"
   ]
  },
  {
   "cell_type": "markdown",
   "metadata": {
    "ein.tags": [
     "worksheet-0"
    ],
    "slideshow": {
     "slide_type": "-"
    }
   },
   "source": [
    "### 4.3 Ridge regularization\n",
    "a) Incorporate L2 (Ridge) regularization into your multiple_ols regression. Write a new version of your gradient descent algorithm that includes a regularization term \"lambda\" to penalize excessive complexity. \n",
    "\n",
    "b) Use your regularized regression to re-fit the model from 4.2 above on your training data. Try this for several different values of lambda, and report your RMSE for each lambda separately for your training and testing data. How do these numbers compare to each other, to the RMSE from 4.2,  to the RMSE from 2.3, and to the RMSE from nearest neighbors?\n",
    "\n",
    "c) Go brag to your friends about how you just implemented ridge-regularized multiple regression using gradient descent optimization, from scratch (if you still have any friends left...)"
   ]
  },
  {
   "cell_type": "code",
   "execution_count": 52,
   "metadata": {
    "autoscroll": "json-false",
    "collapsed": false,
    "ein.tags": [
     "worksheet-0"
    ],
    "slideshow": {
     "slide_type": "-"
    }
   },
   "outputs": [],
   "source": [
    "#(a)\n",
    "def ridge_ols(xvalues_matrix,yvalues, R, MaxIterations,L):\n",
    "    start_time = time.time()\n",
    "    xtrans = xvalues_matrix.transpose()\n",
    "    n = len(xvalues_matrix)\n",
    "    eps = 0.0001\n",
    "    m = xvalues_matrix.shape[1]\n",
    "    beta = np.zeros(m)\n",
    "    beta_init = beta[1:]\n",
    "    cost_init = 0\n",
    "    alpha_init = beta[0]    \n",
    "    for i in range(0,MaxIterations):\n",
    "        hypothesis = np.dot(xvalues_matrix, beta)\n",
    "        loss = hypothesis - yvalues\n",
    "        cost = np.sum(loss ** 2) / (2 * n) + L * np.dot(beta[0:].T, beta[0:])\n",
    "        #cost = np.sum(loss**2)/(2*m) + L * np.dot(beta[1:].T, beta[1:])\n",
    "        gradient = np.dot(xtrans,loss)/n\n",
    "        ridge = (L/n)*beta\n",
    "        beta = beta - R*(gradient + ridge)\n",
    "#       print(\"Iteration %d with Cost: %f and Alpha: %f and Beta1: %f and Beta2: %f\" %(iter+1 , cost, beta[0],beta[1],beta[2]))\n",
    "        if np.around(abs(beta_init - beta[1:]),decimals=4).all() < eps and (abs(alpha_init - beta[0]) < eps) and (abs(cost_init - cost) < eps):\n",
    "            elapsed_time = time.time() - start_time\n",
    "            return alpha_init,beta_init, elapsed_time, i-1, True\n",
    "        else:\n",
    "            beta_init = beta[1:]\n",
    "            alpha_init = beta[0]\n",
    "            cost_init = cost\n",
    "    elapsed_time = time.time() - start_time\n",
    "    return(beta[0],beta[1], elapsed_time, i, False)"
   ]
  },
  {
   "cell_type": "code",
   "execution_count": 53,
   "metadata": {
    "collapsed": false
   },
   "outputs": [
    {
     "name": "stdout",
     "output_type": "stream",
     "text": [
      "Lambda: 1e-10\n",
      "The gradient descent obtained for R: 0.100 and MaxIterations: 100000\n",
      "Alpha: 22.467951\n",
      "Beta: [  6.93455261  -5.57882069  11.2071896   -0.38134438  -2.89978893\n",
      "   5.59451582  -1.01616167  -1.20278885   4.39858176  -2.90550491\n",
      "  -2.27237481   1.59523409  -2.64472008   1.89672871   0.70289883\n",
      "   5.1385715    0.51503131  -1.78606174 -15.31358913   3.77483375\n",
      "  -1.50120649  -3.3426936    1.26887073   5.37428356  -2.15443739\n",
      "  -3.01762205   2.43078419  -0.22153813   0.26396211  -0.05877346\n",
      "   2.09143161   0.80249366  -0.32797395  -0.79091001   0.1583821\n",
      "   4.86129072  -3.59037807  -0.3564038   -1.94961407   0.60364752\n",
      "   0.77058668  -7.8226385    1.47182783  -1.4884083    0.1997115 ]\n",
      "Time taken: 0.413153\n",
      "Iterations: 4271.000000\n",
      "Convergence: True\n",
      "RMSE on training data: 3.77\n",
      "RMSE on test data: 4.86 \n",
      "\n",
      "Lambda: 1e-06\n",
      "The gradient descent obtained for R: 0.100 and MaxIterations: 100000\n",
      "Alpha: 22.467975\n",
      "Beta: [  6.92989046  -5.5755188   11.20126159  -0.38121084  -2.89987824\n",
      "   5.59375862  -1.01623509  -1.20405118   4.39746881  -2.90541865\n",
      "  -2.27235261   1.59515348  -2.64514297   1.89638237   0.70287143\n",
      "   5.13574975   0.51499682  -1.78496265 -15.30786757   3.77411892\n",
      "  -1.50149599  -3.33878633   1.26896386   5.37068334  -2.15432021\n",
      "  -3.0157339    2.43019186  -0.22164071   0.26393911  -0.06023165\n",
      "   2.09063033   0.80255096  -0.32724502  -0.79063457   0.15806142\n",
      "   4.85980842  -3.58961245  -0.35652362  -1.94788279   0.60359355\n",
      "   0.77141487  -7.82147596   1.47273081  -1.48744724   0.200767  ]\n",
      "Time taken: 0.455446\n",
      "Iterations: 4267.000000\n",
      "Convergence: True\n",
      "RMSE on training data: 3.77\n",
      "RMSE on test data: 4.86 \n",
      "\n",
      "Lambda: 0.001\n",
      "The gradient descent obtained for R: 0.100 and MaxIterations: 100000\n",
      "Alpha: 22.482616\n",
      "Beta: [  4.09557746  -3.46391051   7.21949284  -0.25474858  -2.80366771\n",
      "   4.95975596  -0.90679586  -1.88784877   3.67901911  -2.83369103\n",
      "  -2.24375849   1.54183893  -2.9921789    1.65719202   0.62718622\n",
      "   3.26621574   0.49731656  -1.07161956 -11.10439328   3.00295691\n",
      "  -1.74596119  -1.32610237   1.1170922    3.20197907  -2.06371189\n",
      "  -1.46919948   1.98987688  -0.30084429   0.2409858   -0.60121696\n",
      "   1.53493521   0.7375703    0.02303081  -0.59026017  -0.13540398\n",
      "   3.49684218  -2.69877867  -0.38902292  -0.59423164   0.52716805\n",
      "   0.93614223  -6.56390591   1.70915279  -0.95235783   0.89931231]\n",
      "Time taken: 0.192037\n",
      "Iterations: 2181.000000\n",
      "Convergence: True\n",
      "RMSE on training data: 3.86\n",
      "RMSE on test data: 4.66 \n",
      "\n",
      "Lambda: 10.0\n",
      "The gradient descent obtained for R: 0.100 and MaxIterations: 100000\n",
      "Alpha: 21.765937\n",
      "Beta: [ 0.60627371 -0.39065703  1.49877763  0.16413711 -1.96186822  3.36616072\n",
      " -0.32248562 -1.87564532  1.82976302 -1.81900783 -2.12179672  1.17077645\n",
      " -3.30049721  0.19425616  0.19794736  0.52470929  0.47357394 -0.32512186\n",
      " -2.79822273  0.61256311 -1.03842805 -0.03243143  0.25114927  0.49246056\n",
      " -0.49980549  0.1033716   0.84526277 -0.50849283  0.225959    0.07685487\n",
      "  0.79450293  0.50832845 -0.19994318 -0.14372985 -0.76857492  0.6303787\n",
      " -0.3378009  -0.53044961  0.80216388  0.13536088 -0.14221298 -1.51248278\n",
      "  0.50696853 -0.88889314  1.14081746]\n",
      "Time taken: 0.257190\n",
      "Iterations: 2659.000000\n",
      "Convergence: True\n",
      "RMSE on training data: 4.25\n",
      "RMSE on test data: 4.77 \n",
      "\n",
      "Lambda: 20\n",
      "The gradient descent obtained for R: 0.100 and MaxIterations: 100000\n",
      "Alpha: 21.117602\n",
      "Beta: [ 0.24616226 -0.06733196  0.85138475  0.21802781 -1.66940209  3.14878516\n",
      " -0.26902579 -1.70139359  1.35271701 -1.36182001 -2.05764717  1.07327878\n",
      " -3.17116743 -0.13107395  0.0628079   0.21932763  0.44169606 -0.27035182\n",
      " -1.66276321  0.26577702 -0.76178513 -0.00572678  0.10403674  0.19718114\n",
      " -0.09507273  0.00874837  0.61836691 -0.49482925  0.27102456  0.19683499\n",
      "  0.68286937  0.48504649 -0.24459678 -0.06101608 -0.71363671  0.30245269\n",
      " -0.0550477  -0.58507319  0.71713922  0.09144215 -0.27805503 -0.69186161\n",
      "  0.27290422 -0.8918969   0.93826743]\n",
      "Time taken: 0.151402\n",
      "Iterations: 1428.000000\n",
      "Convergence: True\n",
      "RMSE on training data: 4.48\n",
      "RMSE on test data: 5.11 \n",
      "\n"
     ]
    }
   ],
   "source": [
    "#(b)\n",
    "#Features\n",
    "xvalues_matrix = np.append(np.ones((train_X.shape[0],1)),train_X,1)\n",
    "yvalues = train_y\n",
    "R = 0.1\n",
    "MaxIterations = 100000\n",
    "L = [1e-10, 1e-6, 1e-3, 1e1, 20]\n",
    "for i in L:\n",
    "    alpha, beta, ttaken, it, convergence = ridge_ols(xvalues_matrix[:,0:46], yvalues, R, MaxIterations,i)\n",
    "    if convergence == True:\n",
    "        print('Lambda:',i)\n",
    "        print('The gradient descent obtained for R: %.3f and MaxIterations: %d' %(R,MaxIterations))\n",
    "        print('Alpha: %f' %alpha)\n",
    "        print('Beta:', beta)   \n",
    "        print('Time taken: %f' %ttaken)\n",
    "        print('Iterations: %f' %it)\n",
    "        print(\"Convergence:\", convergence) \n",
    "        predicted_y_train = alpha + np.dot(train_X[:,0:45],beta)\n",
    "        predicted_y_test = alpha + np.dot(test_X[:,0:45],beta)\n",
    "        rmse_poly = compute_rmse(predicted_y_train, train_y)\n",
    "        print('RMSE on training data:',rmse_poly)\n",
    "        rmse_poly = compute_rmse(predicted_y_test, test_y)\n",
    "        print('RMSE on test data:',rmse_poly,'\\n')\n",
    "    else:\n",
    "        print('Learning rate R: %.3f and MaxIterations: %d' %(i,MaxIterations))\n",
    "        print('Gradient descent failed to converge\\n')    "
   ]
  },
  {
   "cell_type": "markdown",
   "metadata": {},
   "source": [
    "* It is observed that as the Lambda value increases, the difference between the Test RMSE and Train RMSE reduces. i.e. the test error is only slightly higher than the training set error.\n",
    "* Due to regularization the RMSE value remains lower than the one obtained in 3.2 and nearest neighbour algorithm as  ridge regularization prevents the model from overfitting the data."
   ]
  }
 ],
 "metadata": {
  "anaconda-cloud": {},
  "kernelspec": {
   "display_name": "Python 3",
   "language": "python",
   "name": "python3"
  },
  "language_info": {
   "codemirror_mode": {
    "name": "ipython",
    "version": 3
   },
   "file_extension": ".py",
   "mimetype": "text/x-python",
   "name": "python",
   "nbconvert_exporter": "python",
   "pygments_lexer": "ipython3",
   "version": "3.6.0"
  },
  "name": "INFX574-PS4-solutions.ipynb"
 },
 "nbformat": 4,
 "nbformat_minor": 0
}
