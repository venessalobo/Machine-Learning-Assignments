{
 "cells": [
  {
   "cell_type": "markdown",
   "metadata": {
    "ein.tags": [
     "worksheet-0"
    ],
    "slideshow": {
     "slide_type": "-"
    }
   },
   "source": [
    "# Problem Set 5, due June 2nd 11:59pm (end of day).\n",
    "\n",
    "As usual, you are highly encouraged to *start this problem set early!*  My best guess (no guarantees!) is that Part 1 will be conceptually easy but perhaps time consuming.  Parts 2 and 3 are medium difficult, but there are plenty of opportunities to get confused with python data structures, so if you're going to get stuck, get stuck (and unstuck) early! Part 4 will give you an opportunity to get some intuition with PCA.\n",
    "\n",
    "Note that the two extra credit problems have the potential to be quite challenging and time consuming. Make sure to do everything else in the problem set before you tackle the extra credit.\n",
    "\n",
    "To get started, download pset5.ipynb and the file \"reviews.csv\" from Canvas.\n",
    "\n",
    "I suggest you to get familiar with 'groupby' and\n",
    "_unique_ functions in 'numpy'.  You will probably also need\n",
    "_CountVectorizer_ in 'sklearn.feature\\_extraction.text' and\n",
    "_MultinomialNB_ in 'sklearn.naive\\_bayes'\n"
   ]
  },
  {
   "cell_type": "code",
   "execution_count": 1,
   "metadata": {
    "autoscroll": "json-false",
    "collapsed": false,
    "ein.tags": [
     "worksheet-0"
    ],
    "slideshow": {
     "slide_type": "-"
    }
   },
   "outputs": [],
   "source": [
    "%matplotlib inline\n",
    "import pandas as pd\n",
    "import numpy as np\n",
    "import matplotlib.pyplot as plt\n",
    "import sklearn.naive_bayes as nb\n",
    "import statsmodels.formula.api as smf\n",
    "\n",
    "from sklearn.model_selection import cross_val_score\n",
    "from sklearn.model_selection import train_test_split\n",
    "from sklearn.metrics import mean_squared_error\n",
    "from sklearn.preprocessing import StandardScaler\n",
    "from sklearn.linear_model import LinearRegression\n",
    "from sklearn.decomposition import PCA\n",
    "from sklearn.feature_extraction.text import CountVectorizer\n",
    "from sklearn.naive_bayes import MultinomialNB\n",
    "from sklearn import metrics\n",
    "\n",
    "import os"
   ]
  },
  {
   "cell_type": "markdown",
   "metadata": {
    "ein.tags": [
     "worksheet-0"
    ],
    "slideshow": {
     "slide_type": "-"
    }
   },
   "source": [
    "# Introduction\n",
    "\n",
    "In this assignment, you'll be analyzing movie reviews in an attempt to\n",
    "determine whether movies are good or bad.  The file \"reviews.csv\",\n",
    "contains reviews from the [Rotten Tomatoes](http://www.rottentomatoes.com) website.  I've also put a file \"movies.dat\" on Canvas that contains metadata for ~65,000 different movies\n",
    "\n",
    "If you've never seen Rotten Tomatoes before, go spend a few minutes familiarizing yourself with the website.  It's a meta-review website that aggregates movie reviews from a large number of critics.  Note in particular the section on \"Critic Reviews\" at the bottom -- that's the content that has been scraped and put in the reviews.csv file.  Also note that each movie is given a quantitative score on the Tomatometer which is used to classify the movie as either Fresh or Rotten.\n",
    "\n",
    "Your mission is to develop a classifier to determine whether a movie is Fresh or Rotten based on the contents of the reviews given to the movie.  As before, we'll start out with some exploratory data analysis."
   ]
  },
  {
   "cell_type": "markdown",
   "metadata": {
    "ein.tags": [
     "worksheet-0"
    ],
    "slideshow": {
     "slide_type": "-"
    }
   },
   "source": [
    "# 1 Descriptive analysis\n",
    "\n",
    "Before beginning the \"real\" work, dig into the data a bit do see what you're dealing with.  Begin by loading the datasets and dropping rows that have missing data, either missing review or missing fresh/rotten indicator."
   ]
  },
  {
   "cell_type": "code",
   "execution_count": 2,
   "metadata": {
    "autoscroll": "json-false",
    "collapsed": false,
    "ein.tags": [
     "worksheet-0"
    ],
    "slideshow": {
     "slide_type": "-"
    }
   },
   "outputs": [],
   "source": [
    "#Loading data sets\n",
    "reviews =  pd.read_csv('reviews.csv')\n",
    "movies = pd.read_table('movies.dat')"
   ]
  },
  {
   "cell_type": "code",
   "execution_count": 3,
   "metadata": {
    "collapsed": false
   },
   "outputs": [
    {
     "name": "stdout",
     "output_type": "stream",
     "text": [
      "(13442, 9)\n",
      "(12737, 9)\n"
     ]
    }
   ],
   "source": [
    "#Drop NA's in reviews \n",
    "print(reviews.shape)\n",
    "reviews = reviews.dropna()\n",
    "print(reviews.shape)"
   ]
  },
  {
   "cell_type": "code",
   "execution_count": 4,
   "metadata": {
    "collapsed": false
   },
   "outputs": [
    {
     "name": "stdout",
     "output_type": "stream",
     "text": [
      "(9423, 21)\n",
      "(8975, 21)\n"
     ]
    }
   ],
   "source": [
    "#Drop NA's in movies \n",
    "print(movies.shape)\n",
    "movies = movies.dropna()\n",
    "print(movies.shape)"
   ]
  },
  {
   "cell_type": "markdown",
   "metadata": {
    "ein.tags": [
     "worksheet-0"
    ],
    "slideshow": {
     "slide_type": "-"
    }
   },
   "source": [
    "## 1.1 Basic features of the dataset\n",
    "\n",
    "Answer the following questions by having your code directly print the\n",
    "answers:\n",
    "\n",
    "* How many unique reviews (quotes) are in the `reviews` dataset?\n",
    "* How many unique reviewers (critics) are in the `reviews` dataset?\n",
    "* How many unique movies are in the `reviews` dataset?\n",
    "* How many unique movies are in the *`movies`* dataset?\n",
    "* How many different publications have reviews in the `reviews` dataset?\n"
   ]
  },
  {
   "cell_type": "code",
   "execution_count": 5,
   "metadata": {
    "autoscroll": "json-false",
    "collapsed": false,
    "ein.tags": [
     "worksheet-0"
    ],
    "slideshow": {
     "slide_type": "-"
    }
   },
   "outputs": [
    {
     "name": "stdout",
     "output_type": "stream",
     "text": [
      "The reviews dataset has 12167 unique reviews(quotes).\n",
      "The reviews dataset has 540 unique reviewers(critics).\n",
      "The reviews dataset has 1715 unique movies.\n",
      "The movies dataset has 8959 unique movies.\n",
      "The reviews dataset has 64 unique publications.\n"
     ]
    }
   ],
   "source": [
    "print('The reviews dataset has %d unique reviews(quotes).'%reviews.quote.nunique())\n",
    "print('The reviews dataset has %d unique reviewers(critics).'%reviews.critic.nunique())\n",
    "print('The reviews dataset has %d unique movies.'%reviews.title.nunique())\n",
    "print('The movies dataset has %d unique movies.'%movies.title.nunique())\n",
    "print('The reviews dataset has %d unique publications.'%reviews.publication.nunique())"
   ]
  },
  {
   "cell_type": "markdown",
   "metadata": {
    "ein.tags": [
     "worksheet-0"
    ],
    "slideshow": {
     "slide_type": "-"
    }
   },
   "source": [
    "## 1.2 Number of reviews per reviewer\n",
    "\n",
    "Using the `reviews` dataset, create a histogram showing the distribution of the number of reviews per reviewer.  Create the bin width (x-axis) to be 1 unit wide, and the range of the axis to be from 0 to 30.  Scale the y-axis to show the logarithm of (count of) the number of reviews.  Label your axes and make your histogram look professional.\n",
    "\n",
    "Does the distribution look normal?  Is it what you expect?"
   ]
  },
  {
   "cell_type": "code",
   "execution_count": 6,
   "metadata": {
    "collapsed": false
   },
   "outputs": [],
   "source": [
    "reviews_per_critic = reviews.groupby(['critic']).quote.count()"
   ]
  },
  {
   "cell_type": "code",
   "execution_count": 7,
   "metadata": {
    "collapsed": false
   },
   "outputs": [
    {
     "data": {
      "text/plain": [
       "<matplotlib.text.Text at 0x1d0a44ae780>"
      ]
     },
     "execution_count": 7,
     "metadata": {},
     "output_type": "execute_result"
    },
    {
     "data": {
      "image/png": "[encoded data removed]",
      "text/plain": [
       "<matplotlib.figure.Figure at 0x1d0a4c786a0>"
      ]
     },
     "metadata": {},
     "output_type": "display_data"
    }
   ],
   "source": [
    "ax = plt.subplot(111)\n",
    "ax.hist(reviews_per_critic, bins = range(0,31, 1), log = True, color = 'b', edgecolor='black')\n",
    "ax.spines['right'].set_visible(False)\n",
    "ax.spines['top'].set_visible(False)\n",
    "plt.xlabel('Number of reviews')\n",
    "plt.ylabel('Logarithm Frequency')\n",
    "plt.title('Number of reviews per reviewer')"
   ]
  },
  {
   "cell_type": "markdown",
   "metadata": {},
   "source": [
    "The distribution does not look normal and is skewed to the left. I expected this, as ideally most reviewers would review a small number of films except for prolific reviewers who are in turn smaller in number."
   ]
  },
  {
   "cell_type": "markdown",
   "metadata": {
    "ein.tags": [
     "worksheet-0"
    ],
    "slideshow": {
     "slide_type": "-"
    }
   },
   "source": [
    "## 1.3 Take a closer look of a few reviews\n",
    "\n",
    "Find the 30 critics with the most reviews, and list their names in a table along with (a) the name of the publication they work for, (b) the date of their first review, and (c) the date of their last review\n",
    "\n",
    "*hint: use the groupby function*"
   ]
  },
  {
   "cell_type": "code",
   "execution_count": 8,
   "metadata": {
    "collapsed": false
   },
   "outputs": [
    {
     "data": {
      "text/html": [
       "<div>\n",
       "<table border=\"1\" class=\"dataframe\">\n",
       "  <thead>\n",
       "    <tr style=\"text-align: right;\">\n",
       "      <th></th>\n",
       "      <th>critic</th>\n",
       "      <th>review_count</th>\n",
       "      <th>First_Publication</th>\n",
       "      <th>Latest_Publication</th>\n",
       "      <th>date_review_first</th>\n",
       "      <th>date_review_last</th>\n",
       "    </tr>\n",
       "  </thead>\n",
       "  <tbody>\n",
       "    <tr>\n",
       "      <th>453</th>\n",
       "      <td>Roger Ebert</td>\n",
       "      <td>1150</td>\n",
       "      <td>At the Movies</td>\n",
       "      <td>Chicago Sun-Times</td>\n",
       "      <td>2000-01-01 00:00:00</td>\n",
       "      <td>2013-06-11 00:00:00</td>\n",
       "    </tr>\n",
       "    <tr>\n",
       "      <th>220</th>\n",
       "      <td>James Berardinelli</td>\n",
       "      <td>833</td>\n",
       "      <td>ReelViews</td>\n",
       "      <td>ReelViews</td>\n",
       "      <td>1800-01-01 00:00:00</td>\n",
       "      <td>2012-02-07 00:00:00</td>\n",
       "    </tr>\n",
       "    <tr>\n",
       "      <th>228</th>\n",
       "      <td>Janet Maslin</td>\n",
       "      <td>526</td>\n",
       "      <td>New York Times</td>\n",
       "      <td>New York Times</td>\n",
       "      <td>2000-01-01 00:00:00</td>\n",
       "      <td>2010-09-07 00:00:00</td>\n",
       "    </tr>\n",
       "    <tr>\n",
       "      <th>529</th>\n",
       "      <td>Variety Staff</td>\n",
       "      <td>450</td>\n",
       "      <td>Variety</td>\n",
       "      <td>Variety</td>\n",
       "      <td>2001-02-13 00:00:00</td>\n",
       "      <td>2012-08-15 00:00:00</td>\n",
       "    </tr>\n",
       "    <tr>\n",
       "      <th>285</th>\n",
       "      <td>Jonathan Rosenbaum</td>\n",
       "      <td>420</td>\n",
       "      <td>Chicago Reader</td>\n",
       "      <td>Chicago Reader</td>\n",
       "      <td>1988-07-11 00:00:00</td>\n",
       "      <td>2013-10-22 00:00:00</td>\n",
       "    </tr>\n",
       "    <tr>\n",
       "      <th>145</th>\n",
       "      <td>Desson Thomson</td>\n",
       "      <td>375</td>\n",
       "      <td>Washington Post</td>\n",
       "      <td>Washington Post</td>\n",
       "      <td>2000-01-01 00:00:00</td>\n",
       "      <td>2012-10-08 00:00:00</td>\n",
       "    </tr>\n",
       "    <tr>\n",
       "      <th>121</th>\n",
       "      <td>Dave Kehr</td>\n",
       "      <td>361</td>\n",
       "      <td>Chicago Reader</td>\n",
       "      <td>New York Daily News</td>\n",
       "      <td>2000-01-01 00:00:00</td>\n",
       "      <td>2013-11-20 00:00:00</td>\n",
       "    </tr>\n",
       "    <tr>\n",
       "      <th>194</th>\n",
       "      <td>Geoff Andrew</td>\n",
       "      <td>361</td>\n",
       "      <td>Time Out</td>\n",
       "      <td>Time Out</td>\n",
       "      <td>2005-08-11 00:00:00</td>\n",
       "      <td>2012-04-05 00:00:00</td>\n",
       "    </tr>\n",
       "    <tr>\n",
       "      <th>307</th>\n",
       "      <td>Kenneth Turan</td>\n",
       "      <td>282</td>\n",
       "      <td>Los Angeles Times</td>\n",
       "      <td>Los Angeles Times</td>\n",
       "      <td>2000-01-01 00:00:00</td>\n",
       "      <td>2013-10-05 00:00:00</td>\n",
       "    </tr>\n",
       "    <tr>\n",
       "      <th>374</th>\n",
       "      <td>Mick LaSalle</td>\n",
       "      <td>282</td>\n",
       "      <td>San Francisco Chronicle</td>\n",
       "      <td>San Francisco Chronicle</td>\n",
       "      <td>2000-01-01 00:00:00</td>\n",
       "      <td>2009-11-25 00:00:00</td>\n",
       "    </tr>\n",
       "    <tr>\n",
       "      <th>397</th>\n",
       "      <td>Owen Gleiberman</td>\n",
       "      <td>241</td>\n",
       "      <td>Entertainment Weekly</td>\n",
       "      <td>Entertainment Weekly</td>\n",
       "      <td>1800-01-01 00:00:00</td>\n",
       "      <td>2011-09-07 00:00:00</td>\n",
       "    </tr>\n",
       "    <tr>\n",
       "      <th>440</th>\n",
       "      <td>Rita Kempley</td>\n",
       "      <td>239</td>\n",
       "      <td>Washington Post</td>\n",
       "      <td>Washington Post</td>\n",
       "      <td>2000-01-01 00:00:00</td>\n",
       "      <td>2013-11-02 00:00:00</td>\n",
       "    </tr>\n",
       "    <tr>\n",
       "      <th>255</th>\n",
       "      <td>Joe Baltake</td>\n",
       "      <td>231</td>\n",
       "      <td>Passionate Moviegoer</td>\n",
       "      <td>Sacramento Bee</td>\n",
       "      <td>2000-01-01 00:00:00</td>\n",
       "      <td>2013-08-04 00:00:00</td>\n",
       "    </tr>\n",
       "    <tr>\n",
       "      <th>514</th>\n",
       "      <td>Todd McCarthy</td>\n",
       "      <td>223</td>\n",
       "      <td>Variety</td>\n",
       "      <td>Variety</td>\n",
       "      <td>2000-01-01 00:00:00</td>\n",
       "      <td>2012-10-09 00:00:00</td>\n",
       "    </tr>\n",
       "    <tr>\n",
       "      <th>531</th>\n",
       "      <td>Vincent Canby</td>\n",
       "      <td>208</td>\n",
       "      <td>New York Times</td>\n",
       "      <td>New York Times</td>\n",
       "      <td>2000-01-01 00:00:00</td>\n",
       "      <td>2013-07-29 00:00:00</td>\n",
       "    </tr>\n",
       "    <tr>\n",
       "      <th>203</th>\n",
       "      <td>Hal Hinson</td>\n",
       "      <td>174</td>\n",
       "      <td>Washington Post</td>\n",
       "      <td>Washington Post</td>\n",
       "      <td>2000-01-01 00:00:00</td>\n",
       "      <td>2013-06-26 00:00:00</td>\n",
       "    </tr>\n",
       "    <tr>\n",
       "      <th>498</th>\n",
       "      <td>Susan Stark</td>\n",
       "      <td>167</td>\n",
       "      <td>Detroit News</td>\n",
       "      <td>Detroit News</td>\n",
       "      <td>2000-01-01 00:00:00</td>\n",
       "      <td>2002-10-25 00:00:00</td>\n",
       "    </tr>\n",
       "    <tr>\n",
       "      <th>488</th>\n",
       "      <td>Stephen Holden</td>\n",
       "      <td>166</td>\n",
       "      <td>New York Times</td>\n",
       "      <td>New York Times</td>\n",
       "      <td>2000-01-01 00:00:00</td>\n",
       "      <td>2009-02-06 00:00:00</td>\n",
       "    </tr>\n",
       "    <tr>\n",
       "      <th>142</th>\n",
       "      <td>Derek Adams</td>\n",
       "      <td>154</td>\n",
       "      <td>Time Out</td>\n",
       "      <td>Time Out</td>\n",
       "      <td>2006-01-26 00:00:00</td>\n",
       "      <td>2009-10-04 00:00:00</td>\n",
       "    </tr>\n",
       "    <tr>\n",
       "      <th>314</th>\n",
       "      <td>Kevin Thomas</td>\n",
       "      <td>145</td>\n",
       "      <td>Los Angeles Times</td>\n",
       "      <td>Los Angeles Times</td>\n",
       "      <td>2000-01-01 00:00:00</td>\n",
       "      <td>2013-11-02 00:00:00</td>\n",
       "    </tr>\n",
       "    <tr>\n",
       "      <th>414</th>\n",
       "      <td>Peter Stack</td>\n",
       "      <td>139</td>\n",
       "      <td>San Francisco Chronicle</td>\n",
       "      <td>San Francisco Chronicle</td>\n",
       "      <td>2000-01-01 00:00:00</td>\n",
       "      <td>2002-06-18 00:00:00</td>\n",
       "    </tr>\n",
       "    <tr>\n",
       "      <th>58</th>\n",
       "      <td>Bosley Crowther</td>\n",
       "      <td>138</td>\n",
       "      <td>New York Times</td>\n",
       "      <td>New York Times</td>\n",
       "      <td>2000-01-01 00:00:00</td>\n",
       "      <td>2008-05-06 00:00:00</td>\n",
       "    </tr>\n",
       "    <tr>\n",
       "      <th>439</th>\n",
       "      <td>Rick Groen</td>\n",
       "      <td>129</td>\n",
       "      <td>Globe and Mail</td>\n",
       "      <td>Globe and Mail</td>\n",
       "      <td>2002-03-19 00:00:00</td>\n",
       "      <td>2009-08-14 00:00:00</td>\n",
       "    </tr>\n",
       "    <tr>\n",
       "      <th>157</th>\n",
       "      <td>Edward Guthmann</td>\n",
       "      <td>122</td>\n",
       "      <td>San Francisco Chronicle</td>\n",
       "      <td>San Francisco Chronicle</td>\n",
       "      <td>2000-01-01 00:00:00</td>\n",
       "      <td>2003-04-04 00:00:00</td>\n",
       "    </tr>\n",
       "    <tr>\n",
       "      <th>337</th>\n",
       "      <td>Lisa Schwarzbaum</td>\n",
       "      <td>117</td>\n",
       "      <td>Entertainment Weekly</td>\n",
       "      <td>Entertainment Weekly</td>\n",
       "      <td>1979-01-01 00:00:00</td>\n",
       "      <td>2012-08-15 00:00:00</td>\n",
       "    </tr>\n",
       "    <tr>\n",
       "      <th>331</th>\n",
       "      <td>Liam Lacey</td>\n",
       "      <td>111</td>\n",
       "      <td>Globe and Mail</td>\n",
       "      <td>Globe and Mail</td>\n",
       "      <td>2001-08-24 00:00:00</td>\n",
       "      <td>2012-04-04 00:00:00</td>\n",
       "    </tr>\n",
       "    <tr>\n",
       "      <th>167</th>\n",
       "      <td>Emanuel Levy</td>\n",
       "      <td>110</td>\n",
       "      <td>Variety</td>\n",
       "      <td>Variety</td>\n",
       "      <td>2000-01-01 00:00:00</td>\n",
       "      <td>2010-08-06 00:00:00</td>\n",
       "    </tr>\n",
       "    <tr>\n",
       "      <th>438</th>\n",
       "      <td>Richard Schickel</td>\n",
       "      <td>106</td>\n",
       "      <td>TIME Magazine</td>\n",
       "      <td>The Atlantic</td>\n",
       "      <td>2000-01-01 00:00:00</td>\n",
       "      <td>2013-08-05 00:00:00</td>\n",
       "    </tr>\n",
       "    <tr>\n",
       "      <th>429</th>\n",
       "      <td>Richard Corliss</td>\n",
       "      <td>105</td>\n",
       "      <td>TIME Magazine</td>\n",
       "      <td>TIME Magazine</td>\n",
       "      <td>2003-12-16 00:00:00</td>\n",
       "      <td>2013-11-06 00:00:00</td>\n",
       "    </tr>\n",
       "    <tr>\n",
       "      <th>372</th>\n",
       "      <td>Michael Wilmington</td>\n",
       "      <td>103</td>\n",
       "      <td>Chicago Tribune</td>\n",
       "      <td>Los Angeles Times</td>\n",
       "      <td>2000-01-01 00:00:00</td>\n",
       "      <td>2013-11-21 00:00:00</td>\n",
       "    </tr>\n",
       "  </tbody>\n",
       "</table>\n",
       "</div>"
      ],
      "text/plain": [
       "                 critic  review_count        First_Publication  \\\n",
       "453         Roger Ebert          1150            At the Movies   \n",
       "220  James Berardinelli           833                ReelViews   \n",
       "228        Janet Maslin           526           New York Times   \n",
       "529       Variety Staff           450                  Variety   \n",
       "285  Jonathan Rosenbaum           420           Chicago Reader   \n",
       "145      Desson Thomson           375          Washington Post   \n",
       "121           Dave Kehr           361           Chicago Reader   \n",
       "194        Geoff Andrew           361                 Time Out   \n",
       "307       Kenneth Turan           282        Los Angeles Times   \n",
       "374        Mick LaSalle           282  San Francisco Chronicle   \n",
       "397     Owen Gleiberman           241     Entertainment Weekly   \n",
       "440        Rita Kempley           239          Washington Post   \n",
       "255         Joe Baltake           231     Passionate Moviegoer   \n",
       "514       Todd McCarthy           223                  Variety   \n",
       "531       Vincent Canby           208           New York Times   \n",
       "203          Hal Hinson           174          Washington Post   \n",
       "498         Susan Stark           167             Detroit News   \n",
       "488      Stephen Holden           166           New York Times   \n",
       "142         Derek Adams           154                 Time Out   \n",
       "314        Kevin Thomas           145        Los Angeles Times   \n",
       "414         Peter Stack           139  San Francisco Chronicle   \n",
       "58      Bosley Crowther           138           New York Times   \n",
       "439          Rick Groen           129           Globe and Mail   \n",
       "157     Edward Guthmann           122  San Francisco Chronicle   \n",
       "337    Lisa Schwarzbaum           117     Entertainment Weekly   \n",
       "331          Liam Lacey           111           Globe and Mail   \n",
       "167        Emanuel Levy           110                  Variety   \n",
       "438    Richard Schickel           106            TIME Magazine   \n",
       "429     Richard Corliss           105            TIME Magazine   \n",
       "372  Michael Wilmington           103          Chicago Tribune   \n",
       "\n",
       "          Latest_Publication    date_review_first     date_review_last  \n",
       "453        Chicago Sun-Times  2000-01-01 00:00:00  2013-06-11 00:00:00  \n",
       "220                ReelViews  1800-01-01 00:00:00  2012-02-07 00:00:00  \n",
       "228           New York Times  2000-01-01 00:00:00  2010-09-07 00:00:00  \n",
       "529                  Variety  2001-02-13 00:00:00  2012-08-15 00:00:00  \n",
       "285           Chicago Reader  1988-07-11 00:00:00  2013-10-22 00:00:00  \n",
       "145          Washington Post  2000-01-01 00:00:00  2012-10-08 00:00:00  \n",
       "121      New York Daily News  2000-01-01 00:00:00  2013-11-20 00:00:00  \n",
       "194                 Time Out  2005-08-11 00:00:00  2012-04-05 00:00:00  \n",
       "307        Los Angeles Times  2000-01-01 00:00:00  2013-10-05 00:00:00  \n",
       "374  San Francisco Chronicle  2000-01-01 00:00:00  2009-11-25 00:00:00  \n",
       "397     Entertainment Weekly  1800-01-01 00:00:00  2011-09-07 00:00:00  \n",
       "440          Washington Post  2000-01-01 00:00:00  2013-11-02 00:00:00  \n",
       "255           Sacramento Bee  2000-01-01 00:00:00  2013-08-04 00:00:00  \n",
       "514                  Variety  2000-01-01 00:00:00  2012-10-09 00:00:00  \n",
       "531           New York Times  2000-01-01 00:00:00  2013-07-29 00:00:00  \n",
       "203          Washington Post  2000-01-01 00:00:00  2013-06-26 00:00:00  \n",
       "498             Detroit News  2000-01-01 00:00:00  2002-10-25 00:00:00  \n",
       "488           New York Times  2000-01-01 00:00:00  2009-02-06 00:00:00  \n",
       "142                 Time Out  2006-01-26 00:00:00  2009-10-04 00:00:00  \n",
       "314        Los Angeles Times  2000-01-01 00:00:00  2013-11-02 00:00:00  \n",
       "414  San Francisco Chronicle  2000-01-01 00:00:00  2002-06-18 00:00:00  \n",
       "58            New York Times  2000-01-01 00:00:00  2008-05-06 00:00:00  \n",
       "439           Globe and Mail  2002-03-19 00:00:00  2009-08-14 00:00:00  \n",
       "157  San Francisco Chronicle  2000-01-01 00:00:00  2003-04-04 00:00:00  \n",
       "337     Entertainment Weekly  1979-01-01 00:00:00  2012-08-15 00:00:00  \n",
       "331           Globe and Mail  2001-08-24 00:00:00  2012-04-04 00:00:00  \n",
       "167                  Variety  2000-01-01 00:00:00  2010-08-06 00:00:00  \n",
       "438             The Atlantic  2000-01-01 00:00:00  2013-08-05 00:00:00  \n",
       "429            TIME Magazine  2003-12-16 00:00:00  2013-11-06 00:00:00  \n",
       "372        Los Angeles Times  2000-01-01 00:00:00  2013-11-21 00:00:00  "
      ]
     },
     "execution_count": 8,
     "metadata": {},
     "output_type": "execute_result"
    }
   ],
   "source": [
    "critic_detail = reviews.groupby(['critic'], as_index=False).agg({'quote':'count','publication':{'Publication1':'min','Publication2':'max'},'review_date':{'mindate':np.min,'maxdate':np.max}})\n",
    "critic_detail.columns = ['critic','review_count','First_Publication','Latest_Publication','date_review_first','date_review_last']\n",
    "top_30 = critic_detail.sort_values(by='review_count',ascending=False).head(30)\n",
    "top_30"
   ]
  },
  {
   "cell_type": "markdown",
   "metadata": {
    "ein.tags": [
     "worksheet-0"
    ],
    "slideshow": {
     "slide_type": "-"
    }
   },
   "source": [
    "## 1.4 Ratings over time\n",
    "\n",
    "Using the `movies` dataset, create a plot that shows how the average rating per movie (rtAllCriticsRating) has evolved over time.  Do this by creating a scatterplot where the x-axis is the year in which the movie was released and the y-axis is rtAllCriticsRating.  Drop movies with 0 or unknown values to avoid biasing your results.  Then, create a scatterplot that has one <year,rating> point for each remaining movie, and pick an appropriate size/color/transparency for these points to ensure that the graph looks professional.  In other words, do not simply use the default settings, as this will produce a dense mess of dots that will be hard to interpret.  Finally, overlay on this scatterplot a line graph in red showing how the average movie rating (the average of rtAllCriticsRating across all movies in a year) has changed over time.  Do you notice a trend?  What do you think it means?"
   ]
  },
  {
   "cell_type": "code",
   "execution_count": 9,
   "metadata": {
    "autoscroll": "json-false",
    "collapsed": false,
    "ein.tags": [
     "worksheet-0"
    ],
    "slideshow": {
     "slide_type": "-"
    }
   },
   "outputs": [
    {
     "name": "stderr",
     "output_type": "stream",
     "text": [
      "C:\\Users\\vanlo\\Anaconda3\\lib\\site-packages\\ipykernel\\__main__.py:5: SettingWithCopyWarning: \n",
      "A value is trying to be set on a copy of a slice from a DataFrame.\n",
      "Try using .loc[row_indexer,col_indexer] = value instead\n",
      "\n",
      "See the caveats in the documentation: http://pandas.pydata.org/pandas-docs/stable/indexing.html#indexing-view-versus-copy\n"
     ]
    },
    {
     "data": {
      "text/plain": [
       "<matplotlib.text.Text at 0x1d0a45e2278>"
      ]
     },
     "execution_count": 9,
     "metadata": {},
     "output_type": "execute_result"
    },
    {
     "data": {
      "image/png": "[encoded data removed]",
      "text/plain": [
       "<matplotlib.figure.Figure at 0x1d0a2f9f978>"
      ]
     },
     "metadata": {},
     "output_type": "display_data"
    }
   ],
   "source": [
    "#Drop movies with 0 or unknown values\n",
    "movies_df = movies[movies.rtAllCriticsRating!='0']\n",
    "\n",
    "#Convert datatype of rtAllCriticsRating to numeric\n",
    "movies_df['rtAllCriticsRating'] = movies_df['rtAllCriticsRating'].apply(pd.to_numeric)\n",
    "\n",
    "#Average movie rating per year\n",
    "x = movies_df.groupby('year').agg('mean').reset_index()\n",
    "\n",
    "#Scatterplot\n",
    "plt.figure(figsize=(10,10))\n",
    "ax = plt.subplot(111)\n",
    "ax.scatter(movies_df.year,movies_df.rtAllCriticsRating,color=\"green\", alpha=0.4, s=10)\n",
    "ax.plot(x.year, x.rtAllCriticsRating)\n",
    "ax.spines['right'].set_visible(False)\n",
    "ax.spines['top'].set_visible(False)\n",
    "plt.xlabel('Year')\n",
    "plt.ylabel('Average rating per movie')\n",
    "plt.title('Average rating over Years')"
   ]
  },
  {
   "cell_type": "markdown",
   "metadata": {},
   "source": [
    "* During the early 1900's, the number of movies reviewed in a year are less as compared to the large number of movies reviewed in the 1990's and 2000's.\n",
    "* The average movie rating per year seems to be decreasing over the years. This is possibly due to the large number of movies being reviewed in the later years."
   ]
  },
  {
   "cell_type": "markdown",
   "metadata": {
    "ein.tags": [
     "worksheet-0"
    ],
    "slideshow": {
     "slide_type": "-"
    }
   },
   "source": [
    "# Part 2: Naive Bayes\n",
    "\n",
    "Now it gets fun!  You are going to use a Naive Bayes classifier to build a prediction model for whether a review is fresh or rotten, depending on the text of the review. \n",
    "\n",
    "## 2.0 Using CountVectorizer\n",
    "\n",
    "One thing that may help you in the following problems is the _CountVectorizer_ object in Scikit-learn.  This will help you convert your raw text fields into \"bag of words\" vectors, i.e. a data structure that tells you how many times a particular word appears in the text.  (Note: the order of wordss is not preserved in the bag).   Here's a simple example, make sure you understand what's going on!"
   ]
  },
  {
   "cell_type": "code",
   "execution_count": 10,
   "metadata": {
    "autoscroll": "json-false",
    "collapsed": false,
    "ein.tags": [
     "worksheet-0"
    ],
    "slideshow": {
     "slide_type": "-"
    }
   },
   "outputs": [
    {
     "name": "stdout",
     "output_type": "stream",
     "text": [
      "Original text:\n",
      " Next morning when I awakened I found Jem and Dill in the back yard deep in conversation.\n",
      "When I joined them, as usual they said go away.\n",
      "Will not.\n",
      "This yard's as much mine as it is your, Jem Finch.\n",
      "I got just as much right to play in it as you have.\n",
      "Transformed text vector:\n",
      " [[1 0 1 0 1 1 1 1 0 1 0 0 0 2 0 0 1 0 0 0 1 0 1 0 0 0 0 1 0 0 0 0 0 1 0 1\n",
      "  0 0]\n",
      " [0 1 0 1 0 0 0 0 0 0 1 0 0 0 0 0 0 1 0 0 0 0 0 0 0 0 1 0 1 1 0 0 1 1 0 0\n",
      "  0 0]\n",
      " [0 0 0 0 0 0 0 0 0 0 0 0 0 0 0 0 0 0 0 0 0 0 0 1 0 0 0 0 0 0 0 0 0 0 1 0\n",
      "  0 0]\n",
      " [0 2 0 0 0 0 0 0 1 0 0 0 0 0 1 1 1 0 0 1 0 1 0 0 0 0 0 0 0 0 1 0 0 0 0 1\n",
      "  0 1]\n",
      " [0 2 0 0 0 0 0 0 0 0 0 1 1 1 0 1 0 0 1 0 0 1 0 0 1 1 0 0 0 0 0 1 0 0 0 0\n",
      "  1 0]]\n",
      "Words for each feature:\n",
      "['and', 'as', 'awakened', 'away', 'back', 'conversation', 'deep', 'dill', 'finch', 'found', 'go', 'got', 'have', 'in', 'is', 'it', 'jem', 'joined', 'just', 'mine', 'morning', 'much', 'next', 'not', 'play', 'right', 'said', 'the', 'them', 'they', 'this', 'to', 'usual', 'when', 'will', 'yard', 'you', 'your']\n"
     ]
    }
   ],
   "source": [
    "from sklearn.feature_extraction.text import CountVectorizer\n",
    "\n",
    "sentences = [\"Next morning when I awakened I found Jem and Dill in the back yard deep in conversation.\", \"When I joined them, as usual they said go away.\", \"Will not.\", \"This yard's as much mine as it is your, Jem Finch.\", \"I got just as much right to play in it as you have.\"]\n",
    "# Harper Lee \"To Kill a Mockingbrid\"\n",
    "print (\"Original text:\\n\", \"\\n\".join(sentences))\n",
    "\n",
    "vectorizer = CountVectorizer(min_df=0)\n",
    "vectorizer.fit(sentences)\n",
    "# `fit` builds the vocabulary\n",
    "x = vectorizer.transform(sentences).toarray()\n",
    "# `transform` converts text to a bag of words\n",
    "print (\"Transformed text vector:\\n\", x)\n",
    "\n",
    "# `get_feature_names` tracks which word is associated with each column of the transformed x\n",
    "print (\"Words for each feature:\")\n",
    "print (vectorizer.get_feature_names())"
   ]
  },
  {
   "cell_type": "markdown",
   "metadata": {
    "ein.tags": [
     "worksheet-0"
    ],
    "slideshow": {
     "slide_type": "-"
    }
   },
   "source": [
    "## 2.1 Create your X input and Y output\n",
    "\n",
    "Using the `reviews` dataframe, compute a pair of numerical X, Y arrays where:\n",
    "    \n",
    " * X is a `(nreview, nwords)` array. Each row is the bag-of-words representation for a single review.  This will be the *input* (fetaures) of your model.\n",
    " * Y is a `nreview`-element 1/0 array, encoding whether a review is Fresh (1) or Rotten (0). This is the desired *output* (target) from your model.\n",
    " \n",
    " Make sure to remove items with no review text\n",
    "\n",
    "Feel free to use the _make\\_xy_ function below to achieve it, but you can also create your own parser."
   ]
  },
  {
   "cell_type": "code",
   "execution_count": 11,
   "metadata": {
    "autoscroll": "json-false",
    "collapsed": false,
    "ein.tags": [
     "worksheet-0"
    ],
    "slideshow": {
     "slide_type": "-"
    }
   },
   "outputs": [],
   "source": [
    "\"\"\"\n",
    "Function\n",
    "--------\n",
    "make_xy\n",
    "\n",
    "Build a bag-of-words training set for the review data\n",
    "\n",
    "Parameters\n",
    "-----------\n",
    "reviews : Pandas DataFrame\n",
    "    The review data from above\n",
    "    \n",
    "vectorizer : CountVectorizer object (optional)\n",
    "    A CountVectorizer object to use. If None,\n",
    "    then create and fit a new CountVectorizer.\n",
    "    Otherwise, re-fit the provided CountVectorizer\n",
    "    using the reviews data\n",
    "    \n",
    "Returns\n",
    "-------\n",
    "X : numpy array (dims: nreview, nwords)\n",
    "    Bag-of-words representation for each review.\n",
    "Y : numpy array (dims: nreview)\n",
    "    1/0 array. 1 = fresh review, 0 = rotten review\n",
    "\n",
    "Examples\n",
    "--------\n",
    "X, Y = make_xy(reviews)\n",
    "\"\"\"\n",
    "def make_xy(critics, vectorizer=None):\n",
    "    #Your code here    \n",
    "    if vectorizer is None:\n",
    "        vectorizer = CountVectorizer()\n",
    "    X = vectorizer.fit_transform(critics.quote)\n",
    "    X = X.tocsc()  # some versions of sklearn return COO format\n",
    "    Y = (critics.fresh == 'fresh').values.astype(np.int)\n",
    "    return X, Y"
   ]
  },
  {
   "cell_type": "code",
   "execution_count": 12,
   "metadata": {
    "collapsed": true
   },
   "outputs": [],
   "source": [
    "X, Y = make_xy(reviews)"
   ]
  },
  {
   "cell_type": "markdown",
   "metadata": {
    "ein.tags": [
     "worksheet-0"
    ],
    "slideshow": {
     "slide_type": "-"
    }
   },
   "source": [
    "## 2.2 Test-Train split\n",
    "\n",
    "Next, randomly split the data into two groups: a training (75%) set and a validation set (25%).  You can do this manually, as you have done earlier, but I recommend to use `train_test_split` in 'sklearn.model_selection'."
   ]
  },
  {
   "cell_type": "code",
   "execution_count": 13,
   "metadata": {
    "autoscroll": "json-false",
    "collapsed": false,
    "ein.tags": [
     "worksheet-0"
    ],
    "slideshow": {
     "slide_type": "-"
    }
   },
   "outputs": [],
   "source": [
    "X_train, X_test, y_train, y_test = train_test_split(X,Y,test_size=0.25)"
   ]
  },
  {
   "cell_type": "markdown",
   "metadata": {
    "ein.tags": [
     "worksheet-0"
    ],
    "slideshow": {
     "slide_type": "-"
    }
   },
   "source": [
    "## 2.3 Naive Bayes with `MultinomialNB`\n",
    "Use the training set to train a Naive Bayes classifier using the `MultinomialNB` from 'sklearn'.  Play with _MultinomialNB_ parameters.  Report the accuracy of this model on both the training and testing data.  What do you observe?  Interpret these results!\n",
    "\n",
    "*Hint: This shouldn't take more than 5-10 lines of code to accomplish*\n",
    "\n"
   ]
  },
  {
   "cell_type": "code",
   "execution_count": 14,
   "metadata": {
    "autoscroll": "json-false",
    "collapsed": false,
    "ein.tags": [
     "worksheet-0"
    ],
    "slideshow": {
     "slide_type": "-"
    }
   },
   "outputs": [
    {
     "name": "stdout",
     "output_type": "stream",
     "text": [
      "Training accuracy is: 92.336683\n",
      "Testing accuracy is : 77.927786\n"
     ]
    }
   ],
   "source": [
    "clf = MultinomialNB()\n",
    "clf.fit(X_train, y_train)\n",
    "\n",
    "training_score = clf.score(X_train, y_train)\n",
    "test_predictions = clf.predict(X_test)\n",
    "\n",
    "training_score = training_score*100\n",
    "test_predictions = metrics.accuracy_score(y_test,test_predictions) * 100\n",
    "\n",
    "print('Training accuracy is: %f' %training_score)\n",
    "print('Testing accuracy is : %f' %test_predictions)"
   ]
  },
  {
   "cell_type": "markdown",
   "metadata": {
    "ein.tags": [
     "worksheet-0"
    ],
    "slideshow": {
     "slide_type": "-"
    }
   },
   "source": [
    "# 3 Evaluation\n",
    "\n",
    "## 3.1 Estimate the likelihood of your data\n",
    "\n",
    "Calculate log-likelihood of a fitted model.  Log-likelihood is a way to assess the performance of your model.  Remeber -- likelihood is more-or-less the probability to observe your data (including your target).  Below is an example function that calculates the log-likelihood of an estimated model using `fitted_model.predict_logproba`.  You may use this function, or write your own.  "
   ]
  },
  {
   "cell_type": "code",
   "execution_count": 15,
   "metadata": {
    "autoscroll": "json-false",
    "collapsed": false,
    "ein.tags": [
     "worksheet-0"
    ],
    "slideshow": {
     "slide_type": "-"
    }
   },
   "outputs": [],
   "source": [
    "\"\"\"\n",
    "Function\n",
    "--------\n",
    "log_likelihood\n",
    "\n",
    "Compute the log likelihood of a dataset according to a bayesian classifier. \n",
    "\n",
    "The Log Likelihood is defined by\n",
    "\n",
    "L = Sum_fresh(logP(fresh)) + Sum_rotten(logP(rotten))\n",
    "\n",
    "Where Sum_fresh indicates a sum over all fresh reviews, \n",
    "and Sum_rotten indicates a sum over rotten reviews.\n",
    "\n",
    "Parameters\n",
    "----------\n",
    "model : Bayesian classifier\n",
    "x : (nexample, nfeature) array\n",
    "    The input data\n",
    "y : (nexample) integer array\n",
    "    Whether each review is Fresh\n",
    "\"\"\"\n",
    "\n",
    "def log_likelihood(model, x, y):\n",
    "    prob = model.predict_log_proba(x)\n",
    "    # returns Nx2 array.  Columns are log(Pr(y == 0|x)), log(Pr(y==1|x))\n",
    "    ll = prob[y == 0, 0].sum() + prob[y == 1, 1].sum()\n",
    "    return ll"
   ]
  },
  {
   "cell_type": "markdown",
   "metadata": {
    "ein.tags": [
     "worksheet-0"
    ],
    "slideshow": {
     "slide_type": "-"
    }
   },
   "source": [
    "## 3.2 Cross-Validation\n",
    "\n",
    "Why do we care about the log-likelihood of our data?  You guessed it: Cross-Validation.\n",
    "\n",
    "Our classifier has a few hyperparameters. The two most important are:\n",
    "\n",
    " 1. The `min_df` keyword in `CountVectorizer`, which will ignore words which appear in fewer than `min_df` fraction of reviews. Words that appear only once or twice can lead to overfitting, since words which occur only a few times might correlate very well with Fresh/Rotten reviews by chance in the training dataset.\n",
    " \n",
    " 2. The `alpha` keyword in the Bayesian classifier is a \"smoothing parameter\" -- increasing the value decreases the sensitivity to any single feature, and tends to pull prediction probabilities closer to 50%. \n",
    "\n",
    "We are going to use cross-validation to tune these hyperparameters.  The objective function we want to maximize is the log-likelihood of our data.  Fill in the remaining code in this block, to loop over many values of `alpha` and `min_df` to determine\n",
    "which settings are \"best\" in the sense of maximizing the cross-validated log-likelihood.\n",
    "\n",
    "*hint: sklearn has a built-in function, `sklearn.model_selection.cross_val_score`, that might save you a lot of time here...*"
   ]
  },
  {
   "cell_type": "code",
   "execution_count": 16,
   "metadata": {
    "collapsed": true
   },
   "outputs": [],
   "source": [
    "def make_xy_2(critics, vectorizer=None, min_df = None):\n",
    "    if vectorizer is None:\n",
    "        vectorizer = CountVectorizer(min_df=min_df)\n",
    "    X = vectorizer.fit_transform(critics.quote)\n",
    "    X = X.tocsc()  # some versions of sklearn return COO format\n",
    "    Y = (critics.fresh == 'fresh').values.astype(np.int)\n",
    "    return X, Y, vectorizer.get_feature_names()"
   ]
  },
  {
   "cell_type": "code",
   "execution_count": 17,
   "metadata": {
    "autoscroll": "json-false",
    "collapsed": false,
    "ein.tags": [
     "worksheet-0"
    ],
    "slideshow": {
     "slide_type": "-"
    }
   },
   "outputs": [
    {
     "name": "stdout",
     "output_type": "stream",
     "text": [
      "For alpha : 0.000000\n",
      "min_df : 0.000010\n"
     ]
    },
    {
     "name": "stderr",
     "output_type": "stream",
     "text": [
      "C:\\Users\\vanlo\\Anaconda3\\lib\\site-packages\\sklearn\\naive_bayes.py:699: RuntimeWarning: divide by zero encountered in log\n",
      "  self.feature_log_prob_ = (np.log(smoothed_fc) -\n",
      "C:\\Users\\vanlo\\Anaconda3\\lib\\site-packages\\sklearn\\utils\\extmath.py:410: RuntimeWarning: invalid value encountered in subtract\n",
      "  out = np.log(np.sum(np.exp(arr - vmax), axis=0))\n",
      "C:\\Users\\vanlo\\Anaconda3\\lib\\site-packages\\sklearn\\naive_bayes.py:699: RuntimeWarning: divide by zero encountered in log\n",
      "  self.feature_log_prob_ = (np.log(smoothed_fc) -\n",
      "C:\\Users\\vanlo\\Anaconda3\\lib\\site-packages\\sklearn\\utils\\extmath.py:410: RuntimeWarning: invalid value encountered in subtract\n",
      "  out = np.log(np.sum(np.exp(arr - vmax), axis=0))\n",
      "C:\\Users\\vanlo\\Anaconda3\\lib\\site-packages\\sklearn\\naive_bayes.py:699: RuntimeWarning: divide by zero encountered in log\n",
      "  self.feature_log_prob_ = (np.log(smoothed_fc) -\n",
      "C:\\Users\\vanlo\\Anaconda3\\lib\\site-packages\\sklearn\\utils\\extmath.py:410: RuntimeWarning: invalid value encountered in subtract\n",
      "  out = np.log(np.sum(np.exp(arr - vmax), axis=0))\n"
     ]
    },
    {
     "name": "stdout",
     "output_type": "stream",
     "text": [
      "nan\n",
      "min_df : 0.000100\n"
     ]
    },
    {
     "name": "stderr",
     "output_type": "stream",
     "text": [
      "C:\\Users\\vanlo\\Anaconda3\\lib\\site-packages\\sklearn\\naive_bayes.py:699: RuntimeWarning: divide by zero encountered in log\n",
      "  self.feature_log_prob_ = (np.log(smoothed_fc) -\n",
      "C:\\Users\\vanlo\\Anaconda3\\lib\\site-packages\\sklearn\\utils\\extmath.py:410: RuntimeWarning: invalid value encountered in subtract\n",
      "  out = np.log(np.sum(np.exp(arr - vmax), axis=0))\n",
      "C:\\Users\\vanlo\\Anaconda3\\lib\\site-packages\\sklearn\\naive_bayes.py:699: RuntimeWarning: divide by zero encountered in log\n",
      "  self.feature_log_prob_ = (np.log(smoothed_fc) -\n",
      "C:\\Users\\vanlo\\Anaconda3\\lib\\site-packages\\sklearn\\utils\\extmath.py:410: RuntimeWarning: invalid value encountered in subtract\n",
      "  out = np.log(np.sum(np.exp(arr - vmax), axis=0))\n",
      "C:\\Users\\vanlo\\Anaconda3\\lib\\site-packages\\sklearn\\naive_bayes.py:699: RuntimeWarning: divide by zero encountered in log\n",
      "  self.feature_log_prob_ = (np.log(smoothed_fc) -\n",
      "C:\\Users\\vanlo\\Anaconda3\\lib\\site-packages\\sklearn\\utils\\extmath.py:410: RuntimeWarning: invalid value encountered in subtract\n",
      "  out = np.log(np.sum(np.exp(arr - vmax), axis=0))\n"
     ]
    },
    {
     "name": "stdout",
     "output_type": "stream",
     "text": [
      "nan\n",
      "min_df : 0.001000\n"
     ]
    },
    {
     "name": "stderr",
     "output_type": "stream",
     "text": [
      "C:\\Users\\vanlo\\Anaconda3\\lib\\site-packages\\sklearn\\naive_bayes.py:699: RuntimeWarning: divide by zero encountered in log\n",
      "  self.feature_log_prob_ = (np.log(smoothed_fc) -\n",
      "C:\\Users\\vanlo\\Anaconda3\\lib\\site-packages\\sklearn\\utils\\extmath.py:410: RuntimeWarning: invalid value encountered in subtract\n",
      "  out = np.log(np.sum(np.exp(arr - vmax), axis=0))\n",
      "C:\\Users\\vanlo\\Anaconda3\\lib\\site-packages\\sklearn\\naive_bayes.py:699: RuntimeWarning: divide by zero encountered in log\n",
      "  self.feature_log_prob_ = (np.log(smoothed_fc) -\n",
      "C:\\Users\\vanlo\\Anaconda3\\lib\\site-packages\\sklearn\\utils\\extmath.py:410: RuntimeWarning: invalid value encountered in subtract\n",
      "  out = np.log(np.sum(np.exp(arr - vmax), axis=0))\n",
      "C:\\Users\\vanlo\\Anaconda3\\lib\\site-packages\\sklearn\\naive_bayes.py:699: RuntimeWarning: divide by zero encountered in log\n",
      "  self.feature_log_prob_ = (np.log(smoothed_fc) -\n",
      "C:\\Users\\vanlo\\Anaconda3\\lib\\site-packages\\sklearn\\utils\\extmath.py:410: RuntimeWarning: invalid value encountered in subtract\n",
      "  out = np.log(np.sum(np.exp(arr - vmax), axis=0))\n"
     ]
    },
    {
     "name": "stdout",
     "output_type": "stream",
     "text": [
      "nan\n",
      "min_df : 0.010000\n",
      "-2675.199762192071\n",
      "min_df : 0.100000\n",
      "-2761.6608409217224\n",
      " \n",
      "For alpha : 0.100000\n",
      "min_df : 0.000010\n",
      "-3731.5972913504247\n",
      "min_df : 0.000100\n",
      "-3732.8652709999897\n",
      "min_df : 0.001000\n",
      "-2686.834936876536\n",
      "min_df : 0.010000\n",
      "-2674.9022136682843\n",
      "min_df : 0.100000\n",
      "-2761.659023899852\n",
      " \n",
      "For alpha : 1.000000\n",
      "min_df : 0.000010\n",
      "-2543.882085483101\n",
      "min_df : 0.000100\n",
      "-2499.881162129589\n",
      "min_df : 0.001000\n",
      "-2492.04691484011\n",
      "min_df : 0.010000\n",
      "-2672.3737501196492\n",
      "min_df : 0.100000\n",
      "-2761.6429534771546\n",
      " \n",
      "For alpha : 5.000000\n",
      "min_df : 0.000010\n",
      "-4332.653610612579\n",
      "min_df : 0.000100\n",
      "-3104.801618833068\n",
      "min_df : 0.001000\n",
      "-2358.8273714373845\n",
      "min_df : 0.010000\n",
      "-2663.8077105946213\n",
      "min_df : 0.100000\n",
      "-2761.5775723671454\n",
      " \n",
      "For alpha : 10.000000\n",
      "min_df : 0.000010\n",
      "-5876.440099693719\n",
      "min_df : 0.000100\n",
      "-4432.618971133806\n",
      "min_df : 0.001000\n",
      "-2422.19881316915\n",
      "min_df : 0.010000\n",
      "-2657.4995838665454\n",
      "min_df : 0.100000\n",
      "-2761.509213575368\n",
      " \n",
      "For alpha : 50.000000\n",
      "min_df : 0.000010\n",
      "-7285.83928361016\n",
      "min_df : 0.000100\n",
      "-6663.223851852187\n",
      "min_df : 0.001000\n",
      "-4026.841262918442\n",
      "min_df : 0.010000\n",
      "-2685.7964557640503\n",
      "min_df : 0.100000\n",
      "-2761.411360797789\n",
      " \n"
     ]
    }
   ],
   "source": [
    "#the grid of parameters to search over\n",
    "alphas = [0, .1, 1, 5, 10, 50]\n",
    "min_dfs = [1e-5, 1e-4, 1e-3, 1e-2, 1e-1]\n",
    "for alpha in alphas:\n",
    "    print ('For alpha : %f' %alpha)\n",
    "    for min_df in min_dfs:\n",
    "        print ('min_df : %f' %min_df)\n",
    "        X, Y, feature_list = make_xy_2(reviews, min_df = min_df)\n",
    "        clf = MultinomialNB(alpha = alpha, class_prior=None, fit_prior=True)\n",
    "        print (cross_val_score(clf, X, Y, scoring = log_likelihood).mean())\n",
    "    print (' ')"
   ]
  },
  {
   "cell_type": "markdown",
   "metadata": {
    "ein.tags": [
     "worksheet-0"
    ],
    "slideshow": {
     "slide_type": "-"
    }
   },
   "source": [
    "## 3.3 Putting it together\n",
    "\n",
    "Now that you've determined values for alpha and min_df that optimize the cross-validated log-likelihood, repeat the steps in 2.1-2.3 to train a final classifier with these parameters and re-evaluate the accuracy.  Discuss the various ways in which Cross-Validation has affected the model. Is the new model more or less accurate? Is overfitting better or worse?"
   ]
  },
  {
   "cell_type": "code",
   "execution_count": 34,
   "metadata": {
    "autoscroll": "json-false",
    "collapsed": false,
    "ein.tags": [
     "worksheet-0"
    ],
    "slideshow": {
     "slide_type": "-"
    }
   },
   "outputs": [
    {
     "name": "stdout",
     "output_type": "stream",
     "text": [
      "Training accuracy is: 79.250419\n",
      "Testing accuracy is : 75.384615\n"
     ]
    }
   ],
   "source": [
    "X, Y, feature_list = make_xy_2(reviews, min_df = 0.001)\n",
    "X_df = pd.DataFrame(X.toarray())\n",
    "Y_df = pd.DataFrame(Y, columns =['Target'])\n",
    "data = pd.concat([X_df,Y_df], axis = 1)\n",
    "\n",
    "X_train, X_test, y_train, y_test = train_test_split(X,Y,test_size=0.25)\n",
    "\n",
    "clf_new = MultinomialNB(alpha = 5, class_prior=None, fit_prior=True)\n",
    "clf_new.fit(X_train,y_train)\n",
    "train_predicted = clf_new.predict(X_train)\n",
    "test_predicted = clf_new.predict(X_test)\n",
    "\n",
    "train_accuracy = metrics.accuracy_score(y_train,train_predicted) * 100\n",
    "test_accuracy = metrics.accuracy_score(y_test,test_predicted) * 100\n",
    "\n",
    "print('Training accuracy is: %f' %train_accuracy)\n",
    "print('Testing accuracy is : %f' %test_accuracy)"
   ]
  },
  {
   "cell_type": "markdown",
   "metadata": {
    "ein.tags": [
     "worksheet-0"
    ],
    "slideshow": {
     "slide_type": "-"
    }
   },
   "source": [
    "## 3.5 Interpretation\n",
    "\n",
    "What words best predict a fresh or rotten review?  Using your classifier and the `vectorizer.get_feature_names` method, determine which words best predict a positive or negative review. Print the 10 words that best predict a \"fresh\" review, and the 10 words that best predict a \"rotten\" review. For each word, what is the model's probability of freshness if the word appears one time?\n",
    "\n",
    "#### Hints\n",
    "* In thinking about how to measure the impact of a word on freshness rating, consider computing the classification probability for a feature vector which consists of all 0s, except for a single 1. What does this probability refer to?\n",
    "* `numpy.identity` generates an identity matrix, where all values are zero except the diagonal elements which have a value of one"
   ]
  },
  {
   "cell_type": "code",
   "execution_count": 35,
   "metadata": {
    "autoscroll": "json-false",
    "collapsed": false,
    "ein.tags": [
     "worksheet-0"
    ],
    "slideshow": {
     "slide_type": "-"
    }
   },
   "outputs": [
    {
     "data": {
      "text/html": [
       "<div>\n",
       "<table border=\"1\" class=\"dataframe\">\n",
       "  <thead>\n",
       "    <tr style=\"text-align: right;\">\n",
       "      <th></th>\n",
       "      <th>rotten</th>\n",
       "      <th>fresh</th>\n",
       "    </tr>\n",
       "  </thead>\n",
       "  <tbody>\n",
       "    <tr>\n",
       "      <th>0</th>\n",
       "      <td>0.461851</td>\n",
       "      <td>0.538149</td>\n",
       "    </tr>\n",
       "    <tr>\n",
       "      <th>1</th>\n",
       "      <td>0.281945</td>\n",
       "      <td>0.718055</td>\n",
       "    </tr>\n",
       "    <tr>\n",
       "      <th>2</th>\n",
       "      <td>0.219033</td>\n",
       "      <td>0.780967</td>\n",
       "    </tr>\n",
       "    <tr>\n",
       "      <th>3</th>\n",
       "      <td>0.438266</td>\n",
       "      <td>0.561734</td>\n",
       "    </tr>\n",
       "    <tr>\n",
       "      <th>4</th>\n",
       "      <td>0.438266</td>\n",
       "      <td>0.561734</td>\n",
       "    </tr>\n",
       "  </tbody>\n",
       "</table>\n",
       "</div>"
      ],
      "text/plain": [
       "     rotten     fresh\n",
       "0  0.461851  0.538149\n",
       "1  0.281945  0.718055\n",
       "2  0.219033  0.780967\n",
       "3  0.438266  0.561734\n",
       "4  0.438266  0.561734"
      ]
     },
     "execution_count": 35,
     "metadata": {},
     "output_type": "execute_result"
    }
   ],
   "source": [
    "probs_for_each_feature = clf_new.predict_proba(np.identity(len(feature_list)))\n",
    "prob_df = pd.DataFrame(probs_for_each_feature, columns =['rotten','fresh'])\n",
    "prob_df.head()"
   ]
  },
  {
   "cell_type": "code",
   "execution_count": 36,
   "metadata": {
    "collapsed": false
   },
   "outputs": [],
   "source": [
    "sort_df = prob_df.sort_values(['fresh'], axis = 0, ascending = False)"
   ]
  },
  {
   "cell_type": "code",
   "execution_count": 37,
   "metadata": {
    "collapsed": false
   },
   "outputs": [
    {
     "name": "stdout",
     "output_type": "stream",
     "text": [
      "['delight' 'masterpiece' 'remarkable' 'stunning' 'rare' 'beautiful'\n",
      " 'intelligent' 'intimate' 'captures' 'witty']\n"
     ]
    }
   ],
   "source": [
    "positive_reviews = list(sort_df.iloc[:10].index)\n",
    "feature_list = np.array(feature_list)\n",
    "print(feature_list[positive_reviews])"
   ]
  },
  {
   "cell_type": "code",
   "execution_count": 38,
   "metadata": {
    "collapsed": false
   },
   "outputs": [
    {
     "name": "stdout",
     "output_type": "stream",
     "text": [
      "['unfortunately' 'pointless' 'uninspired' 'lame' 'fails' 'problem' 'dull'\n",
      " 'disappointment' 'bland' 'unfunny']\n"
     ]
    }
   ],
   "source": [
    "sort_negative_df = prob_df.sort_values(['rotten'], axis = 0, ascending = False)\n",
    "negative_reviews = list(sort_negative_df.iloc[:10].index)\n",
    "print (feature_list[negative_reviews])"
   ]
  },
  {
   "cell_type": "markdown",
   "metadata": {
    "ein.tags": [
     "worksheet-0"
    ],
    "slideshow": {
     "slide_type": "-"
    }
   },
   "source": [
    "## Part 4: Principal Component Analysis\n",
    "\n",
    "Just when you thought you were *finally* done with the [Boston Housing Prices Data Set](http://archive.ics.uci.edu/ml/datasets/Housing), it has come back to haunt you for a few more minutes.  Make sure you're up and running as you were on the previous problem set:"
   ]
  },
  {
   "cell_type": "code",
   "execution_count": 39,
   "metadata": {
    "autoscroll": "json-false",
    "collapsed": false,
    "ein.tags": [
     "worksheet-0"
    ],
    "slideshow": {
     "slide_type": "-"
    }
   },
   "outputs": [
    {
     "name": "stdout",
     "output_type": "stream",
     "text": [
      "keys: dict_keys(['data', 'target', 'feature_names', 'DESCR'])\n",
      "feature names: ['CRIM' 'ZN' 'INDUS' 'CHAS' 'NOX' 'RM' 'AGE' 'DIS' 'RAD' 'TAX' 'PTRATIO'\n",
      " 'B' 'LSTAT']\n",
      "data shape: (506, 13)\n",
      "target shape (506,)\n",
      "--------------------------------------------------------------------------------\n"
     ]
    },
    {
     "data": {
      "text/html": [
       "<div>\n",
       "<table border=\"1\" class=\"dataframe\">\n",
       "  <thead>\n",
       "    <tr style=\"text-align: right;\">\n",
       "      <th></th>\n",
       "      <th>CRIM</th>\n",
       "      <th>ZN</th>\n",
       "      <th>INDUS</th>\n",
       "      <th>CHAS</th>\n",
       "      <th>NOX</th>\n",
       "      <th>RM</th>\n",
       "      <th>AGE</th>\n",
       "      <th>DIS</th>\n",
       "      <th>RAD</th>\n",
       "      <th>TAX</th>\n",
       "      <th>PTRATIO</th>\n",
       "      <th>B</th>\n",
       "      <th>LSTAT</th>\n",
       "      <th>MEDV</th>\n",
       "    </tr>\n",
       "  </thead>\n",
       "  <tbody>\n",
       "    <tr>\n",
       "      <th>0</th>\n",
       "      <td>0.00632</td>\n",
       "      <td>18.0</td>\n",
       "      <td>2.31</td>\n",
       "      <td>0.0</td>\n",
       "      <td>0.538</td>\n",
       "      <td>6.575</td>\n",
       "      <td>65.2</td>\n",
       "      <td>4.0900</td>\n",
       "      <td>1.0</td>\n",
       "      <td>296.0</td>\n",
       "      <td>15.3</td>\n",
       "      <td>396.90</td>\n",
       "      <td>4.98</td>\n",
       "      <td>24.0</td>\n",
       "    </tr>\n",
       "    <tr>\n",
       "      <th>1</th>\n",
       "      <td>0.02731</td>\n",
       "      <td>0.0</td>\n",
       "      <td>7.07</td>\n",
       "      <td>0.0</td>\n",
       "      <td>0.469</td>\n",
       "      <td>6.421</td>\n",
       "      <td>78.9</td>\n",
       "      <td>4.9671</td>\n",
       "      <td>2.0</td>\n",
       "      <td>242.0</td>\n",
       "      <td>17.8</td>\n",
       "      <td>396.90</td>\n",
       "      <td>9.14</td>\n",
       "      <td>21.6</td>\n",
       "    </tr>\n",
       "    <tr>\n",
       "      <th>2</th>\n",
       "      <td>0.02729</td>\n",
       "      <td>0.0</td>\n",
       "      <td>7.07</td>\n",
       "      <td>0.0</td>\n",
       "      <td>0.469</td>\n",
       "      <td>7.185</td>\n",
       "      <td>61.1</td>\n",
       "      <td>4.9671</td>\n",
       "      <td>2.0</td>\n",
       "      <td>242.0</td>\n",
       "      <td>17.8</td>\n",
       "      <td>392.83</td>\n",
       "      <td>4.03</td>\n",
       "      <td>34.7</td>\n",
       "    </tr>\n",
       "    <tr>\n",
       "      <th>3</th>\n",
       "      <td>0.03237</td>\n",
       "      <td>0.0</td>\n",
       "      <td>2.18</td>\n",
       "      <td>0.0</td>\n",
       "      <td>0.458</td>\n",
       "      <td>6.998</td>\n",
       "      <td>45.8</td>\n",
       "      <td>6.0622</td>\n",
       "      <td>3.0</td>\n",
       "      <td>222.0</td>\n",
       "      <td>18.7</td>\n",
       "      <td>394.63</td>\n",
       "      <td>2.94</td>\n",
       "      <td>33.4</td>\n",
       "    </tr>\n",
       "    <tr>\n",
       "      <th>4</th>\n",
       "      <td>0.06905</td>\n",
       "      <td>0.0</td>\n",
       "      <td>2.18</td>\n",
       "      <td>0.0</td>\n",
       "      <td>0.458</td>\n",
       "      <td>7.147</td>\n",
       "      <td>54.2</td>\n",
       "      <td>6.0622</td>\n",
       "      <td>3.0</td>\n",
       "      <td>222.0</td>\n",
       "      <td>18.7</td>\n",
       "      <td>396.90</td>\n",
       "      <td>5.33</td>\n",
       "      <td>36.2</td>\n",
       "    </tr>\n",
       "  </tbody>\n",
       "</table>\n",
       "</div>"
      ],
      "text/plain": [
       "      CRIM    ZN  INDUS  CHAS    NOX     RM   AGE     DIS  RAD    TAX  \\\n",
       "0  0.00632  18.0   2.31   0.0  0.538  6.575  65.2  4.0900  1.0  296.0   \n",
       "1  0.02731   0.0   7.07   0.0  0.469  6.421  78.9  4.9671  2.0  242.0   \n",
       "2  0.02729   0.0   7.07   0.0  0.469  7.185  61.1  4.9671  2.0  242.0   \n",
       "3  0.03237   0.0   2.18   0.0  0.458  6.998  45.8  6.0622  3.0  222.0   \n",
       "4  0.06905   0.0   2.18   0.0  0.458  7.147  54.2  6.0622  3.0  222.0   \n",
       "\n",
       "   PTRATIO       B  LSTAT  MEDV  \n",
       "0     15.3  396.90   4.98  24.0  \n",
       "1     17.8  396.90   9.14  21.6  \n",
       "2     17.8  392.83   4.03  34.7  \n",
       "3     18.7  394.63   2.94  33.4  \n",
       "4     18.7  396.90   5.33  36.2  "
      ]
     },
     "execution_count": 39,
     "metadata": {},
     "output_type": "execute_result"
    }
   ],
   "source": [
    "from sklearn.datasets import load_boston\n",
    "bdata = load_boston()\n",
    "print (\"keys:\", bdata.keys())\n",
    "print (\"feature names:\",  bdata.feature_names)\n",
    "print (\"data shape:\", bdata.data.shape)\n",
    "print (\"target shape\", bdata.target.shape)\n",
    "#print (bdata.DESCR)\n",
    "print (\"-\"*80)\n",
    "features = bdata.feature_names\n",
    "df = pd.DataFrame(bdata.data,columns = bdata.feature_names)\n",
    "df['MEDV'] = bdata.target\n",
    "df.head()"
   ]
  },
  {
   "cell_type": "markdown",
   "metadata": {
    "ein.tags": [
     "worksheet-0"
    ],
    "slideshow": {
     "slide_type": "-"
    }
   },
   "source": [
    "### 4.1 Remember the last problem set?\n",
    "\n",
    "Use matplotlib to create a scatter plot that shows the relationship between the median value of the home (y-axis) and the per-capita crime rate (x-axis).  Properly label your axes, and make sure that your graphic looks polished and professional.  If you didn't get full credit for this on the first problem set, get full credit this time!\n",
    "\n",
    "Then, just as you did on the previous problem set, use the [Linear Regression class](http://scikit-learn.org/stable/modules/generated/sklearn.linear_model.LinearRegression.html) from sklearn or the [OLS class](http://wiki.scipy.org/Cookbook/OLS) from SciPy to regress median housing price on average number of rooms per house.  Use a training set consisting of 66% of your instances to fit your regression model.  Report the RMSE on the training and test set."
   ]
  },
  {
   "cell_type": "code",
   "execution_count": 19,
   "metadata": {
    "autoscroll": "json-false",
    "collapsed": false,
    "ein.tags": [
     "worksheet-0"
    ],
    "slideshow": {
     "slide_type": "-"
    }
   },
   "outputs": [
    {
     "data": {
      "image/png": "[encoded data removed]",
      "text/plain": [
       "<matplotlib.figure.Figure at 0x1d0a4bacd68>"
      ]
     },
     "metadata": {},
     "output_type": "display_data"
    }
   ],
   "source": [
    "#Combining the data with the target median values\n",
    "bdata_df = np.insert(bdata.data, bdata.data.shape[1], bdata.target, axis = 1)\n",
    "ax = plt.subplot(111)\n",
    "ax.scatter(bdata_df[:,0],bdata_df[:,13], alpha = 0.5)\n",
    "plt.xlabel('Per capita crime rate')\n",
    "plt.ylabel('Median House value in $1000')\n",
    "plt.title('Housing price vs. Per capita crime rate')\n",
    "ax.spines['right'].set_visible(False)\n",
    "ax.spines['top'].set_visible(False)\n",
    "plt.xticks(np.arange(min(bdata_df[:,0]),max(bdata_df[:,0])+1,5.0))\n",
    "plt.show()"
   ]
  },
  {
   "cell_type": "code",
   "execution_count": 20,
   "metadata": {
    "collapsed": false
   },
   "outputs": [
    {
     "name": "stdout",
     "output_type": "stream",
     "text": [
      "                            OLS Regression Results                            \n",
      "==============================================================================\n",
      "Dep. Variable:                   MEDV   R-squared:                       0.459\n",
      "Model:                            OLS   Adj. R-squared:                  0.457\n",
      "Method:                 Least Squares   F-statistic:                     280.8\n",
      "Date:                Mon, 05 Feb 2018   Prob (F-statistic):           4.49e-46\n",
      "Time:                        21:32:27   Log-Likelihood:                -1103.6\n",
      "No. Observations:                 333   AIC:                             2211.\n",
      "Df Residuals:                     331   BIC:                             2219.\n",
      "Df Model:                           1                                         \n",
      "Covariance Type:            nonrobust                                         \n",
      "==============================================================================\n",
      "                 coef    std err          t      P>|t|      [95.0% Conf. Int.]\n",
      "------------------------------------------------------------------------------\n",
      "Intercept    -34.7281      3.429    -10.128      0.000       -41.473   -27.983\n",
      "RM             9.1107      0.544     16.758      0.000         8.041    10.180\n",
      "==============================================================================\n",
      "Omnibus:                       79.233   Durbin-Watson:                   2.006\n",
      "Prob(Omnibus):                  0.000   Jarque-Bera (JB):              536.074\n",
      "Skew:                           0.782   Prob(JB):                    3.92e-117\n",
      "Kurtosis:                       9.016   Cond. No.                         60.6\n",
      "==============================================================================\n",
      "\n",
      "Warnings:\n",
      "[1] Standard Errors assume that the covariance matrix of the errors is correctly specified.\n",
      "Intercept   -34.728106\n",
      "RM            9.110670\n",
      "dtype: float64\n"
     ]
    }
   ],
   "source": [
    "bd_train, bd_test = train_test_split(df, test_size = 0.34)\n",
    "\n",
    "mod_train = smf.ols(formula = 'MEDV ~ RM', data = bd_train).fit()\n",
    "print (mod_train.summary())\n",
    "print (mod_train.params)"
   ]
  },
  {
   "cell_type": "code",
   "execution_count": 21,
   "metadata": {
    "collapsed": false
   },
   "outputs": [
    {
     "name": "stdout",
     "output_type": "stream",
     "text": [
      "                            OLS Regression Results                            \n",
      "==============================================================================\n",
      "Dep. Variable:                   MEDV   R-squared:                       0.526\n",
      "Model:                            OLS   Adj. R-squared:                  0.524\n",
      "Method:                 Least Squares   F-statistic:                     190.0\n",
      "Date:                Mon, 05 Feb 2018   Prob (F-statistic):           1.51e-29\n",
      "Time:                        21:32:29   Log-Likelihood:                -569.38\n",
      "No. Observations:                 173   AIC:                             1143.\n",
      "Df Residuals:                     171   BIC:                             1149.\n",
      "Df Model:                           1                                         \n",
      "Covariance Type:            nonrobust                                         \n",
      "==============================================================================\n",
      "                 coef    std err          t      P>|t|      [95.0% Conf. Int.]\n",
      "------------------------------------------------------------------------------\n",
      "Intercept    -34.5774      4.190     -8.251      0.000       -42.849   -26.306\n",
      "RM             9.0885      0.659     13.783      0.000         7.787    10.390\n",
      "==============================================================================\n",
      "Omnibus:                       29.767   Durbin-Watson:                   2.199\n",
      "Prob(Omnibus):                  0.000   Jarque-Bera (JB):               96.427\n",
      "Skew:                           0.611   Prob(JB):                     1.15e-21\n",
      "Kurtosis:                       6.447   Cond. No.                         54.9\n",
      "==============================================================================\n",
      "\n",
      "Warnings:\n",
      "[1] Standard Errors assume that the covariance matrix of the errors is correctly specified.\n",
      "Intercept   -34.577417\n",
      "RM            9.088496\n",
      "dtype: float64\n"
     ]
    }
   ],
   "source": [
    "mod_test = smf.ols(formula = 'MEDV ~ RM', data = bd_test).fit()\n",
    "print (mod_test.summary())\n",
    "print (mod_test.params)"
   ]
  },
  {
   "cell_type": "code",
   "execution_count": 40,
   "metadata": {
    "collapsed": true
   },
   "outputs": [],
   "source": [
    "# Function : Compute RMSE\n",
    "def compute_rmse(predictions,yvalues):\n",
    "    x = np.square(np.asarray(predictions)- np.asarray(yvalues))\n",
    "    s = x.size + 0.0\n",
    "    y = np.sqrt(np.sum(x) * np.reciprocal(s))\n",
    "    return (round(y,2)) "
   ]
  },
  {
   "cell_type": "code",
   "execution_count": 41,
   "metadata": {
    "collapsed": false
   },
   "outputs": [
    {
     "name": "stdout",
     "output_type": "stream",
     "text": [
      "RMSE for train model :  6.65\n",
      "RMSE for test model :  6.5\n"
     ]
    }
   ],
   "source": [
    "y_predicted_train = mod_train.params.Intercept + mod_train.params.RM*bd_train['RM']\n",
    "rmse = compute_rmse(y_predicted_train, bd_train.iloc[:,-1])\n",
    "print ('RMSE for train model : ' ,rmse)\n",
    "\n",
    "y_predicted_test = mod_test.params.Intercept + mod_test.params.RM*bd_test['RM']\n",
    "rmse = compute_rmse(y_predicted_test, bd_test.iloc[:,-1])\n",
    "print ('RMSE for test model : ' ,rmse)"
   ]
  },
  {
   "cell_type": "markdown",
   "metadata": {
    "ein.tags": [
     "worksheet-0"
    ],
    "slideshow": {
     "slide_type": "-"
    }
   },
   "source": [
    "### 4.2 So many scatterplots!\n",
    "\n",
    "Choose 8 out of the of the 14 features of the housing data that you think are most interesting to study.  Create an 8x8 grid of scatterplots showing how each of these variables relate to each other.  You want to produce something that looks generally like [this image](http://iogas.net/wp-content/gallery/iogas-evaluation/scatterplot-matrix-point-density.png)."
   ]
  },
  {
   "cell_type": "code",
   "execution_count": 24,
   "metadata": {
    "autoscroll": "json-false",
    "collapsed": false,
    "ein.tags": [
     "worksheet-0"
    ],
    "slideshow": {
     "slide_type": "-"
    }
   },
   "outputs": [
    {
     "data": {
      "text/plain": [
       "array([[<matplotlib.axes._subplots.AxesSubplot object at 0x000001D0A71E03C8>,\n",
       "        <matplotlib.axes._subplots.AxesSubplot object at 0x000001D0A70AF278>,\n",
       "        <matplotlib.axes._subplots.AxesSubplot object at 0x000001D0A73B8748>,\n",
       "        <matplotlib.axes._subplots.AxesSubplot object at 0x000001D0A7123E48>,\n",
       "        <matplotlib.axes._subplots.AxesSubplot object at 0x000001D0A7377940>,\n",
       "        <matplotlib.axes._subplots.AxesSubplot object at 0x000001D0A7377978>,\n",
       "        <matplotlib.axes._subplots.AxesSubplot object at 0x000001D0A7392978>,\n",
       "        <matplotlib.axes._subplots.AxesSubplot object at 0x000001D0A74DAF28>],\n",
       "       [<matplotlib.axes._subplots.AxesSubplot object at 0x000001D0A754A198>,\n",
       "        <matplotlib.axes._subplots.AxesSubplot object at 0x000001D0A7591438>,\n",
       "        <matplotlib.axes._subplots.AxesSubplot object at 0x000001D0A75F6320>,\n",
       "        <matplotlib.axes._subplots.AxesSubplot object at 0x000001D0A7644748>,\n",
       "        <matplotlib.axes._subplots.AxesSubplot object at 0x000001D0A76AE780>,\n",
       "        <matplotlib.axes._subplots.AxesSubplot object at 0x000001D0A7706588>,\n",
       "        <matplotlib.axes._subplots.AxesSubplot object at 0x000001D0A88DF6D8>,\n",
       "        <matplotlib.axes._subplots.AxesSubplot object at 0x000001D0A89383C8>],\n",
       "       [<matplotlib.axes._subplots.AxesSubplot object at 0x000001D0A899E7F0>,\n",
       "        <matplotlib.axes._subplots.AxesSubplot object at 0x000001D0A89F5208>,\n",
       "        <matplotlib.axes._subplots.AxesSubplot object at 0x000001D0A8A5F7F0>,\n",
       "        <matplotlib.axes._subplots.AxesSubplot object at 0x000001D0A8A7CC50>,\n",
       "        <matplotlib.axes._subplots.AxesSubplot object at 0x000001D0A8B22518>,\n",
       "        <matplotlib.axes._subplots.AxesSubplot object at 0x000001D0A8B88828>,\n",
       "        <matplotlib.axes._subplots.AxesSubplot object at 0x000001D0A8BE2198>,\n",
       "        <matplotlib.axes._subplots.AxesSubplot object at 0x000001D0A8C494A8>],\n",
       "       [<matplotlib.axes._subplots.AxesSubplot object at 0x000001D0A8C9BFD0>,\n",
       "        <matplotlib.axes._subplots.AxesSubplot object at 0x000001D0A8D04F28>,\n",
       "        <matplotlib.axes._subplots.AxesSubplot object at 0x000001D0A8D669B0>,\n",
       "        <matplotlib.axes._subplots.AxesSubplot object at 0x000001D0A8DCCCF8>,\n",
       "        <matplotlib.axes._subplots.AxesSubplot object at 0x000001D0A8E2E0B8>,\n",
       "        <matplotlib.axes._subplots.AxesSubplot object at 0x000001D0A8E945C0>,\n",
       "        <matplotlib.axes._subplots.AxesSubplot object at 0x000001D0A8EE9EB8>,\n",
       "        <matplotlib.axes._subplots.AxesSubplot object at 0x000001D0A8F564E0>],\n",
       "       [<matplotlib.axes._subplots.AxesSubplot object at 0x000001D0A8B92D30>,\n",
       "        <matplotlib.axes._subplots.AxesSubplot object at 0x000001D0A8FFB0F0>,\n",
       "        <matplotlib.axes._subplots.AxesSubplot object at 0x000001D0A90629E8>,\n",
       "        <matplotlib.axes._subplots.AxesSubplot object at 0x000001D0A90BD2E8>,\n",
       "        <matplotlib.axes._subplots.AxesSubplot object at 0x000001D0A912D1D0>,\n",
       "        <matplotlib.axes._subplots.AxesSubplot object at 0x000001D0A9177B38>,\n",
       "        <matplotlib.axes._subplots.AxesSubplot object at 0x000001D0A91DDE48>,\n",
       "        <matplotlib.axes._subplots.AxesSubplot object at 0x000001D0A9237898>],\n",
       "       [<matplotlib.axes._subplots.AxesSubplot object at 0x000001D0A929F7F0>,\n",
       "        <matplotlib.axes._subplots.AxesSubplot object at 0x000001D0A9302278>,\n",
       "        <matplotlib.axes._subplots.AxesSubplot object at 0x000001D0A93695C0>,\n",
       "        <matplotlib.axes._subplots.AxesSubplot object at 0x000001D0A93C3940>,\n",
       "        <matplotlib.axes._subplots.AxesSubplot object at 0x000001D0A9428E48>,\n",
       "        <matplotlib.axes._subplots.AxesSubplot object at 0x000001D0A9484780>,\n",
       "        <matplotlib.axes._subplots.AxesSubplot object at 0x000001D0A94EBD68>,\n",
       "        <matplotlib.axes._subplots.AxesSubplot object at 0x000001D0A95465C0>],\n",
       "       [<matplotlib.axes._subplots.AxesSubplot object at 0x000001D0A95AAA90>,\n",
       "        <matplotlib.axes._subplots.AxesSubplot object at 0x000001D0A95C9128>,\n",
       "        <matplotlib.axes._subplots.AxesSubplot object at 0x000001D0A966D908>,\n",
       "        <matplotlib.axes._subplots.AxesSubplot object at 0x000001D0A96D3C18>,\n",
       "        <matplotlib.axes._subplots.AxesSubplot object at 0x000001D0A972D550>,\n",
       "        <matplotlib.axes._subplots.AxesSubplot object at 0x000001D0A9795860>,\n",
       "        <matplotlib.axes._subplots.AxesSubplot object at 0x000001D0A97F13C8>,\n",
       "        <matplotlib.axes._subplots.AxesSubplot object at 0x000001D0A9857320>],\n",
       "       [<matplotlib.axes._subplots.AxesSubplot object at 0x000001D0A9899550>,\n",
       "        <matplotlib.axes._subplots.AxesSubplot object at 0x000001D0A98FCB70>,\n",
       "        <matplotlib.axes._subplots.AxesSubplot object at 0x000001D0A9958390>,\n",
       "        <matplotlib.axes._subplots.AxesSubplot object at 0x000001D0A99BE978>,\n",
       "        <matplotlib.axes._subplots.AxesSubplot object at 0x000001D0A9A1A1D0>,\n",
       "        <matplotlib.axes._subplots.AxesSubplot object at 0x000001D0A9A7E6A0>,\n",
       "        <matplotlib.axes._subplots.AxesSubplot object at 0x000001D0A9A9DC18>,\n",
       "        <matplotlib.axes._subplots.AxesSubplot object at 0x000001D0A9B41518>]],\n",
       "      dtype=object)"
      ]
     },
     "execution_count": 24,
     "metadata": {},
     "output_type": "execute_result"
    },
    {
     "data": {
      "image/png": "[encoded data removed]",
      "text/plain": [
       "<matplotlib.figure.Figure at 0x1d0a71b8cf8>"
      ]
     },
     "metadata": {},
     "output_type": "display_data"
    }
   ],
   "source": [
    "from pandas.tools.plotting import scatter_matrix\n",
    "df_subset = df.loc[:,['CRIM','ZN','INDUS','CHAS','NOX','RM','AGE','TAX']]\n",
    "scatter_matrix(df_subset, figsize=(10, 10), diagonal='kde')"
   ]
  },
  {
   "cell_type": "markdown",
   "metadata": {
    "ein.tags": [
     "worksheet-0"
    ],
    "slideshow": {
     "slide_type": "-"
    }
   },
   "source": [
    "### 4.3 PCA to the rescue\n",
    "\n",
    "Run principal component analysis using [PCA](http://scikit-learn.org/stable/modules/generated/sklearn.decomposition.PCA.html) from sklearn to find the first 12 principal components of your data.  Use only your training set (66% of the data), and use all features *except* the median housing price.  Create a figure showing how the amount of variance explained by your components increases as you increase the number of components from 1 to 12."
   ]
  },
  {
   "cell_type": "code",
   "execution_count": 25,
   "metadata": {
    "autoscroll": "json-false",
    "collapsed": false,
    "ein.tags": [
     "worksheet-0"
    ],
    "slideshow": {
     "slide_type": "-"
    }
   },
   "outputs": [
    {
     "name": "stdout",
     "output_type": "stream",
     "text": [
      "[1, 2, 3, 4, 5, 6, 7, 8, 9, 10, 11, 12]\n",
      "[0.7976848792782073, 0.966948236452689, 0.9893996085341313, 0.9967539797049013, 0.9984579928980001, 0.9991817958206576, 0.9996097163138065, 0.9998888135516636, 0.999962469604898, 0.9999921348875487, 0.9999986051254102, 0.9999999211248778]\n"
     ]
    },
    {
     "data": {
      "image/png": "[encoded data removed]",
      "text/plain": [
       "<matplotlib.figure.Figure at 0x1d0a71b8f28>"
      ]
     },
     "metadata": {},
     "output_type": "display_data"
    }
   ],
   "source": [
    "X_train = bd_train.ix[:, bd_train.columns != 'MEDV']\n",
    "components = range(1,13)\n",
    "temp_i = []\n",
    "temp_sum_variance = []\n",
    "for i in components:\n",
    "    pca = PCA(n_components=i)\n",
    "    pca.fit(X_train)\n",
    "    sum_variance = np.sum(pca.explained_variance_ratio_)\n",
    "    temp_i.append(i)\n",
    "    temp_sum_variance.append(sum_variance)\n",
    "print(temp_i)\n",
    "print(temp_sum_variance)\n",
    "ax = plt.subplot(111)\n",
    "ax.plot(temp_i,temp_sum_variance)\n",
    "plt.xlabel('Number of principal components')\n",
    "plt.ylabel('Cumulative sum of variance')\n",
    "plt.title('Sum of Variance vs. PCA')\n",
    "ax.spines['right'].set_visible(False)\n",
    "ax.spines['top'].set_visible(False)\n",
    "plt.show()"
   ]
  },
  {
   "cell_type": "markdown",
   "metadata": {
    "ein.tags": [
     "worksheet-0"
    ],
    "slideshow": {
     "slide_type": "-"
    }
   },
   "source": [
    "### 4.4 Visualizing the components\n",
    "\n",
    "Create a 1X3 grid containing three scatter plots of your training data:\n",
    "\n",
    "1. PCA 1 vs. PCA 2 (you will need to use `fit_transform` to project your training data onto these two components)\n",
    "2. PCA 1 (x-axis) vs. median housing value\n",
    "3. PCA 2 vs. median housing value"
   ]
  },
  {
   "cell_type": "code",
   "execution_count": 26,
   "metadata": {
    "autoscroll": "json-false",
    "collapsed": false,
    "ein.tags": [
     "worksheet-0"
    ],
    "slideshow": {
     "slide_type": "-"
    }
   },
   "outputs": [],
   "source": [
    "pca2 = PCA(n_components = 2)\n",
    "X = pd.DataFrame(pca2.fit_transform(X_train), columns =['PCA1','PCA2'])\n",
    "X = pd.concat([X,bd_train.iloc[:,-1]], axis = 1)"
   ]
  },
  {
   "cell_type": "code",
   "execution_count": 27,
   "metadata": {
    "collapsed": false
   },
   "outputs": [
    {
     "data": {
      "text/plain": [
       "<matplotlib.axes._subplots.AxesSubplot at 0x1d0a4e172e8>"
      ]
     },
     "execution_count": 27,
     "metadata": {},
     "output_type": "execute_result"
    },
    {
     "data": {
      "image/png": "[encoded data removed]",
      "text/plain": [
       "<matplotlib.figure.Figure at 0x1d0aa27f278>"
      ]
     },
     "metadata": {},
     "output_type": "display_data"
    }
   ],
   "source": [
    "fig, ax = plt.subplots(1,3)\n",
    "X.plot('PCA1', 'PCA2', kind = 'scatter', ax = ax[0], figsize= (16,6))\n",
    "X.plot('PCA1', 'MEDV', kind = 'scatter', ax = ax[1])\n",
    "X.plot('PCA2', 'MEDV', kind = 'scatter', ax = ax[2])"
   ]
  },
  {
   "cell_type": "markdown",
   "metadata": {
    "ein.tags": [
     "worksheet-0"
    ],
    "slideshow": {
     "slide_type": "-"
    }
   },
   "source": [
    "### 4.5 Regression and PCA\n",
    "\n",
    "Using just the first Principal Component learned on the training data, project all of your data (including the test data) onto this 1-dimensional subspace using the `fit_transform` function.  Now, using your training data, fit a regression of median housing price on this first principal component of your data.  Report the RMSE of this regression for both the training and test set.  How do these results compare to your results from 4.1?  Interpret your results!"
   ]
  },
  {
   "cell_type": "code",
   "execution_count": 28,
   "metadata": {
    "autoscroll": "json-false",
    "collapsed": false,
    "ein.tags": [
     "worksheet-0"
    ],
    "slideshow": {
     "slide_type": "-"
    }
   },
   "outputs": [
    {
     "data": {
      "text/plain": [
       "PCA(copy=True, iterated_power='auto', n_components=1, random_state=None,\n",
       "  svd_solver='auto', tol=0.0, whiten=False)"
      ]
     },
     "execution_count": 28,
     "metadata": {},
     "output_type": "execute_result"
    }
   ],
   "source": [
    "pca3 = PCA(n_components = 1)\n",
    "pca3.fit(X_train)"
   ]
  },
  {
   "cell_type": "code",
   "execution_count": 29,
   "metadata": {
    "collapsed": false
   },
   "outputs": [],
   "source": [
    "PCA1 = pd.DataFrame(pca3.fit_transform(df), columns =['PCA'])\n",
    "medv = df['MEDV']\n",
    "total_data = pd.concat([PCA1, medv], axis = 1)"
   ]
  },
  {
   "cell_type": "code",
   "execution_count": 30,
   "metadata": {
    "collapsed": true
   },
   "outputs": [],
   "source": [
    "pca_train, pca_test = train_test_split(total_data, test_size=0.34)"
   ]
  },
  {
   "cell_type": "code",
   "execution_count": 31,
   "metadata": {
    "collapsed": false
   },
   "outputs": [
    {
     "name": "stdout",
     "output_type": "stream",
     "text": [
      "Intercept    22.79593\n",
      "PCA          -0.02531\n",
      "dtype: float64\n",
      "                            OLS Regression Results                            \n",
      "==============================================================================\n",
      "Dep. Variable:                   MEDV   R-squared:                       0.219\n",
      "Model:                            OLS   Adj. R-squared:                  0.217\n",
      "Method:                 Least Squares   F-statistic:                     92.96\n",
      "Date:                Mon, 05 Feb 2018   Prob (F-statistic):           1.50e-19\n",
      "Time:                        21:32:58   Log-Likelihood:                -1175.0\n",
      "No. Observations:                 333   AIC:                             2354.\n",
      "Df Residuals:                     331   BIC:                             2362.\n",
      "Df Model:                           1                                         \n",
      "Covariance Type:            nonrobust                                         \n",
      "==============================================================================\n",
      "                 coef    std err          t      P>|t|      [95.0% Conf. Int.]\n",
      "------------------------------------------------------------------------------\n",
      "Intercept     22.7959      0.453     50.284      0.000        21.904    23.688\n",
      "PCA           -0.0253      0.003     -9.641      0.000        -0.030    -0.020\n",
      "==============================================================================\n",
      "Omnibus:                      115.064   Durbin-Watson:                   1.892\n",
      "Prob(Omnibus):                  0.000   Jarque-Bera (JB):              310.511\n",
      "Skew:                           1.639   Prob(JB):                     3.75e-68\n",
      "Kurtosis:                       6.411   Cond. No.                         173.\n",
      "==============================================================================\n",
      "\n",
      "Warnings:\n",
      "[1] Standard Errors assume that the covariance matrix of the errors is correctly specified.\n"
     ]
    }
   ],
   "source": [
    "mod1 = smf.ols(formula=\"MEDV ~ PCA\", data=pca_train, missing = 'drop').fit()\n",
    "print (mod1.params)\n",
    "print (mod1.summary())"
   ]
  },
  {
   "cell_type": "code",
   "execution_count": 43,
   "metadata": {
    "collapsed": false
   },
   "outputs": [
    {
     "name": "stdout",
     "output_type": "stream",
     "text": [
      "Intercept    22.029849\n",
      "PCA          -0.025700\n",
      "dtype: float64\n",
      "                            OLS Regression Results                            \n",
      "==============================================================================\n",
      "Dep. Variable:                   MEDV   R-squared:                       0.275\n",
      "Model:                            OLS   Adj. R-squared:                  0.271\n",
      "Method:                 Least Squares   F-statistic:                     65.02\n",
      "Date:                Mon, 05 Feb 2018   Prob (F-statistic):           1.24e-13\n",
      "Time:                        21:36:04   Log-Likelihood:                -595.01\n",
      "No. Observations:                 173   AIC:                             1194.\n",
      "Df Residuals:                     171   BIC:                             1200.\n",
      "Df Model:                           1                                         \n",
      "Covariance Type:            nonrobust                                         \n",
      "==============================================================================\n",
      "                 coef    std err          t      P>|t|      [95.0% Conf. Int.]\n",
      "------------------------------------------------------------------------------\n",
      "Intercept     22.0298      0.577     38.150      0.000        20.890    23.170\n",
      "PCA           -0.0257      0.003     -8.063      0.000        -0.032    -0.019\n",
      "==============================================================================\n",
      "Omnibus:                       71.271   Durbin-Watson:                   2.205\n",
      "Prob(Omnibus):                  0.000   Jarque-Bera (JB):              197.483\n",
      "Skew:                           1.748   Prob(JB):                     1.31e-43\n",
      "Kurtosis:                       6.895   Cond. No.                         181.\n",
      "==============================================================================\n",
      "\n",
      "Warnings:\n",
      "[1] Standard Errors assume that the covariance matrix of the errors is correctly specified.\n"
     ]
    }
   ],
   "source": [
    "mod2 = smf.ols(formula=\"MEDV ~ PCA\", data=pca_test, missing = 'drop').fit()\n",
    "print (mod2.params)\n",
    "print (mod2.summary())"
   ]
  },
  {
   "cell_type": "code",
   "execution_count": 44,
   "metadata": {
    "collapsed": false
   },
   "outputs": [
    {
     "name": "stdout",
     "output_type": "stream",
     "text": [
      "RMSE for train model after PCA :  8.24\n",
      "RMSE for test model after PCA :  7.54\n"
     ]
    }
   ],
   "source": [
    "y_predicted_pca_train = mod1.params.Intercept + mod1.params.PCA*pca_train['PCA']\n",
    "rmse = compute_rmse(y_predicted_pca_train, pca_train.iloc[:,-1])\n",
    "print ('RMSE for train model after PCA : ' ,rmse)\n",
    "\n",
    "y_predicted_pca_test = mod2.params.Intercept + mod2.params.PCA*pca_test['PCA']\n",
    "rmse = compute_rmse(y_predicted_pca_test, pca_test.iloc[:,-1])\n",
    "print ('RMSE for test model after PCA : ' ,rmse)"
   ]
  }
 ],
 "metadata": {
  "anaconda-cloud": {},
  "kernelspec": {
   "display_name": "Python 3",
   "language": "python",
   "name": "python3"
  },
  "language_info": {
   "codemirror_mode": {
    "name": "ipython",
    "version": 3
   },
   "file_extension": ".py",
   "mimetype": "text/x-python",
   "name": "python",
   "nbconvert_exporter": "python",
   "pygments_lexer": "ipython3",
   "version": "3.6.0"
  },
  "name": "pset5_solutions.ipynb"
 },
 "nbformat": 4,
 "nbformat_minor": 0
}
