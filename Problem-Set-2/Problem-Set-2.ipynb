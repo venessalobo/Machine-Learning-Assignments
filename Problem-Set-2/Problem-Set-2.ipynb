{
 "cells": [
  {
   "cell_type": "markdown",
   "metadata": {
    "ein.tags": [
     "worksheet-0"
    ],
    "slideshow": {
     "slide_type": "-"
    }
   },
   "source": [
    "## Introduction to the assignment\n",
    "\n",
    "For this assignment, you will be using data from the [Progresa program](http://en.wikipedia.org/wiki/Oportunidades), a government social assistance program in Mexico. This program, as well as the details of its impact, are described in the paper \"[School subsidies for the poor: evaluating the Mexican Progresa poverty program](http://www.sciencedirect.com/science/article/pii/S0304387803001858)\", by Paul Shultz (available on Canvas). Please familiarize yourself with the PROGRESA program before beginning this problem set, so you have a rough sense of where the data come from and how they were generated. If you just proceed into the problem set without understanding Progresa or the data, it will be very difficult!\n",
    "\n",
    "The goal of this problem set is to implement some of the basic econometric techniques that you are learning in class to measure the impact of Progresa on secondary school enrollment rates. The timeline of the program was:\n",
    "\n",
    " * Baseline survey conducted in 1997\n",
    " * Intervention begins in 1998, \"Wave 1\" of data collected in 1998\n",
    " * \"Wave 2 of data\" collected in 1999\n",
    " * Evaluation ends in 2000, at which point the control villages were treated. \n",
    " \n",
    "When you are ready, download the progresa_sample.csv data from Canvas. The data are actual data collected to evaluate the impact of the Progresa program.  In this file, each row corresponds to an observation taken for a given child for a given year. There are two years of data (1997 and 1998), and just under 40,000 children who are surveyed in each year. For each child-year observation, the following variables are collected:\n",
    "\n",
    "| Variable name | Description|\n",
    "|---------|---------|\n",
    "|year\t  |year in which data is collected\n",
    "|sex\t  |male = 1|\n",
    "|indig\t  |indigenous = 1|\n",
    "|dist_sec |nearest distance to a secondary school|\n",
    "|sc\t      |enrolled in school in year of survey|\n",
    "|grc      |grade enrolled|\n",
    "|fam_n    |family size|\n",
    "|min_dist |\tmin distance to an urban center|\n",
    "|dist_cap |\tmin distance to the capital|\n",
    "|poor     |\tpoor = 'pobre'|\n",
    "|progresa |treatment = 'basal'|\n",
    "|hohedu\t  |years of schooling of head of household|\n",
    "|hohwag\t  |monthly wages of head of household|\n",
    "|welfare_index|\twelfare index used to classify poor|\n",
    "|hohsex\t  |gender of head of household (male=1)|\n",
    "|hohage   |age of head of household|\n",
    "|age      |years old|\n",
    "|folnum\t  |individual id|\n",
    "|village  |\tvillage id|\n",
    "|sc97\t  |schooling in 1997|"
   ]
  },
  {
   "cell_type": "code",
   "execution_count": 26,
   "metadata": {
    "autoscroll": "json-false",
    "collapsed": false,
    "ein.tags": [
     "worksheet-0"
    ],
    "slideshow": {
     "slide_type": "-"
    }
   },
   "outputs": [
    {
     "name": "stdout",
     "output_type": "stream",
     "text": [
      "3.6.0 |Anaconda 4.3.1 (64-bit)| (default, Dec 23 2016, 11:57:41) [MSC v.1900 64 bit (AMD64)]\n"
     ]
    }
   ],
   "source": [
    "#Packages\n",
    "import sys; print(sys.version)\n",
    "import pandas as pd\n",
    "import numpy as np\n",
    "import matplotlib.pyplot as plt\n",
    "import statsmodels.formula.api as smf\n",
    "%matplotlib inline"
   ]
  },
  {
   "cell_type": "code",
   "execution_count": 27,
   "metadata": {
    "collapsed": false
   },
   "outputs": [],
   "source": [
    "progresa = pd.read_csv('progresa_sample.csv')"
   ]
  },
  {
   "cell_type": "code",
   "execution_count": 28,
   "metadata": {
    "collapsed": false
   },
   "outputs": [],
   "source": [
    "#Converting variables poor and progresa into numeric values 0/1\n",
    "#pobre --> 1\n",
    "#no pobre --> 0\n",
    "#basal --> 1\n",
    "#control --> 0\n",
    "progresa.loc[progresa.poor == 'pobre','poor'] = 1\n",
    "progresa.loc[progresa.poor == 'no pobre','poor'] = 0\n",
    "progresa.loc[progresa.progresa == 'basal','progresa'] = 1\n",
    "progresa.loc[progresa.progresa == '0','progresa'] = 0"
   ]
  },
  {
   "cell_type": "markdown",
   "metadata": {
    "ein.tags": [
     "worksheet-0"
    ],
    "slideshow": {
     "slide_type": "-"
    }
   },
   "source": [
    "---\n",
    "##Part 1: Descriptive analysis\n",
    "\n",
    "### 1.1\tSummary Statistics\n",
    "\n",
    "a) Present number of missing observations for every single variable\n"
   ]
  },
  {
   "cell_type": "code",
   "execution_count": 29,
   "metadata": {
    "collapsed": false,
    "scrolled": true
   },
   "outputs": [
    {
     "data": {
      "text/plain": [
       "year                0\n",
       "sex                24\n",
       "indig             300\n",
       "dist_sec            0\n",
       "sc               8453\n",
       "grc              6549\n",
       "fam_n               0\n",
       "min_dist            0\n",
       "dist_cap            0\n",
       "poor                0\n",
       "progresa            0\n",
       "hohedu              0\n",
       "hohwag              0\n",
       "welfare_index     210\n",
       "hohsex             20\n",
       "hohage             10\n",
       "age                 0\n",
       "village             0\n",
       "folnum              0\n",
       "grc97               0\n",
       "sc97             3872\n",
       "dtype: int64"
      ]
     },
     "execution_count": 29,
     "metadata": {},
     "output_type": "execute_result"
    }
   ],
   "source": [
    "progresa.isnull().sum()"
   ]
  },
  {
   "cell_type": "markdown",
   "metadata": {
    "ein.tags": [
     "worksheet-0"
    ],
    "slideshow": {
     "slide_type": "-"
    }
   },
   "source": [
    "b) Present summary statistics (mean and standard deviation) for all of the demographic variables in the dataset (i.e., everything except year, folnum, village). Present these in a single table alphabetized by variable name. Do NOT simply expect the grader to scroll through your output!"
   ]
  },
  {
   "cell_type": "code",
   "execution_count": 30,
   "metadata": {
    "collapsed": false
   },
   "outputs": [
    {
     "data": {
      "text/html": [
       "<div>\n",
       "<table border=\"1\" class=\"dataframe\">\n",
       "  <thead>\n",
       "    <tr style=\"text-align: right;\">\n",
       "      <th></th>\n",
       "      <th>mean</th>\n",
       "      <th>std</th>\n",
       "    </tr>\n",
       "  </thead>\n",
       "  <tbody>\n",
       "    <tr>\n",
       "      <th>age</th>\n",
       "      <td>11.366460</td>\n",
       "      <td>3.167744</td>\n",
       "    </tr>\n",
       "    <tr>\n",
       "      <th>dist_cap</th>\n",
       "      <td>147.674452</td>\n",
       "      <td>76.063134</td>\n",
       "    </tr>\n",
       "    <tr>\n",
       "      <th>dist_sec</th>\n",
       "      <td>2.418910</td>\n",
       "      <td>2.234109</td>\n",
       "    </tr>\n",
       "    <tr>\n",
       "      <th>fam_n</th>\n",
       "      <td>7.215715</td>\n",
       "      <td>2.352900</td>\n",
       "    </tr>\n",
       "    <tr>\n",
       "      <th>grc</th>\n",
       "      <td>3.963537</td>\n",
       "      <td>2.499063</td>\n",
       "    </tr>\n",
       "    <tr>\n",
       "      <th>grc97</th>\n",
       "      <td>3.705372</td>\n",
       "      <td>2.572387</td>\n",
       "    </tr>\n",
       "    <tr>\n",
       "      <th>hohage</th>\n",
       "      <td>44.436717</td>\n",
       "      <td>11.620372</td>\n",
       "    </tr>\n",
       "    <tr>\n",
       "      <th>hohedu</th>\n",
       "      <td>2.768104</td>\n",
       "      <td>2.656106</td>\n",
       "    </tr>\n",
       "    <tr>\n",
       "      <th>hohsex</th>\n",
       "      <td>0.925185</td>\n",
       "      <td>0.263095</td>\n",
       "    </tr>\n",
       "    <tr>\n",
       "      <th>hohwag</th>\n",
       "      <td>586.985312</td>\n",
       "      <td>788.133664</td>\n",
       "    </tr>\n",
       "    <tr>\n",
       "      <th>indig</th>\n",
       "      <td>0.298324</td>\n",
       "      <td>0.457525</td>\n",
       "    </tr>\n",
       "    <tr>\n",
       "      <th>min_dist</th>\n",
       "      <td>103.447520</td>\n",
       "      <td>42.089441</td>\n",
       "    </tr>\n",
       "    <tr>\n",
       "      <th>sc</th>\n",
       "      <td>0.819818</td>\n",
       "      <td>0.384342</td>\n",
       "    </tr>\n",
       "    <tr>\n",
       "      <th>sc97</th>\n",
       "      <td>0.813922</td>\n",
       "      <td>0.389172</td>\n",
       "    </tr>\n",
       "    <tr>\n",
       "      <th>sex</th>\n",
       "      <td>0.512211</td>\n",
       "      <td>0.499854</td>\n",
       "    </tr>\n",
       "    <tr>\n",
       "      <th>welfare_index</th>\n",
       "      <td>690.346564</td>\n",
       "      <td>139.491130</td>\n",
       "    </tr>\n",
       "  </tbody>\n",
       "</table>\n",
       "</div>"
      ],
      "text/plain": [
       "                     mean         std\n",
       "age             11.366460    3.167744\n",
       "dist_cap       147.674452   76.063134\n",
       "dist_sec         2.418910    2.234109\n",
       "fam_n            7.215715    2.352900\n",
       "grc              3.963537    2.499063\n",
       "grc97            3.705372    2.572387\n",
       "hohage          44.436717   11.620372\n",
       "hohedu           2.768104    2.656106\n",
       "hohsex           0.925185    0.263095\n",
       "hohwag         586.985312  788.133664\n",
       "indig            0.298324    0.457525\n",
       "min_dist       103.447520   42.089441\n",
       "sc               0.819818    0.384342\n",
       "sc97             0.813922    0.389172\n",
       "sex              0.512211    0.499854\n",
       "welfare_index  690.346564  139.491130"
      ]
     },
     "execution_count": 30,
     "metadata": {},
     "output_type": "execute_result"
    }
   ],
   "source": [
    "x = progresa[progresa.columns.difference(['year','folnum','village'])].describe()\n",
    "progresa_mean_std = x.loc['mean':'std',:]\n",
    "progresa_mean_std.T"
   ]
  },
  {
   "cell_type": "markdown",
   "metadata": {
    "ein.tags": [
     "worksheet-0"
    ],
    "slideshow": {
     "slide_type": "-"
    }
   },
   "source": [
    "### 1.2 Differences at baseline?\n",
    "\n",
    "Are the baseline (1997) demographic characteristics **for the poor**  different in treatment and control villages? Hint: Use a T-Test to determine whether there is a statistically significant difference in the average values of each of the variables in the dataset. Focus only on the data from 1997 for individuals who are poor (i.e., poor=='pobre').\n",
    "\n",
    "Present your results in a single table with the following columns and 14 (or so) rows:\n",
    "\n",
    "| Variable name | Average value (Treatment villages) | Average value (Control villages) | Difference (Treat - Control) | p-value |\n",
    "|------|------|------|------|------|\n",
    "|Male  |?     |?     |?     |?     |\n"
   ]
  },
  {
   "cell_type": "code",
   "execution_count": 31,
   "metadata": {
    "collapsed": false
   },
   "outputs": [],
   "source": [
    "#Subset data\n",
    "poor_97 = progresa[(progresa.poor==1)&(progresa.year==97)]"
   ]
  },
  {
   "cell_type": "code",
   "execution_count": 32,
   "metadata": {
    "collapsed": false
   },
   "outputs": [],
   "source": [
    "#Create separate treatment and control set\n",
    "treatment_poor_97 = poor_97.loc[poor_97.progresa==1]\n",
    "control_poor_97 = poor_97.loc[poor_97.progresa==0]"
   ]
  },
  {
   "cell_type": "code",
   "execution_count": 33,
   "metadata": {
    "collapsed": false
   },
   "outputs": [],
   "source": [
    "# Calculating avg value for treatment \n",
    "x = treatment_poor_97[treatment_poor_97.columns.difference(['year','folnum','village','sc97','grc97'])].describe()\n",
    "avg_treatment_poor_97 = x.loc['mean']"
   ]
  },
  {
   "cell_type": "code",
   "execution_count": 34,
   "metadata": {
    "collapsed": false
   },
   "outputs": [
    {
     "data": {
      "text/html": [
       "<div>\n",
       "<table border=\"1\" class=\"dataframe\">\n",
       "  <thead>\n",
       "    <tr style=\"text-align: right;\">\n",
       "      <th></th>\n",
       "      <th>Variable name</th>\n",
       "      <th>Average value (Treatment villages)</th>\n",
       "    </tr>\n",
       "  </thead>\n",
       "  <tbody>\n",
       "    <tr>\n",
       "      <th>0</th>\n",
       "      <td>age</td>\n",
       "      <td>10.716991</td>\n",
       "    </tr>\n",
       "    <tr>\n",
       "      <th>1</th>\n",
       "      <td>dist_cap</td>\n",
       "      <td>150.829074</td>\n",
       "    </tr>\n",
       "    <tr>\n",
       "      <th>2</th>\n",
       "      <td>dist_sec</td>\n",
       "      <td>2.453122</td>\n",
       "    </tr>\n",
       "    <tr>\n",
       "      <th>3</th>\n",
       "      <td>fam_n</td>\n",
       "      <td>7.281327</td>\n",
       "    </tr>\n",
       "    <tr>\n",
       "      <th>4</th>\n",
       "      <td>grc</td>\n",
       "      <td>3.531599</td>\n",
       "    </tr>\n",
       "    <tr>\n",
       "      <th>5</th>\n",
       "      <td>hohage</td>\n",
       "      <td>43.648828</td>\n",
       "    </tr>\n",
       "    <tr>\n",
       "      <th>6</th>\n",
       "      <td>hohedu</td>\n",
       "      <td>2.663139</td>\n",
       "    </tr>\n",
       "    <tr>\n",
       "      <th>7</th>\n",
       "      <td>hohsex</td>\n",
       "      <td>0.924656</td>\n",
       "    </tr>\n",
       "    <tr>\n",
       "      <th>8</th>\n",
       "      <td>hohwag</td>\n",
       "      <td>544.339544</td>\n",
       "    </tr>\n",
       "    <tr>\n",
       "      <th>9</th>\n",
       "      <td>indig</td>\n",
       "      <td>0.325986</td>\n",
       "    </tr>\n",
       "    <tr>\n",
       "      <th>10</th>\n",
       "      <td>min_dist</td>\n",
       "      <td>107.152915</td>\n",
       "    </tr>\n",
       "    <tr>\n",
       "      <th>11</th>\n",
       "      <td>sc</td>\n",
       "      <td>0.822697</td>\n",
       "    </tr>\n",
       "    <tr>\n",
       "      <th>12</th>\n",
       "      <td>sex</td>\n",
       "      <td>0.519317</td>\n",
       "    </tr>\n",
       "    <tr>\n",
       "      <th>13</th>\n",
       "      <td>welfare_index</td>\n",
       "      <td>655.428377</td>\n",
       "    </tr>\n",
       "  </tbody>\n",
       "</table>\n",
       "</div>"
      ],
      "text/plain": [
       "    Variable name  Average value (Treatment villages)\n",
       "0             age                           10.716991\n",
       "1        dist_cap                          150.829074\n",
       "2        dist_sec                            2.453122\n",
       "3           fam_n                            7.281327\n",
       "4             grc                            3.531599\n",
       "5          hohage                           43.648828\n",
       "6          hohedu                            2.663139\n",
       "7          hohsex                            0.924656\n",
       "8          hohwag                          544.339544\n",
       "9           indig                            0.325986\n",
       "10       min_dist                          107.152915\n",
       "11             sc                            0.822697\n",
       "12            sex                            0.519317\n",
       "13  welfare_index                          655.428377"
      ]
     },
     "execution_count": 34,
     "metadata": {},
     "output_type": "execute_result"
    }
   ],
   "source": [
    "#Create the df structure with variable and avg value for treatment\n",
    "df1 = pd.DataFrame({'Variable name':avg_treatment_poor_97.index, 'Average value (Treatment villages)':avg_treatment_poor_97.values},\n",
    "                        columns = ['Variable name','Average value (Treatment villages)'])\n",
    "df1"
   ]
  },
  {
   "cell_type": "code",
   "execution_count": 35,
   "metadata": {
    "collapsed": false
   },
   "outputs": [],
   "source": [
    "#Avg value of control\n",
    "y = control_poor_97[control_poor_97.columns.difference(['year','folnum','village','sc97','grc97'])].describe()\n",
    "avg_control_poor_97 = y.loc['mean']"
   ]
  },
  {
   "cell_type": "code",
   "execution_count": 36,
   "metadata": {
    "collapsed": true
   },
   "outputs": [],
   "source": [
    "#Create Dataframe\n",
    "df2 = pd.DataFrame({'Variable name':avg_control_poor_97.index,'Average value (Control villages)':avg_control_poor_97.values},\n",
    "                      columns = ['Variable name','Average value (Control villages)'])"
   ]
  },
  {
   "cell_type": "code",
   "execution_count": 37,
   "metadata": {
    "collapsed": false
   },
   "outputs": [
    {
     "data": {
      "text/html": [
       "<div>\n",
       "<table border=\"1\" class=\"dataframe\">\n",
       "  <thead>\n",
       "    <tr style=\"text-align: right;\">\n",
       "      <th></th>\n",
       "      <th>Variable name</th>\n",
       "      <th>Average value (Treatment villages)</th>\n",
       "      <th>Average value (Control villages)</th>\n",
       "    </tr>\n",
       "  </thead>\n",
       "  <tbody>\n",
       "    <tr>\n",
       "      <th>0</th>\n",
       "      <td>age</td>\n",
       "      <td>10.716991</td>\n",
       "      <td>10.742023</td>\n",
       "    </tr>\n",
       "    <tr>\n",
       "      <th>1</th>\n",
       "      <td>dist_cap</td>\n",
       "      <td>150.829074</td>\n",
       "      <td>153.769730</td>\n",
       "    </tr>\n",
       "    <tr>\n",
       "      <th>2</th>\n",
       "      <td>dist_sec</td>\n",
       "      <td>2.453122</td>\n",
       "      <td>2.507662</td>\n",
       "    </tr>\n",
       "    <tr>\n",
       "      <th>3</th>\n",
       "      <td>fam_n</td>\n",
       "      <td>7.281327</td>\n",
       "      <td>7.302469</td>\n",
       "    </tr>\n",
       "    <tr>\n",
       "      <th>4</th>\n",
       "      <td>grc</td>\n",
       "      <td>3.531599</td>\n",
       "      <td>3.543050</td>\n",
       "    </tr>\n",
       "    <tr>\n",
       "      <th>5</th>\n",
       "      <td>hohage</td>\n",
       "      <td>43.648828</td>\n",
       "      <td>44.276918</td>\n",
       "    </tr>\n",
       "    <tr>\n",
       "      <th>6</th>\n",
       "      <td>hohedu</td>\n",
       "      <td>2.663139</td>\n",
       "      <td>2.590348</td>\n",
       "    </tr>\n",
       "    <tr>\n",
       "      <th>7</th>\n",
       "      <td>hohsex</td>\n",
       "      <td>0.924656</td>\n",
       "      <td>0.922947</td>\n",
       "    </tr>\n",
       "    <tr>\n",
       "      <th>8</th>\n",
       "      <td>hohwag</td>\n",
       "      <td>544.339544</td>\n",
       "      <td>573.163558</td>\n",
       "    </tr>\n",
       "    <tr>\n",
       "      <th>9</th>\n",
       "      <td>indig</td>\n",
       "      <td>0.325986</td>\n",
       "      <td>0.332207</td>\n",
       "    </tr>\n",
       "    <tr>\n",
       "      <th>10</th>\n",
       "      <td>min_dist</td>\n",
       "      <td>107.152915</td>\n",
       "      <td>103.237854</td>\n",
       "    </tr>\n",
       "    <tr>\n",
       "      <th>11</th>\n",
       "      <td>sc</td>\n",
       "      <td>0.822697</td>\n",
       "      <td>0.815186</td>\n",
       "    </tr>\n",
       "    <tr>\n",
       "      <th>12</th>\n",
       "      <td>sex</td>\n",
       "      <td>0.519317</td>\n",
       "      <td>0.505052</td>\n",
       "    </tr>\n",
       "    <tr>\n",
       "      <th>13</th>\n",
       "      <td>welfare_index</td>\n",
       "      <td>655.428377</td>\n",
       "      <td>659.579100</td>\n",
       "    </tr>\n",
       "  </tbody>\n",
       "</table>\n",
       "</div>"
      ],
      "text/plain": [
       "    Variable name  Average value (Treatment villages)  \\\n",
       "0             age                           10.716991   \n",
       "1        dist_cap                          150.829074   \n",
       "2        dist_sec                            2.453122   \n",
       "3           fam_n                            7.281327   \n",
       "4             grc                            3.531599   \n",
       "5          hohage                           43.648828   \n",
       "6          hohedu                            2.663139   \n",
       "7          hohsex                            0.924656   \n",
       "8          hohwag                          544.339544   \n",
       "9           indig                            0.325986   \n",
       "10       min_dist                          107.152915   \n",
       "11             sc                            0.822697   \n",
       "12            sex                            0.519317   \n",
       "13  welfare_index                          655.428377   \n",
       "\n",
       "    Average value (Control villages)  \n",
       "0                          10.742023  \n",
       "1                         153.769730  \n",
       "2                           2.507662  \n",
       "3                           7.302469  \n",
       "4                           3.543050  \n",
       "5                          44.276918  \n",
       "6                           2.590348  \n",
       "7                           0.922947  \n",
       "8                         573.163558  \n",
       "9                           0.332207  \n",
       "10                        103.237854  \n",
       "11                          0.815186  \n",
       "12                          0.505052  \n",
       "13                        659.579100  "
      ]
     },
     "execution_count": 37,
     "metadata": {},
     "output_type": "execute_result"
    }
   ],
   "source": [
    "#Merge df1 and df2\n",
    "result_df=pd.merge(df1,df2, on = 'Variable name')\n",
    "result_df"
   ]
  },
  {
   "cell_type": "code",
   "execution_count": 38,
   "metadata": {
    "collapsed": false
   },
   "outputs": [],
   "source": [
    "from scipy.stats import ttest_ind"
   ]
  },
  {
   "cell_type": "code",
   "execution_count": 39,
   "metadata": {
    "collapsed": false
   },
   "outputs": [],
   "source": [
    "#Fill NA with 0 \n",
    "treatment_poor_97 = treatment_poor_97.fillna(0)\n",
    "control_poor_97 = control_poor_97.fillna(0)"
   ]
  },
  {
   "cell_type": "code",
   "execution_count": 40,
   "metadata": {
    "collapsed": false
   },
   "outputs": [],
   "source": [
    "# Calculating p-value for continuous variable\n",
    "\n",
    "#Saving p-value in a dict\n",
    "p = {}\n",
    "t = {}\n",
    "\n",
    "#Age\n",
    "p = {'age': ttest_ind(treatment_poor_97.age,control_poor_97.age).pvalue}\n",
    "t = {'age': ttest_ind(treatment_poor_97.age,control_poor_97.age).statistic}\n",
    "\n",
    "#dist_cap\n",
    "p.update({'dist_cap': ttest_ind(treatment_poor_97.dist_cap,control_poor_97.dist_cap).pvalue})\n",
    "t.update({'dist_cap': ttest_ind(treatment_poor_97.dist_cap,control_poor_97.dist_cap).statistic})\n",
    "\n",
    "#dist_sec\n",
    "p.update({'dist_sec': ttest_ind(treatment_poor_97.dist_sec,control_poor_97.dist_sec).pvalue})\n",
    "t.update({'dist_sec': ttest_ind(treatment_poor_97.dist_sec,control_poor_97.dist_sec).statistic})\n",
    "\n",
    "#fam_n\n",
    "p.update({'fam_n': ttest_ind(treatment_poor_97.fam_n,control_poor_97.fam_n).pvalue})\n",
    "t.update({'fam_n': ttest_ind(treatment_poor_97.fam_n,control_poor_97.fam_n).statistic})\n",
    "\n",
    "#grc\n",
    "p.update({'grc': ttest_ind(treatment_poor_97.grc,control_poor_97.grc).pvalue})\n",
    "t.update({'grc': ttest_ind(treatment_poor_97.grc,control_poor_97.grc).statistic})\n",
    "\n",
    "#hohage\n",
    "p.update({'hohage': ttest_ind(treatment_poor_97.hohage,control_poor_97.hohage).pvalue})\n",
    "t.update({'hohage': ttest_ind(treatment_poor_97.hohage,control_poor_97.hohage).statistic})\n",
    "\n",
    "#hohedu\n",
    "p.update({'hohedu': ttest_ind(treatment_poor_97.hohedu,control_poor_97.hohedu).pvalue})\n",
    "t.update({'hohedu': ttest_ind(treatment_poor_97.hohedu,control_poor_97.hohedu).statistic})\n",
    "\n",
    "#hohsex\n",
    "p.update({'hohsex': ttest_ind(treatment_poor_97.hohsex,control_poor_97.hohsex).pvalue})\n",
    "t.update({'hohsex': ttest_ind(treatment_poor_97.hohsex,control_poor_97.hohsex).statistic})\n",
    "\n",
    "#hohwag\n",
    "p.update({'hohwag': ttest_ind(treatment_poor_97.hohwag,control_poor_97.hohwag).pvalue})\n",
    "t.update({'hohwag': ttest_ind(treatment_poor_97.hohwag,control_poor_97.hohwag).statistic})\n",
    "\n",
    "#indig\n",
    "p.update({'indig': ttest_ind(treatment_poor_97.indig,control_poor_97.indig).pvalue})\n",
    "t.update({'indig': ttest_ind(treatment_poor_97.indig,control_poor_97.indig).statistic})\n",
    "\n",
    "#min_dist\n",
    "p.update({'min_dist': ttest_ind(treatment_poor_97.min_dist,control_poor_97.min_dist).pvalue})\n",
    "t.update({'min_dist': ttest_ind(treatment_poor_97.min_dist,control_poor_97.min_dist).statistic})\n",
    "\n",
    "#sc\n",
    "p.update({'sc': ttest_ind(treatment_poor_97.sc,control_poor_97.sc).pvalue})\n",
    "t.update({'sc': ttest_ind(treatment_poor_97.sc,control_poor_97.sc).statistic})\n",
    "\n",
    "#sex\n",
    "p.update({'sex': ttest_ind(treatment_poor_97.sex,control_poor_97.sex).pvalue})\n",
    "t.update({'sex': ttest_ind(treatment_poor_97.sex,control_poor_97.sex).statistic})\n",
    "\n",
    "#welfare_index\n",
    "p.update({'welfare_index': ttest_ind(treatment_poor_97.welfare_index,control_poor_97.welfare_index).pvalue})\n",
    "t.update({'welfare_index': ttest_ind(treatment_poor_97.welfare_index,control_poor_97.welfare_index).statistic})\n"
   ]
  },
  {
   "cell_type": "code",
   "execution_count": 41,
   "metadata": {
    "collapsed": true
   },
   "outputs": [],
   "source": [
    "df3 = pd.DataFrame(list(t.items()),\n",
    "                  columns = ['Variable name','Difference(Treat - Control)'])"
   ]
  },
  {
   "cell_type": "code",
   "execution_count": 42,
   "metadata": {
    "collapsed": false
   },
   "outputs": [],
   "source": [
    "df4 = pd.DataFrame(list(p.items()),\n",
    "                  columns = ['Variable name','p-value'])"
   ]
  },
  {
   "cell_type": "code",
   "execution_count": 43,
   "metadata": {
    "collapsed": false
   },
   "outputs": [
    {
     "data": {
      "text/html": [
       "<div>\n",
       "<table border=\"1\" class=\"dataframe\">\n",
       "  <thead>\n",
       "    <tr style=\"text-align: right;\">\n",
       "      <th></th>\n",
       "      <th>Variable name</th>\n",
       "      <th>Average value (Treatment villages)</th>\n",
       "      <th>Average value (Control villages)</th>\n",
       "      <th>Difference(Treat - Control)</th>\n",
       "      <th>p-value</th>\n",
       "    </tr>\n",
       "  </thead>\n",
       "  <tbody>\n",
       "    <tr>\n",
       "      <th>0</th>\n",
       "      <td>age</td>\n",
       "      <td>10.716991</td>\n",
       "      <td>10.742023</td>\n",
       "      <td>-0.708630</td>\n",
       "      <td>4.785594e-01</td>\n",
       "    </tr>\n",
       "    <tr>\n",
       "      <th>1</th>\n",
       "      <td>dist_cap</td>\n",
       "      <td>150.829074</td>\n",
       "      <td>153.769730</td>\n",
       "      <td>-3.339081</td>\n",
       "      <td>8.415005e-04</td>\n",
       "    </tr>\n",
       "    <tr>\n",
       "      <th>2</th>\n",
       "      <td>dist_sec</td>\n",
       "      <td>2.453122</td>\n",
       "      <td>2.507662</td>\n",
       "      <td>-2.100433</td>\n",
       "      <td>3.569843e-02</td>\n",
       "    </tr>\n",
       "    <tr>\n",
       "      <th>3</th>\n",
       "      <td>fam_n</td>\n",
       "      <td>7.281327</td>\n",
       "      <td>7.302469</td>\n",
       "      <td>-0.794167</td>\n",
       "      <td>4.271039e-01</td>\n",
       "    </tr>\n",
       "    <tr>\n",
       "      <th>4</th>\n",
       "      <td>grc</td>\n",
       "      <td>3.531599</td>\n",
       "      <td>3.543050</td>\n",
       "      <td>-0.400196</td>\n",
       "      <td>6.890151e-01</td>\n",
       "    </tr>\n",
       "    <tr>\n",
       "      <th>5</th>\n",
       "      <td>hohage</td>\n",
       "      <td>43.648828</td>\n",
       "      <td>44.276918</td>\n",
       "      <td>-4.810013</td>\n",
       "      <td>1.515918e-06</td>\n",
       "    </tr>\n",
       "    <tr>\n",
       "      <th>6</th>\n",
       "      <td>hohedu</td>\n",
       "      <td>2.663139</td>\n",
       "      <td>2.590348</td>\n",
       "      <td>2.541229</td>\n",
       "      <td>1.105093e-02</td>\n",
       "    </tr>\n",
       "    <tr>\n",
       "      <th>7</th>\n",
       "      <td>hohsex</td>\n",
       "      <td>0.924656</td>\n",
       "      <td>0.922947</td>\n",
       "      <td>0.493343</td>\n",
       "      <td>6.217737e-01</td>\n",
       "    </tr>\n",
       "    <tr>\n",
       "      <th>8</th>\n",
       "      <td>hohwag</td>\n",
       "      <td>544.339544</td>\n",
       "      <td>573.163558</td>\n",
       "      <td>-3.594588</td>\n",
       "      <td>3.253835e-04</td>\n",
       "    </tr>\n",
       "    <tr>\n",
       "      <th>9</th>\n",
       "      <td>indig</td>\n",
       "      <td>0.325986</td>\n",
       "      <td>0.332207</td>\n",
       "      <td>-1.211794</td>\n",
       "      <td>2.255999e-01</td>\n",
       "    </tr>\n",
       "    <tr>\n",
       "      <th>10</th>\n",
       "      <td>min_dist</td>\n",
       "      <td>107.152915</td>\n",
       "      <td>103.237854</td>\n",
       "      <td>8.206584</td>\n",
       "      <td>2.358312e-16</td>\n",
       "    </tr>\n",
       "    <tr>\n",
       "      <th>11</th>\n",
       "      <td>sc</td>\n",
       "      <td>0.822697</td>\n",
       "      <td>0.815186</td>\n",
       "      <td>2.012611</td>\n",
       "      <td>4.416380e-02</td>\n",
       "    </tr>\n",
       "    <tr>\n",
       "      <th>12</th>\n",
       "      <td>sex</td>\n",
       "      <td>0.519317</td>\n",
       "      <td>0.505052</td>\n",
       "      <td>2.503945</td>\n",
       "      <td>1.228655e-02</td>\n",
       "    </tr>\n",
       "    <tr>\n",
       "      <th>13</th>\n",
       "      <td>welfare_index</td>\n",
       "      <td>655.428377</td>\n",
       "      <td>659.579100</td>\n",
       "      <td>-0.470581</td>\n",
       "      <td>6.379435e-01</td>\n",
       "    </tr>\n",
       "  </tbody>\n",
       "</table>\n",
       "</div>"
      ],
      "text/plain": [
       "    Variable name  Average value (Treatment villages)  \\\n",
       "0             age                           10.716991   \n",
       "1        dist_cap                          150.829074   \n",
       "2        dist_sec                            2.453122   \n",
       "3           fam_n                            7.281327   \n",
       "4             grc                            3.531599   \n",
       "5          hohage                           43.648828   \n",
       "6          hohedu                            2.663139   \n",
       "7          hohsex                            0.924656   \n",
       "8          hohwag                          544.339544   \n",
       "9           indig                            0.325986   \n",
       "10       min_dist                          107.152915   \n",
       "11             sc                            0.822697   \n",
       "12            sex                            0.519317   \n",
       "13  welfare_index                          655.428377   \n",
       "\n",
       "    Average value (Control villages)  Difference(Treat - Control)  \\\n",
       "0                          10.742023                    -0.708630   \n",
       "1                         153.769730                    -3.339081   \n",
       "2                           2.507662                    -2.100433   \n",
       "3                           7.302469                    -0.794167   \n",
       "4                           3.543050                    -0.400196   \n",
       "5                          44.276918                    -4.810013   \n",
       "6                           2.590348                     2.541229   \n",
       "7                           0.922947                     0.493343   \n",
       "8                         573.163558                    -3.594588   \n",
       "9                           0.332207                    -1.211794   \n",
       "10                        103.237854                     8.206584   \n",
       "11                          0.815186                     2.012611   \n",
       "12                          0.505052                     2.503945   \n",
       "13                        659.579100                    -0.470581   \n",
       "\n",
       "         p-value  \n",
       "0   4.785594e-01  \n",
       "1   8.415005e-04  \n",
       "2   3.569843e-02  \n",
       "3   4.271039e-01  \n",
       "4   6.890151e-01  \n",
       "5   1.515918e-06  \n",
       "6   1.105093e-02  \n",
       "7   6.217737e-01  \n",
       "8   3.253835e-04  \n",
       "9   2.255999e-01  \n",
       "10  2.358312e-16  \n",
       "11  4.416380e-02  \n",
       "12  1.228655e-02  \n",
       "13  6.379435e-01  "
      ]
     },
     "execution_count": 43,
     "metadata": {},
     "output_type": "execute_result"
    }
   ],
   "source": [
    "#Merge result_df and df3\n",
    "df5=pd.merge(result_df,df3, how='left' ,on = 'Variable name')\n",
    "df6=pd.merge(df5,df4, how='left' ,on = 'Variable name')\n",
    "df6"
   ]
  },
  {
   "cell_type": "markdown",
   "metadata": {
    "ein.tags": [
     "worksheet-0"
    ],
    "slideshow": {
     "slide_type": "-"
    }
   },
   "source": [
    "### 1.3 Interpretation\n",
    "\n",
    "* A: Are there statistically significant differences between treatment and control villages as baseline? \n",
    "* B: Why does it matter if there are differences at baseline?\n",
    "* C: What does this imply about how to measure the impact of the treatment?"
   ]
  },
  {
   "cell_type": "markdown",
   "metadata": {
    "autoscroll": "json-false",
    "collapsed": false,
    "ein.tags": [
     "worksheet-0"
    ],
    "slideshow": {
     "slide_type": "-"
    }
   },
   "source": [
    "A: Yes, there are statistically significant differences between the treatment and control villages at baseline as the p-value is lower than 0.05 for certain variables.\n",
    "For example, the following variables have statistically significant differences:\n",
    "dist_cap, dist_sec, hohage, hohedu, hohwag, min_dist, sc and sex"
   ]
  },
  {
   "cell_type": "markdown",
   "metadata": {
    "collapsed": true
   },
   "source": [
    "B: Differences at baseline indicate that the process of randomization that aims to make the treatment and control groups similar in all aspects except for the variable under study & to understand its causal effects did not succeed completely for all variables. As there is statistically significant difference between the treatment and control group prior to the treatment, the effect of  Progresa cannot be clearly determined through the data from the subsequent surveys."
   ]
  },
  {
   "cell_type": "markdown",
   "metadata": {},
   "source": [
    "C: As randomization did not yield simialarities in the treatment and control groups prior to Progresa, alternative methods such as Double Difference have to be explored to study the effect of the treatment."
   ]
  },
  {
   "cell_type": "markdown",
   "metadata": {
    "ein.tags": [
     "worksheet-0"
    ],
    "slideshow": {
     "slide_type": "-"
    }
   },
   "source": [
    "### 1.4 Graphical exploration, part 1\n",
    "\n",
    "For each level of household head education, compute the average enrollment rate in 1997. Create a scatterplot that shows this relationship. What do you notice?"
   ]
  },
  {
   "cell_type": "code",
   "execution_count": 44,
   "metadata": {
    "autoscroll": "json-false",
    "collapsed": false,
    "ein.tags": [
     "worksheet-0"
    ],
    "slideshow": {
     "slide_type": "-"
    }
   },
   "outputs": [
    {
     "data": {
      "text/html": [
       "<div>\n",
       "<table border=\"1\" class=\"dataframe\">\n",
       "  <thead>\n",
       "    <tr style=\"text-align: right;\">\n",
       "      <th></th>\n",
       "      <th>hohedu</th>\n",
       "      <th>sc</th>\n",
       "    </tr>\n",
       "  </thead>\n",
       "  <tbody>\n",
       "    <tr>\n",
       "      <th>0</th>\n",
       "      <td>0</td>\n",
       "      <td>0.776137</td>\n",
       "    </tr>\n",
       "    <tr>\n",
       "      <th>1</th>\n",
       "      <td>1</td>\n",
       "      <td>0.768537</td>\n",
       "    </tr>\n",
       "    <tr>\n",
       "      <th>2</th>\n",
       "      <td>2</td>\n",
       "      <td>0.794552</td>\n",
       "    </tr>\n",
       "    <tr>\n",
       "      <th>3</th>\n",
       "      <td>3</td>\n",
       "      <td>0.802956</td>\n",
       "    </tr>\n",
       "    <tr>\n",
       "      <th>4</th>\n",
       "      <td>4</td>\n",
       "      <td>0.842951</td>\n",
       "    </tr>\n",
       "    <tr>\n",
       "      <th>5</th>\n",
       "      <td>5</td>\n",
       "      <td>0.849835</td>\n",
       "    </tr>\n",
       "    <tr>\n",
       "      <th>6</th>\n",
       "      <td>6</td>\n",
       "      <td>0.878469</td>\n",
       "    </tr>\n",
       "    <tr>\n",
       "      <th>7</th>\n",
       "      <td>7</td>\n",
       "      <td>0.889535</td>\n",
       "    </tr>\n",
       "    <tr>\n",
       "      <th>8</th>\n",
       "      <td>8</td>\n",
       "      <td>0.900000</td>\n",
       "    </tr>\n",
       "    <tr>\n",
       "      <th>9</th>\n",
       "      <td>9</td>\n",
       "      <td>0.925023</td>\n",
       "    </tr>\n",
       "    <tr>\n",
       "      <th>10</th>\n",
       "      <td>10</td>\n",
       "      <td>0.865385</td>\n",
       "    </tr>\n",
       "    <tr>\n",
       "      <th>11</th>\n",
       "      <td>11</td>\n",
       "      <td>0.974359</td>\n",
       "    </tr>\n",
       "    <tr>\n",
       "      <th>12</th>\n",
       "      <td>12</td>\n",
       "      <td>0.982955</td>\n",
       "    </tr>\n",
       "    <tr>\n",
       "      <th>13</th>\n",
       "      <td>13</td>\n",
       "      <td>0.959459</td>\n",
       "    </tr>\n",
       "    <tr>\n",
       "      <th>14</th>\n",
       "      <td>14</td>\n",
       "      <td>0.880952</td>\n",
       "    </tr>\n",
       "    <tr>\n",
       "      <th>15</th>\n",
       "      <td>15</td>\n",
       "      <td>0.900000</td>\n",
       "    </tr>\n",
       "    <tr>\n",
       "      <th>16</th>\n",
       "      <td>16</td>\n",
       "      <td>0.941176</td>\n",
       "    </tr>\n",
       "    <tr>\n",
       "      <th>17</th>\n",
       "      <td>17</td>\n",
       "      <td>0.933333</td>\n",
       "    </tr>\n",
       "    <tr>\n",
       "      <th>18</th>\n",
       "      <td>18</td>\n",
       "      <td>1.000000</td>\n",
       "    </tr>\n",
       "    <tr>\n",
       "      <th>19</th>\n",
       "      <td>20</td>\n",
       "      <td>0.500000</td>\n",
       "    </tr>\n",
       "  </tbody>\n",
       "</table>\n",
       "</div>"
      ],
      "text/plain": [
       "    hohedu        sc\n",
       "0        0  0.776137\n",
       "1        1  0.768537\n",
       "2        2  0.794552\n",
       "3        3  0.802956\n",
       "4        4  0.842951\n",
       "5        5  0.849835\n",
       "6        6  0.878469\n",
       "7        7  0.889535\n",
       "8        8  0.900000\n",
       "9        9  0.925023\n",
       "10      10  0.865385\n",
       "11      11  0.974359\n",
       "12      12  0.982955\n",
       "13      13  0.959459\n",
       "14      14  0.880952\n",
       "15      15  0.900000\n",
       "16      16  0.941176\n",
       "17      17  0.933333\n",
       "18      18  1.000000\n",
       "19      20  0.500000"
      ]
     },
     "execution_count": 44,
     "metadata": {},
     "output_type": "execute_result"
    }
   ],
   "source": [
    "#Subset data\n",
    "progresa_97 = progresa[progresa.year==97]\n",
    "\n",
    "#Average enrollment rate per household head level of education\n",
    "avg_enroll_hohedu = progresa_97.groupby(['hohedu']).sc.mean()\n",
    "avg_enroll_hohedu = avg_enroll_hohedu.reset_index()\n",
    "avg_enroll_hohedu"
   ]
  },
  {
   "cell_type": "code",
   "execution_count": 45,
   "metadata": {
    "collapsed": false
   },
   "outputs": [
    {
     "data": {
      "text/plain": [
       "<matplotlib.text.Text at 0x2528ef51940>"
      ]
     },
     "execution_count": 45,
     "metadata": {},
     "output_type": "execute_result"
    },
    {
     "data": {
      "image/png": "[encoded data removed]",
      "text/plain": [
       "<matplotlib.figure.Figure at 0x2528e6a1048>"
      ]
     },
     "metadata": {},
     "output_type": "display_data"
    }
   ],
   "source": [
    "plt.scatter(avg_enroll_hohedu.hohedu,avg_enroll_hohedu.sc)\n",
    "plt.xlabel(\"Level of Household head education\")\n",
    "plt.ylabel(\"Average Enrollment rate in 1997\")"
   ]
  },
  {
   "cell_type": "markdown",
   "metadata": {},
   "source": [
    "The average enrollment rate in 1997 has a steady rise in the range 0.75 upto 0.94 when the Level of education of the household head is upto 9. However, a drop in enrollment is observed at 10. The average enrollment rate shows a steady rise again for the level 11 and 12, followed again by a drop and rise. At level 20, the average enrollment rate is 0.5. This can be explained as we have comparatively less data for this level i.e. only two records with 1 as enrolled and the other as not enrolled."
   ]
  },
  {
   "cell_type": "markdown",
   "metadata": {
    "ein.tags": [
     "worksheet-0"
    ],
    "slideshow": {
     "slide_type": "-"
    }
   },
   "source": [
    "### 1.5 Graphical exploration, part 2\n",
    "\n",
    "Create a histogram of village enrollment rates **among poor households in treated villages**, before and after treatment. Specifically, for each village, calculate the average rate of enrollment of poor households in treated villages in 1997, then compute the average rate of enrollment of poor households in treated villages in 1998. Create two separate histograms showing the distribution of these average enrollments rates, one histogram for 1997 and one histogram for 1998. On each histogram, draw a vertical line that intersects the x-axis at the average value (across all households).\n",
    "* Does there appear to be a difference? Is this difference statistically significant?\n",
    "* Which D estimator in Schultz (2004) does this approach correspond to?"
   ]
  },
  {
   "cell_type": "code",
   "execution_count": 49,
   "metadata": {
    "autoscroll": "json-false",
    "collapsed": false,
    "ein.tags": [
     "worksheet-0"
    ],
    "slideshow": {
     "slide_type": "-"
    }
   },
   "outputs": [
    {
     "data": {
      "text/plain": [
       "0      0.751773\n",
       "1      0.681818\n",
       "2      0.916667\n",
       "3      0.960000\n",
       "4      0.964912\n",
       "5      0.916667\n",
       "6      0.710526\n",
       "7      0.857143\n",
       "8      0.784314\n",
       "9      0.751037\n",
       "10     0.901639\n",
       "11     0.636943\n",
       "12     0.852459\n",
       "13     0.887097\n",
       "14     0.989247\n",
       "15     0.948276\n",
       "16     0.735294\n",
       "17     0.882353\n",
       "18     0.950820\n",
       "19     0.816568\n",
       "20     0.857143\n",
       "21     0.816901\n",
       "22     0.875000\n",
       "23     0.868421\n",
       "24     0.853659\n",
       "25     0.785047\n",
       "26     0.857143\n",
       "27     0.872093\n",
       "28     0.841463\n",
       "29     0.898305\n",
       "         ...   \n",
       "290    0.875000\n",
       "291    0.822222\n",
       "292    0.671875\n",
       "293    0.835165\n",
       "294    0.680000\n",
       "295    0.975610\n",
       "296    0.894737\n",
       "297    0.906667\n",
       "298    0.863636\n",
       "299    0.921053\n",
       "300    0.933333\n",
       "301    0.882353\n",
       "302    0.944444\n",
       "303    0.853659\n",
       "304    0.900000\n",
       "305    0.657143\n",
       "306    0.871429\n",
       "307    0.916667\n",
       "308    0.863636\n",
       "309    0.712329\n",
       "310    0.833333\n",
       "311    0.761905\n",
       "312    0.818182\n",
       "313    0.700000\n",
       "314    0.750000\n",
       "315    0.945946\n",
       "316    0.777778\n",
       "317    0.625000\n",
       "318    0.758621\n",
       "319    0.851852\n",
       "Name: sc, dtype: float64"
      ]
     },
     "execution_count": 49,
     "metadata": {},
     "output_type": "execute_result"
    }
   ],
   "source": [
    "#Subset data\n",
    "avg_treatment_before = progresa[(progresa.poor==1)&(progresa.year==97)&(progresa.progresa==1)].groupby(['village']).mean()\n",
    "avg_treatment_after = progresa[(progresa.poor==1)&(progresa.year==98)&(progresa.progresa==1)].groupby(['village']).mean()\n",
    "avg_treatment_before=avg_treatment_before.reset_index()\n",
    "avg_treatment_before=avg_treatment_before.reset_index()\n",
    "avg_treatment_before.sc"
   ]
  },
  {
   "cell_type": "code",
   "execution_count": 47,
   "metadata": {
    "collapsed": false
   },
   "outputs": [
    {
     "data": {
      "text/plain": [
       "<matplotlib.lines.Line2D at 0x2528efc3e80>"
      ]
     },
     "execution_count": 47,
     "metadata": {},
     "output_type": "execute_result"
    },
    {
     "data": {
      "image/png": "[encoded data removed]",
      "text/plain": [
       "<matplotlib.figure.Figure at 0x2528f126470>"
      ]
     },
     "metadata": {},
     "output_type": "display_data"
    }
   ],
   "source": [
    "#Plot histogram for 1997\n",
    "fig = plt.figure()\n",
    "ax = plt.hist(avg_treatment_before.sc,color=\"grey\")\n",
    "plt.ylabel(\"Number of villages\")\n",
    "plt.xlabel(\"Average Enrollment in 1997\")\n",
    "plt.axvline(avg_treatment_before.sc.mean())"
   ]
  },
  {
   "cell_type": "code",
   "execution_count": 23,
   "metadata": {
    "collapsed": false
   },
   "outputs": [
    {
     "data": {
      "text/plain": [
       "<matplotlib.lines.Line2D at 0x25b6b9e52b0>"
      ]
     },
     "execution_count": 23,
     "metadata": {},
     "output_type": "execute_result"
    },
    {
     "data": {
      "image/png": "[encoded data removed]",
      "text/plain": [
       "<matplotlib.figure.Figure at 0x25b6b9e9ef0>"
      ]
     },
     "metadata": {},
     "output_type": "display_data"
    }
   ],
   "source": [
    "fig = plt.figure()\n",
    "ax = plt.hist(avg_treatment_after.sc, color = \"yellow\")\n",
    "plt.ylabel(\"Number of villages\")\n",
    "plt.xlabel(\"Average Enrollment rate in 1998\")\n",
    "plt.axvline(avg_treatment_after.sc.mean())"
   ]
  },
  {
   "cell_type": "code",
   "execution_count": 56,
   "metadata": {
    "collapsed": false
   },
   "outputs": [
    {
     "name": "stdout",
     "output_type": "stream",
     "text": [
      "Mean of average enrollment rate in 1997: 0.8138394110596501\n",
      "Mean of average enrollment rate in 1998: 0.8295362042630732\n"
     ]
    }
   ],
   "source": [
    "print (\"Mean of average enrollment rate in 1997:\", avg_treatment_before.sc.mean())\n",
    "print (\"Mean of average enrollment rate in 1998:\", avg_treatment_after.sc.mean())"
   ]
  },
  {
   "cell_type": "code",
   "execution_count": 57,
   "metadata": {
    "collapsed": false
   },
   "outputs": [
    {
     "name": "stdout",
     "output_type": "stream",
     "text": [
      "Ttest_indResult(statistic=2.0157134865156379, pvalue=0.04424870036572115)\n"
     ]
    }
   ],
   "source": [
    "t = ttest_ind(avg_treatment_after.sc,avg_treatment_before.sc)\n",
    "print (t)"
   ]
  },
  {
   "cell_type": "markdown",
   "metadata": {},
   "source": [
    "* The mean values before and after the treatment differ by a small amount.\n",
    "  A t-test confirms that the difference is statistically significant as the p-value < 0.05, although marginally.\n",
    "\n",
    "* It corresponds to the D estimator DD1 = D1(post-program) - D1(pre-program) > 0 with the difference being that the post and pre program groups do not consider the control population and is limited to the treatment population"
   ]
  },
  {
   "cell_type": "markdown",
   "metadata": {
    "ein.tags": [
     "worksheet-0"
    ],
    "slideshow": {
     "slide_type": "-"
    }
   },
   "source": [
    "## Part 2: Measuring Impact\n",
    "\n",
    "### 2.1 Simple differences: T-test\n",
    "\n",
    "Start out by estimating the impact of Progresa using \"simple differences.\" Restricting yourself to data from 1998 (after treatment).\n",
    "* calculate the average enrollment rate among **poor** households in the Treatment villages and the average enrollment rate among **poor** households in the control villages.\n",
    "* Which difference estimator in Schultz (2004) does this approach correspond to?\n",
    "* Use a t-test to determine if this difference is statistically significant. What do you conclude?"
   ]
  },
  {
   "cell_type": "code",
   "execution_count": 58,
   "metadata": {
    "autoscroll": "json-false",
    "collapsed": false,
    "ein.tags": [
     "worksheet-0"
    ],
    "slideshow": {
     "slide_type": "-"
    }
   },
   "outputs": [
    {
     "name": "stdout",
     "output_type": "stream",
     "text": [
      "Average enrollment rate in treatment villages in 1998:  0.8464791213954308\n",
      "Average enrollment rate in control villages in 1998:  0.807636956730308\n"
     ]
    },
    {
     "data": {
      "text/plain": [
       "Ttest_indResult(statistic=8.3587205674183735, pvalue=6.636344447523235e-17)"
      ]
     },
     "execution_count": 58,
     "metadata": {},
     "output_type": "execute_result"
    }
   ],
   "source": [
    "treatment_98 = progresa[(progresa.poor==1) & (progresa.progresa==1) & (progresa.year==98)]\n",
    "control_98 = progresa[(progresa.poor==1) & (progresa.progresa==0) & (progresa.year==98)]\n",
    "\n",
    "#Average enrollment rate in the treatment and control group in 1998\n",
    "print (\"Average enrollment rate in treatment villages in 1998: \", treatment_98.sc.mean() )\n",
    "print (\"Average enrollment rate in control villages in 1998: \", control_98.sc.mean())\n",
    "\n",
    "#t test to determine statistical significance\n",
    "ttest_ind(treatment_98.sc[~np.isnan(treatment_98.sc)],control_98.sc[~np.isnan(control_98.sc)])"
   ]
  },
  {
   "cell_type": "markdown",
   "metadata": {},
   "source": [
    "* There is some difference in the avg. enrollment rate among the treatment and control villages in 1998. Using the t-test, we determine that the difference is statistically significant. We can conclude that the impact of progresa is evident in the year 1998 among the two groups.\n",
    "* This corresponds to the difference estimator in Schultz:\n",
    "Program - Control Difference in Outcomes among Comparable-Eligible Groups          \n",
    "D1(t) = S(1,t) - S(2,t) where t = 2, S(1,t) = Treatment poor group, S(2,t) = Control poor group"
   ]
  },
  {
   "cell_type": "markdown",
   "metadata": {
    "ein.tags": [
     "worksheet-0"
    ],
    "slideshow": {
     "slide_type": "-"
    }
   },
   "source": [
    "### 2.2 Simple differences: Regression\n",
    "\n",
    "Estimate the effects of Progresa on enrollment using a regression model, by regressing the 1998 enrollment rates **of the poor** on treatment assignment. Discuss the following:\n",
    "\n",
    "* Based on this model, how much did Progresa increase the likelihood of a child enrolling?\n",
    "* How does your regression estimate compare to your t-test estimate from part 2.1?\n",
    "* Based on this regression model, can we reject the null hypothesis that the treatment effects are zero? \n",
    "* What is the counterfactual assumption underlying this regression?"
   ]
  },
  {
   "cell_type": "code",
   "execution_count": 59,
   "metadata": {
    "autoscroll": "json-false",
    "collapsed": false,
    "ein.tags": [
     "worksheet-0"
    ],
    "slideshow": {
     "slide_type": "-"
    }
   },
   "outputs": [
    {
     "name": "stdout",
     "output_type": "stream",
     "text": [
      "Intercept        0.807637\n",
      "progresa[T.1]    0.038842\n",
      "dtype: float64\n",
      "                            OLS Regression Results                            \n",
      "==============================================================================\n",
      "Dep. Variable:                     sc   R-squared:                       0.003\n",
      "Model:                            OLS   Adj. R-squared:                  0.003\n",
      "Method:                 Least Squares   F-statistic:                     69.87\n",
      "Date:                Mon, 01 May 2017   Prob (F-statistic):           6.64e-17\n",
      "Time:                        22:01:19   Log-Likelihood:                -11926.\n",
      "No. Observations:               27450   AIC:                         2.386e+04\n",
      "Df Residuals:                   27448   BIC:                         2.387e+04\n",
      "Df Model:                           1                                         \n",
      "Covariance Type:            nonrobust                                         \n",
      "=================================================================================\n",
      "                    coef    std err          t      P>|t|      [95.0% Conf. Int.]\n",
      "---------------------------------------------------------------------------------\n",
      "Intercept         0.8076      0.004    220.676      0.000         0.800     0.815\n",
      "progresa[T.1]     0.0388      0.005      8.359      0.000         0.030     0.048\n",
      "==============================================================================\n",
      "Omnibus:                     7638.939   Durbin-Watson:                   1.734\n",
      "Prob(Omnibus):                  0.000   Jarque-Bera (JB):            15767.534\n",
      "Skew:                          -1.767   Prob(JB):                         0.00\n",
      "Kurtosis:                       4.140   Cond. No.                         3.01\n",
      "==============================================================================\n",
      "\n",
      "Warnings:\n",
      "[1] Standard Errors assume that the covariance matrix of the errors is correctly specified.\n"
     ]
    }
   ],
   "source": [
    "progresa_98 = progresa[(progresa.poor == 1) & (progresa.year == 98)]\n",
    "\n",
    "lm = smf.ols(formula='sc ~ progresa', data=progresa_98).fit()\n",
    "print (lm.params)\n",
    "print (lm.summary())"
   ]
  },
  {
   "cell_type": "markdown",
   "metadata": {},
   "source": [
    "* Based on the linear regression model, Progresa increases the likelihood of enrolling by 0.038842. The intercept value of 0.807637 indicates the average enrollment rate in the absence of the Progresa program.\n",
    "* Calculating the effect of Progresa in the linear regression model - 0.8076 + (1 x 0.0388) = 0.8464.\n",
    "This matches the average enrollment rate in the treatment villages obtained from the simple differences test.\n",
    "* We can reject the null hypothesis, as the p-value obtained is below 0.05. It is statistically significant and implies that the progresa treatment did have a statistically significant effect.\n",
    "* The counterfactual assumption is that in the absence of the treatment effect, the average enrollment rate in the treatment group would match the average enrollment rate in the control group."
   ]
  },
  {
   "cell_type": "markdown",
   "metadata": {},
   "source": [
    "*\n",
    "*\n",
    "*\n",
    "*"
   ]
  },
  {
   "cell_type": "markdown",
   "metadata": {
    "ein.tags": [
     "worksheet-0"
    ],
    "slideshow": {
     "slide_type": "-"
    }
   },
   "source": [
    "### 2.3 Multiple Regression\n",
    "\n",
    "Re-run the above regression estimated but this time include a set of control variables. Include, for instance, age, distance to a secondary school, gender, education of household head, indigenous, etc.\n",
    "\n",
    "* How do the controls affect the point estimate of treatment effect?\n",
    "* How do the controls affect the standard error on the treatment effect? \n",
    "* How do you interpret the differences (or similarities) between your estimates of 2.2 and 2.3?"
   ]
  },
  {
   "cell_type": "code",
   "execution_count": 29,
   "metadata": {
    "autoscroll": "json-false",
    "collapsed": false,
    "ein.tags": [
     "worksheet-0"
    ],
    "slideshow": {
     "slide_type": "-"
    }
   },
   "outputs": [
    {
     "name": "stdout",
     "output_type": "stream",
     "text": [
      "Intercept        1.460867\n",
      "progresa[T.1]    0.032992\n",
      "age             -0.065743\n",
      "dist_sec        -0.011358\n",
      "sex              0.030410\n",
      "hohedu           0.008567\n",
      "indig            0.028895\n",
      "fam_n            0.000253\n",
      "min_dist         0.000615\n",
      "hohage           0.000109\n",
      "dtype: float64\n",
      "                            OLS Regression Results                            \n",
      "==============================================================================\n",
      "Dep. Variable:                     sc   R-squared:                       0.272\n",
      "Model:                            OLS   Adj. R-squared:                  0.272\n",
      "Method:                 Least Squares   F-statistic:                     1135.\n",
      "Date:                Mon, 01 May 2017   Prob (F-statistic):               0.00\n",
      "Time:                        21:41:41   Log-Likelihood:                -7590.0\n",
      "No. Observations:               27336   AIC:                         1.520e+04\n",
      "Df Residuals:                   27326   BIC:                         1.528e+04\n",
      "Df Model:                           9                                         \n",
      "Covariance Type:            nonrobust                                         \n",
      "=================================================================================\n",
      "                    coef    std err          t      P>|t|      [95.0% Conf. Int.]\n",
      "---------------------------------------------------------------------------------\n",
      "Intercept         1.4609      0.014    103.413      0.000         1.433     1.489\n",
      "progresa[T.1]     0.0330      0.004      8.271      0.000         0.025     0.041\n",
      "age              -0.0657      0.001    -95.117      0.000        -0.067    -0.064\n",
      "dist_sec         -0.0114      0.001    -12.997      0.000        -0.013    -0.010\n",
      "sex               0.0304      0.004      7.862      0.000         0.023     0.038\n",
      "hohedu            0.0086      0.001     10.199      0.000         0.007     0.010\n",
      "indig             0.0289      0.004      6.611      0.000         0.020     0.037\n",
      "fam_n             0.0003      0.001      0.297      0.766        -0.001     0.002\n",
      "min_dist          0.0006    4.9e-05     12.559      0.000         0.001     0.001\n",
      "hohage            0.0001      0.000      0.578      0.563        -0.000     0.000\n",
      "==============================================================================\n",
      "Omnibus:                     2928.292   Durbin-Watson:                   1.727\n",
      "Prob(Omnibus):                  0.000   Jarque-Bera (JB):             3969.033\n",
      "Skew:                          -0.926   Prob(JB):                         0.00\n",
      "Kurtosis:                       3.228   Cond. No.                         894.\n",
      "==============================================================================\n",
      "\n",
      "Warnings:\n",
      "[1] Standard Errors assume that the covariance matrix of the errors is correctly specified.\n"
     ]
    }
   ],
   "source": [
    "multiple_lm = smf.ols(formula ='sc ~ progresa + age + dist_sec + sex + hohedu + indig + fam_n + min_dist+ hohage + hohedu', \n",
    "                      data = progresa_98).fit()\n",
    "print(multiple_lm.params)\n",
    "print(multiple_lm.summary())"
   ]
  },
  {
   "cell_type": "markdown",
   "metadata": {},
   "source": [
    "* The controls in the multiple regression model reduced the point estimate of the treatment effect to 0.033 from 0.0388 in the single regression model.\n",
    "\n",
    "* The controls reduced the standard error from 0.005 in the single regression model to 0.004 in the multiple regression model.\n",
    "\n",
    "* Differences(or similarities) in the estimates -\n",
    "a)The intercept has increased from 0.8076 (Single regression model) to 1.4609 (Multiple regression model) which implies that while controlling for multiple factors, the avg. enrollment would have increased considerabely in the absence of the treatment.\n",
    "b)With the controls in the multiple regression model, the R squared value = 0.272, indicating the model explains the variations in the data better than the single regression model.\n",
    "c)In the multiple regression model, it is observed that with an increase in age by 1 year, the avg. enrollment rate reduces by 0.0657 while holding the other factors constant and similarly with an increase in  distance to secondary school by 1 unit, the avg. enrollment rate reduces by 0.0114 while holding the other factors constant."
   ]
  },
  {
   "cell_type": "markdown",
   "metadata": {
    "ein.tags": [
     "worksheet-0"
    ],
    "slideshow": {
     "slide_type": "-"
    }
   },
   "source": [
    "### 2.4 Difference-in-Difference, version 1 (tabular)\n",
    "\n",
    "Thus far, we have computed the effects of Progresa by estimating the difference in 1998 enrollment rates across villages. An alternative approach would be to compute the treatment effect using a difference-in-differences framework.\n",
    "\n",
    "Begin by estimating the average treatment effects of the program for poor households using data from 1997 and 1998. Specifically, calculate the difference (between 1997 and 1998) in enrollment rates among poor households in treated villages; then compute the difference (between 1997 and 1998) in enrollment rates among poor households in treated villages. The difference between these two differences is your estimate.\n",
    "\n",
    "* What is your estimate of the impact, and how does it compare to your earlier (simple difference) results?\n",
    "* What is the counterfactual assumption underlying this estimate? \n"
   ]
  },
  {
   "cell_type": "code",
   "execution_count": 60,
   "metadata": {
    "autoscroll": "json-false",
    "collapsed": false,
    "ein.tags": [
     "worksheet-0"
    ],
    "slideshow": {
     "slide_type": "-"
    }
   },
   "outputs": [
    {
     "name": "stdout",
     "output_type": "stream",
     "text": [
      "Difference - in - Difference is:  0.031331280319323085\n"
     ]
    },
    {
     "data": {
      "text/html": [
       "<div>\n",
       "<table border=\"1\" class=\"dataframe\">\n",
       "  <thead>\n",
       "    <tr style=\"text-align: right;\">\n",
       "      <th></th>\n",
       "      <th>Average Enrollment - Treatment Group</th>\n",
       "      <th>Average Enrollment - Control Group</th>\n",
       "    </tr>\n",
       "  </thead>\n",
       "  <tbody>\n",
       "    <tr>\n",
       "      <th>1997 (Before Treatment)</th>\n",
       "      <td>0.822697</td>\n",
       "      <td>0.815186</td>\n",
       "    </tr>\n",
       "    <tr>\n",
       "      <th>1998 (After Treatment)</th>\n",
       "      <td>0.846479</td>\n",
       "      <td>0.807637</td>\n",
       "    </tr>\n",
       "  </tbody>\n",
       "</table>\n",
       "</div>"
      ],
      "text/plain": [
       "                         Average Enrollment - Treatment Group  \\\n",
       "1997 (Before Treatment)                              0.822697   \n",
       "1998 (After Treatment)                               0.846479   \n",
       "\n",
       "                         Average Enrollment - Control Group  \n",
       "1997 (Before Treatment)                            0.815186  \n",
       "1998 (After Treatment)                             0.807637  "
      ]
     },
     "execution_count": 60,
     "metadata": {},
     "output_type": "execute_result"
    }
   ],
   "source": [
    "#Subsetting data\n",
    "treatment_97 = progresa[(progresa.year==97)&(progresa.poor==1)&(progresa.progresa==1)]\n",
    "treatment_98 = progresa[(progresa.year==98)&(progresa.poor==1)&(progresa.progresa==1)]\n",
    "control_97 = progresa[(progresa.year==97)&(progresa.poor==1)&(progresa.progresa==0)]\n",
    "control_98 = progresa[(progresa.year==98)&(progresa.poor==1)&(progresa.progresa==0)]\n",
    "\n",
    "#Average enrollment rate in each\n",
    "avg_enroll_treatment_97 = treatment_97.sc.mean()\n",
    "avg_enroll_treatment_98 = treatment_98.sc.mean()\n",
    "avg_enroll_control_97 = control_97.sc.mean()\n",
    "avg_enroll_control_98 = control_98.sc.mean()\n",
    "\n",
    "dd_df = pd.DataFrame([[avg_enroll_treatment_97,avg_enroll_control_97],[avg_enroll_treatment_98,avg_enroll_control_98]]\n",
    "                    ,columns = ['Average Enrollment - Treatment Group','Average Enrollment - Control Group']\n",
    "                    ,index = ['1997 (Before Treatment)','1998 (After Treatment)'])\n",
    "print (\"Difference - in - Difference is: \", (avg_enroll_treatment_98 - avg_enroll_control_98) - (avg_enroll_treatment_97 - avg_enroll_control_97) )\n",
    "dd_df"
   ]
  },
  {
   "cell_type": "markdown",
   "metadata": {},
   "source": [
    "* The estimate of the treatment impact is 0.03133. The impact of the treatment is reduced compared to the simple difference result of 0.0388 obtained in the single regression model. As established previously that the randomization process did not obtain ideal results, the difference in difference model is a better estimate of the treatment impact.\n",
    "* The counterfactual assumption is that difference-in-difference value would have been 0, i.e the average enrollment difference between the treatment group and control group would have been the same in 97 and 98, in the absence of the treatment."
   ]
  },
  {
   "cell_type": "markdown",
   "metadata": {
    "ein.tags": [
     "worksheet-0"
    ],
    "slideshow": {
     "slide_type": "-"
    }
   },
   "source": [
    "### 2.5 Difference-in-Difference, version 1 (regression)\n",
    "\n",
    "Now use a regression specification to estimate the average treatment effect of the program (on the poor) in a difference-in-differences framework. Include at least 5 control variables.\n",
    "\n",
    "* What is your estimate of the impact of Progresa? Be very specific in interpreting your coefficients and standard errors, and make sure to specify exactly what units you are measuring and estimating.\n",
    "* How do these estimates of the treatment effect compare to the estimates based on the simple difference?\n",
    "* How do these estimates compare to the difference-in-difference estimates from 2.4 above? What accounts for these differences?\n",
    "* What is the counterfactual assumption underlying this regression? "
   ]
  },
  {
   "cell_type": "code",
   "execution_count": 61,
   "metadata": {
    "autoscroll": "json-false",
    "collapsed": false,
    "ein.tags": [
     "worksheet-0"
    ],
    "slideshow": {
     "slide_type": "-"
    }
   },
   "outputs": [
    {
     "data": {
      "text/html": [
       "<table class=\"simpletable\">\n",
       "<caption>OLS Regression Results</caption>\n",
       "<tr>\n",
       "  <th>Dep. Variable:</th>           <td>sc</td>        <th>  R-squared:         </th> <td>   0.283</td> \n",
       "</tr>\n",
       "<tr>\n",
       "  <th>Model:</th>                   <td>OLS</td>       <th>  Adj. R-squared:    </th> <td>   0.282</td> \n",
       "</tr>\n",
       "<tr>\n",
       "  <th>Method:</th>             <td>Least Squares</td>  <th>  F-statistic:       </th> <td>   2081.</td> \n",
       "</tr>\n",
       "<tr>\n",
       "  <th>Date:</th>             <td>Mon, 01 May 2017</td> <th>  Prob (F-statistic):</th>  <td>  0.00</td>  \n",
       "</tr>\n",
       "<tr>\n",
       "  <th>Time:</th>                 <td>22:45:46</td>     <th>  Log-Likelihood:    </th> <td> -16562.</td> \n",
       "</tr>\n",
       "<tr>\n",
       "  <th>No. Observations:</th>      <td> 58157</td>      <th>  AIC:               </th> <td>3.315e+04</td>\n",
       "</tr>\n",
       "<tr>\n",
       "  <th>Df Residuals:</th>          <td> 58145</td>      <th>  BIC:               </th> <td>3.326e+04</td>\n",
       "</tr>\n",
       "<tr>\n",
       "  <th>Df Model:</th>              <td>    11</td>      <th>                     </th>     <td> </td>    \n",
       "</tr>\n",
       "<tr>\n",
       "  <th>Covariance Type:</th>      <td>nonrobust</td>    <th>                     </th>     <td> </td>    \n",
       "</tr>\n",
       "</table>\n",
       "<table class=\"simpletable\">\n",
       "<tr>\n",
       "           <td></td>              <th>coef</th>     <th>std err</th>      <th>t</th>      <th>P>|t|</th> <th>[95.0% Conf. Int.]</th> \n",
       "</tr>\n",
       "<tr>\n",
       "  <th>Intercept</th>           <td>    1.4282</td> <td>    0.010</td> <td>  146.029</td> <td> 0.000</td> <td>    1.409     1.447</td>\n",
       "</tr>\n",
       "<tr>\n",
       "  <th>progresa[T.1]</th>       <td>    0.0020</td> <td>    0.004</td> <td>    0.527</td> <td> 0.598</td> <td>   -0.005     0.009</td>\n",
       "</tr>\n",
       "<tr>\n",
       "  <th>after</th>               <td>    0.0273</td> <td>    0.004</td> <td>    6.279</td> <td> 0.000</td> <td>    0.019     0.036</td>\n",
       "</tr>\n",
       "<tr>\n",
       "  <th>progresa[T.1]:after</th> <td>    0.0313</td> <td>    0.006</td> <td>    5.692</td> <td> 0.000</td> <td>    0.021     0.042</td>\n",
       "</tr>\n",
       "<tr>\n",
       "  <th>age</th>                 <td>   -0.0658</td> <td>    0.000</td> <td> -143.647</td> <td> 0.000</td> <td>   -0.067    -0.065</td>\n",
       "</tr>\n",
       "<tr>\n",
       "  <th>dist_sec</th>            <td>   -0.0103</td> <td>    0.001</td> <td>  -16.679</td> <td> 0.000</td> <td>   -0.011    -0.009</td>\n",
       "</tr>\n",
       "<tr>\n",
       "  <th>sex</th>                 <td>    0.0333</td> <td>    0.003</td> <td>   12.456</td> <td> 0.000</td> <td>    0.028     0.038</td>\n",
       "</tr>\n",
       "<tr>\n",
       "  <th>hohedu</th>              <td>    0.0078</td> <td>    0.001</td> <td>   13.472</td> <td> 0.000</td> <td>    0.007     0.009</td>\n",
       "</tr>\n",
       "<tr>\n",
       "  <th>indig</th>               <td>    0.0329</td> <td>    0.003</td> <td>   10.899</td> <td> 0.000</td> <td>    0.027     0.039</td>\n",
       "</tr>\n",
       "<tr>\n",
       "  <th>fam_n</th>               <td>   -0.0002</td> <td>    0.001</td> <td>   -0.365</td> <td> 0.715</td> <td>   -0.001     0.001</td>\n",
       "</tr>\n",
       "<tr>\n",
       "  <th>min_dist</th>            <td>    0.0006</td> <td> 3.39e-05</td> <td>   16.959</td> <td> 0.000</td> <td>    0.001     0.001</td>\n",
       "</tr>\n",
       "<tr>\n",
       "  <th>hohage</th>              <td>    0.0003</td> <td>    0.000</td> <td>    2.549</td> <td> 0.011</td> <td> 7.65e-05     0.001</td>\n",
       "</tr>\n",
       "</table>\n",
       "<table class=\"simpletable\">\n",
       "<tr>\n",
       "  <th>Omnibus:</th>       <td>5461.777</td> <th>  Durbin-Watson:     </th> <td>   1.491</td>\n",
       "</tr>\n",
       "<tr>\n",
       "  <th>Prob(Omnibus):</th>  <td> 0.000</td>  <th>  Jarque-Bera (JB):  </th> <td>7167.479</td>\n",
       "</tr>\n",
       "<tr>\n",
       "  <th>Skew:</th>           <td>-0.858</td>  <th>  Prob(JB):          </th> <td>    0.00</td>\n",
       "</tr>\n",
       "<tr>\n",
       "  <th>Kurtosis:</th>       <td> 3.108</td>  <th>  Cond. No.          </th> <td>    914.</td>\n",
       "</tr>\n",
       "</table>"
      ],
      "text/plain": [
       "<class 'statsmodels.iolib.summary.Summary'>\n",
       "\"\"\"\n",
       "                            OLS Regression Results                            \n",
       "==============================================================================\n",
       "Dep. Variable:                     sc   R-squared:                       0.283\n",
       "Model:                            OLS   Adj. R-squared:                  0.282\n",
       "Method:                 Least Squares   F-statistic:                     2081.\n",
       "Date:                Mon, 01 May 2017   Prob (F-statistic):               0.00\n",
       "Time:                        22:45:46   Log-Likelihood:                -16562.\n",
       "No. Observations:               58157   AIC:                         3.315e+04\n",
       "Df Residuals:                   58145   BIC:                         3.326e+04\n",
       "Df Model:                          11                                         \n",
       "Covariance Type:            nonrobust                                         \n",
       "=======================================================================================\n",
       "                          coef    std err          t      P>|t|      [95.0% Conf. Int.]\n",
       "---------------------------------------------------------------------------------------\n",
       "Intercept               1.4282      0.010    146.029      0.000         1.409     1.447\n",
       "progresa[T.1]           0.0020      0.004      0.527      0.598        -0.005     0.009\n",
       "after                   0.0273      0.004      6.279      0.000         0.019     0.036\n",
       "progresa[T.1]:after     0.0313      0.006      5.692      0.000         0.021     0.042\n",
       "age                    -0.0658      0.000   -143.647      0.000        -0.067    -0.065\n",
       "dist_sec               -0.0103      0.001    -16.679      0.000        -0.011    -0.009\n",
       "sex                     0.0333      0.003     12.456      0.000         0.028     0.038\n",
       "hohedu                  0.0078      0.001     13.472      0.000         0.007     0.009\n",
       "indig                   0.0329      0.003     10.899      0.000         0.027     0.039\n",
       "fam_n                  -0.0002      0.001     -0.365      0.715        -0.001     0.001\n",
       "min_dist                0.0006   3.39e-05     16.959      0.000         0.001     0.001\n",
       "hohage                  0.0003      0.000      2.549      0.011      7.65e-05     0.001\n",
       "==============================================================================\n",
       "Omnibus:                     5461.777   Durbin-Watson:                   1.491\n",
       "Prob(Omnibus):                  0.000   Jarque-Bera (JB):             7167.479\n",
       "Skew:                          -0.858   Prob(JB):                         0.00\n",
       "Kurtosis:                       3.108   Cond. No.                         914.\n",
       "==============================================================================\n",
       "\n",
       "Warnings:\n",
       "[1] Standard Errors assume that the covariance matrix of the errors is correctly specified.\n",
       "\"\"\""
      ]
     },
     "execution_count": 61,
     "metadata": {},
     "output_type": "execute_result"
    }
   ],
   "source": [
    "#Create variable to identify 97 - before treatment and 98 - after treatment\n",
    "progresa.loc[progresa.year == 97, 'after'] = 0\n",
    "progresa.loc[progresa.year == 98, 'after'] = 1\n",
    "\n",
    "progresa_97_98_poor = progresa[((progresa.after == 1) | (progresa.after == 0)) & (progresa.poor == 1)]\n",
    "\n",
    "double_diff_lm = smf.ols(formula = 'sc ~ progresa + after + progresa:after + age + dist_sec + sex + hohedu + indig + fam_n + min_dist+ hohage + hohedu',\n",
    "                data=progresa_97_98_poor).fit()\n",
    "double_diff_lm.summary()"
   ]
  },
  {
   "cell_type": "markdown",
   "metadata": {},
   "source": [
    "* The estimate of the impact of Progresa is 0.0313. To obtain this result, the year variable was changed to after = 1 (1998) and after = 0 (1997). It is observed that considering the treatment impact in 1998 is the same as the result obtained in 2.5.\n",
    "There is an increase in average enrollment in the treatment group in 1998 with 0.0313 as the new coefficient while controlling for other variables, with a standard error of 0.006.\n",
    "\n",
    "* The estimates obtained here are lower than the simple difference as it considers the difference in the treatment and control group prior to the treatment. Hence the estimate is more precise.\n",
    "\n",
    "* This estimate is equal to the one obtained in 2.4. A marginal difference in the decimal values can be attributed to the control variables introduced.\n",
    "\n",
    "* The counterfactual assumption is that the difference in difference value would have been 0, i.e the average enrollment difference between the treatment group and control group would have been the same in 97 and 98, in the absence of the treatment."
   ]
  },
  {
   "cell_type": "markdown",
   "metadata": {
    "ein.tags": [
     "worksheet-0"
    ],
    "slideshow": {
     "slide_type": "-"
    }
   },
   "source": [
    "### 2.6 Difference-in-Difference, version 2\n",
    "\n",
    "In the previous problem, you estimated a difference-in-differences model that compared changes in enrollment rates over time across treatment and control villages. An alternative approach would be to compare enrollment rates in 1998 between poor and non-poor across treatment and control villages. \n",
    "\n",
    "* How would we estimate this version of the treatment effects in a regression model? \n",
    "* What is the counterfactual assumption underlying this regression?\n",
    "* How do these treatment effects compare to the estimates above?\n",
    "* Discuss some possible explanations for differences or similarities "
   ]
  },
  {
   "cell_type": "code",
   "execution_count": 62,
   "metadata": {
    "autoscroll": "json-false",
    "collapsed": false,
    "ein.tags": [
     "worksheet-0"
    ],
    "slideshow": {
     "slide_type": "-"
    }
   },
   "outputs": [
    {
     "data": {
      "text/html": [
       "<table class=\"simpletable\">\n",
       "<caption>OLS Regression Results</caption>\n",
       "<tr>\n",
       "  <th>Dep. Variable:</th>           <td>sc</td>        <th>  R-squared:         </th> <td>   0.273</td> \n",
       "</tr>\n",
       "<tr>\n",
       "  <th>Model:</th>                   <td>OLS</td>       <th>  Adj. R-squared:    </th> <td>   0.273</td> \n",
       "</tr>\n",
       "<tr>\n",
       "  <th>Method:</th>             <td>Least Squares</td>  <th>  F-statistic:       </th> <td>   1090.</td> \n",
       "</tr>\n",
       "<tr>\n",
       "  <th>Date:</th>             <td>Mon, 01 May 2017</td> <th>  Prob (F-statistic):</th>  <td>  0.00</td>  \n",
       "</tr>\n",
       "<tr>\n",
       "  <th>Time:</th>                 <td>22:47:27</td>     <th>  Log-Likelihood:    </th> <td> -9240.6</td> \n",
       "</tr>\n",
       "<tr>\n",
       "  <th>No. Observations:</th>      <td> 31971</td>      <th>  AIC:               </th> <td>1.851e+04</td>\n",
       "</tr>\n",
       "<tr>\n",
       "  <th>Df Residuals:</th>          <td> 31959</td>      <th>  BIC:               </th> <td>1.861e+04</td>\n",
       "</tr>\n",
       "<tr>\n",
       "  <th>Df Model:</th>              <td>    11</td>      <th>                     </th>     <td> </td>    \n",
       "</tr>\n",
       "<tr>\n",
       "  <th>Covariance Type:</th>      <td>nonrobust</td>    <th>                     </th>     <td> </td>    \n",
       "</tr>\n",
       "</table>\n",
       "<table class=\"simpletable\">\n",
       "<tr>\n",
       "             <td></td>                <th>coef</th>     <th>std err</th>      <th>t</th>      <th>P>|t|</th> <th>[95.0% Conf. Int.]</th> \n",
       "</tr>\n",
       "<tr>\n",
       "  <th>Intercept</th>               <td>    1.4900</td> <td>    0.015</td> <td>   97.077</td> <td> 0.000</td> <td>    1.460     1.520</td>\n",
       "</tr>\n",
       "<tr>\n",
       "  <th>progresa[T.1]</th>           <td>    0.0251</td> <td>    0.010</td> <td>    2.592</td> <td> 0.010</td> <td>    0.006     0.044</td>\n",
       "</tr>\n",
       "<tr>\n",
       "  <th>poor[T.1]</th>               <td>   -0.0197</td> <td>    0.008</td> <td>   -2.373</td> <td> 0.018</td> <td>   -0.036    -0.003</td>\n",
       "</tr>\n",
       "<tr>\n",
       "  <th>progresa[T.1]:poor[T.1]</th> <td>    0.0078</td> <td>    0.011</td> <td>    0.742</td> <td> 0.458</td> <td>   -0.013     0.028</td>\n",
       "</tr>\n",
       "<tr>\n",
       "  <th>age</th>                     <td>   -0.0662</td> <td>    0.001</td> <td> -102.438</td> <td> 0.000</td> <td>   -0.067    -0.065</td>\n",
       "</tr>\n",
       "<tr>\n",
       "  <th>dist_sec</th>                <td>   -0.0116</td> <td>    0.001</td> <td>  -13.905</td> <td> 0.000</td> <td>   -0.013    -0.010</td>\n",
       "</tr>\n",
       "<tr>\n",
       "  <th>sex</th>                     <td>    0.0305</td> <td>    0.004</td> <td>    8.428</td> <td> 0.000</td> <td>    0.023     0.038</td>\n",
       "</tr>\n",
       "<tr>\n",
       "  <th>hohedu</th>                  <td>    0.0092</td> <td>    0.001</td> <td>   12.164</td> <td> 0.000</td> <td>    0.008     0.011</td>\n",
       "</tr>\n",
       "<tr>\n",
       "  <th>indig</th>                   <td>    0.0299</td> <td>    0.004</td> <td>    7.116</td> <td> 0.000</td> <td>    0.022     0.038</td>\n",
       "</tr>\n",
       "<tr>\n",
       "  <th>fam_n</th>                   <td>   -0.0008</td> <td>    0.001</td> <td>   -1.059</td> <td> 0.290</td> <td>   -0.002     0.001</td>\n",
       "</tr>\n",
       "<tr>\n",
       "  <th>min_dist</th>                <td>    0.0006</td> <td> 4.57e-05</td> <td>   13.413</td> <td> 0.000</td> <td>    0.001     0.001</td>\n",
       "</tr>\n",
       "<tr>\n",
       "  <th>hohage</th>                  <td>    0.0002</td> <td>    0.000</td> <td>    0.883</td> <td> 0.377</td> <td>   -0.000     0.001</td>\n",
       "</tr>\n",
       "</table>\n",
       "<table class=\"simpletable\">\n",
       "<tr>\n",
       "  <th>Omnibus:</th>       <td>3170.045</td> <th>  Durbin-Watson:     </th> <td>   1.730</td>\n",
       "</tr>\n",
       "<tr>\n",
       "  <th>Prob(Omnibus):</th>  <td> 0.000</td>  <th>  Jarque-Bera (JB):  </th> <td>4220.534</td>\n",
       "</tr>\n",
       "<tr>\n",
       "  <th>Skew:</th>           <td>-0.888</td>  <th>  Prob(JB):          </th> <td>    0.00</td>\n",
       "</tr>\n",
       "<tr>\n",
       "  <th>Kurtosis:</th>       <td> 3.109</td>  <th>  Cond. No.          </th> <td>1.23e+03</td>\n",
       "</tr>\n",
       "</table>"
      ],
      "text/plain": [
       "<class 'statsmodels.iolib.summary.Summary'>\n",
       "\"\"\"\n",
       "                            OLS Regression Results                            \n",
       "==============================================================================\n",
       "Dep. Variable:                     sc   R-squared:                       0.273\n",
       "Model:                            OLS   Adj. R-squared:                  0.273\n",
       "Method:                 Least Squares   F-statistic:                     1090.\n",
       "Date:                Mon, 01 May 2017   Prob (F-statistic):               0.00\n",
       "Time:                        22:47:27   Log-Likelihood:                -9240.6\n",
       "No. Observations:               31971   AIC:                         1.851e+04\n",
       "Df Residuals:                   31959   BIC:                         1.861e+04\n",
       "Df Model:                          11                                         \n",
       "Covariance Type:            nonrobust                                         \n",
       "===========================================================================================\n",
       "                              coef    std err          t      P>|t|      [95.0% Conf. Int.]\n",
       "-------------------------------------------------------------------------------------------\n",
       "Intercept                   1.4900      0.015     97.077      0.000         1.460     1.520\n",
       "progresa[T.1]               0.0251      0.010      2.592      0.010         0.006     0.044\n",
       "poor[T.1]                  -0.0197      0.008     -2.373      0.018        -0.036    -0.003\n",
       "progresa[T.1]:poor[T.1]     0.0078      0.011      0.742      0.458        -0.013     0.028\n",
       "age                        -0.0662      0.001   -102.438      0.000        -0.067    -0.065\n",
       "dist_sec                   -0.0116      0.001    -13.905      0.000        -0.013    -0.010\n",
       "sex                         0.0305      0.004      8.428      0.000         0.023     0.038\n",
       "hohedu                      0.0092      0.001     12.164      0.000         0.008     0.011\n",
       "indig                       0.0299      0.004      7.116      0.000         0.022     0.038\n",
       "fam_n                      -0.0008      0.001     -1.059      0.290        -0.002     0.001\n",
       "min_dist                    0.0006   4.57e-05     13.413      0.000         0.001     0.001\n",
       "hohage                      0.0002      0.000      0.883      0.377        -0.000     0.001\n",
       "==============================================================================\n",
       "Omnibus:                     3170.045   Durbin-Watson:                   1.730\n",
       "Prob(Omnibus):                  0.000   Jarque-Bera (JB):             4220.534\n",
       "Skew:                          -0.888   Prob(JB):                         0.00\n",
       "Kurtosis:                       3.109   Cond. No.                     1.23e+03\n",
       "==============================================================================\n",
       "\n",
       "Warnings:\n",
       "[1] Standard Errors assume that the covariance matrix of the errors is correctly specified.\n",
       "[2] The condition number is large, 1.23e+03. This might indicate that there are\n",
       "strong multicollinearity or other numerical problems.\n",
       "\"\"\""
      ]
     },
     "execution_count": 62,
     "metadata": {},
     "output_type": "execute_result"
    }
   ],
   "source": [
    "progresa_98 = progresa[(progresa.year==98)]\n",
    "double_diff_lm_2 = smf.ols(formula = 'sc ~ progresa + poor + progresa:poor + age + dist_sec + sex + hohedu + indig + fam_n + min_dist + hohage + hohedu',\n",
    "                          data = progresa_98).fit()\n",
    "double_diff_lm_2.summary()"
   ]
  },
  {
   "cell_type": "markdown",
   "metadata": {},
   "source": [
    "* The point estimate of the treatment is 0.0251 which is higher than the value obtained in 2.5 of 0.0020, indicating that the effect of progresa is statistically significant.\n",
    "The point estimate of the poor variable with a value -0.0197 is no surprise as when the household is poor, the avg. enrollment  decreases by 0.0197.\n",
    "Considering progresa[T.1]:poor[T.1] variable i.e. the combined condition of progresa treatment in a poor household shows that the effect of progresa is positive. For every poor household in the treatment program, the avg. enrollment rate increases by 0.0078. However, the impact is not statistically significant.\n",
    "\n",
    "* The counterfactual assumption is that the avg. enrollment remains the same between poor and non-poor households across treatment and control villages.\n",
    "\n",
    "* The treatment effects are different from the estimates above as the impact of progresa in increasing the avg enrollment on poor households is less than the impact of progresa on non-poor households. That is, within the poor households the estimate as previously calculated is 0.0313 indicating a high impact. However, the effect of progresa in poor households when compared to non-poor households is reduced by 0.0078, although it is not statistically significant.\n",
    "\n",
    "* A similarity is observed in the fact that overall progresa treatment has a positive effect in the avg. enrollment irrespective of poor/ non-poor household as shown by the progresa coefficients. Both models seem to be explaining the variations in the data well. The double difference(treatment vs. control in poor households) across time model explains the data well with a higher R- squared value of 0.282. The difference in estimates is aggravated as this model is not across time. We do not know the difference between the poor and non-poor households prior to treatment. "
   ]
  },
  {
   "cell_type": "markdown",
   "metadata": {
    "ein.tags": [
     "worksheet-0"
    ],
    "slideshow": {
     "slide_type": "-"
    }
   },
   "source": [
    "### 2.7 Spillover effects (extra credit)\n",
    "\n",
    "Thus far, we have focused on the impact of PROGRESA on poor households. Repeat your analysis in 2.5, using a double-difference regression to estimate the impact of PROGRESA on non-poor households. In other words, compare the difference in enrollments between 1997 and 1998 for non-poor households in treatment villages with the difference in enrollments between 1997 and 1998 for non-poor households in control villages.\n",
    "\n",
    "* A: Describe one or two reasons why PROGRESA might have impacted non-poor households.\n",
    "* B: Do you observe any impacts of PROGRESA on the non-poor?\n",
    "* C: What is the identifying assumption that you are using to estimate the impact of PROGRESA on non-poor households."
   ]
  },
  {
   "cell_type": "code",
   "execution_count": 91,
   "metadata": {
    "autoscroll": "json-false",
    "collapsed": false,
    "ein.tags": [
     "worksheet-0"
    ],
    "slideshow": {
     "slide_type": "-"
    }
   },
   "outputs": [
    {
     "name": "stdout",
     "output_type": "stream",
     "text": [
      "The number of non-poor households in treatment group:  3558\n"
     ]
    },
    {
     "data": {
      "text/html": [
       "<table class=\"simpletable\">\n",
       "<caption>OLS Regression Results</caption>\n",
       "<tr>\n",
       "  <th>Dep. Variable:</th>           <td>sc</td>        <th>  R-squared:         </th> <td>   0.288</td>\n",
       "</tr>\n",
       "<tr>\n",
       "  <th>Model:</th>                   <td>OLS</td>       <th>  Adj. R-squared:    </th> <td>   0.287</td>\n",
       "</tr>\n",
       "<tr>\n",
       "  <th>Method:</th>             <td>Least Squares</td>  <th>  F-statistic:       </th> <td>   380.8</td>\n",
       "</tr>\n",
       "<tr>\n",
       "  <th>Date:</th>             <td>Mon, 01 May 2017</td> <th>  Prob (F-statistic):</th>  <td>  0.00</td> \n",
       "</tr>\n",
       "<tr>\n",
       "  <th>Time:</th>                 <td>19:46:10</td>     <th>  Log-Likelihood:    </th> <td> -3670.4</td>\n",
       "</tr>\n",
       "<tr>\n",
       "  <th>No. Observations:</th>      <td> 10378</td>      <th>  AIC:               </th> <td>   7365.</td>\n",
       "</tr>\n",
       "<tr>\n",
       "  <th>Df Residuals:</th>          <td> 10366</td>      <th>  BIC:               </th> <td>   7452.</td>\n",
       "</tr>\n",
       "<tr>\n",
       "  <th>Df Model:</th>              <td>    11</td>      <th>                     </th>     <td> </td>   \n",
       "</tr>\n",
       "<tr>\n",
       "  <th>Covariance Type:</th>      <td>nonrobust</td>    <th>                     </th>     <td> </td>   \n",
       "</tr>\n",
       "</table>\n",
       "<table class=\"simpletable\">\n",
       "<tr>\n",
       "           <td></td>              <th>coef</th>     <th>std err</th>      <th>t</th>      <th>P>|t|</th> <th>[95.0% Conf. Int.]</th> \n",
       "</tr>\n",
       "<tr>\n",
       "  <th>Intercept</th>           <td>    1.5134</td> <td>    0.026</td> <td>   58.249</td> <td> 0.000</td> <td>    1.462     1.564</td>\n",
       "</tr>\n",
       "<tr>\n",
       "  <th>progresa[T.1]</th>       <td>    0.0264</td> <td>    0.009</td> <td>    2.842</td> <td> 0.004</td> <td>    0.008     0.045</td>\n",
       "</tr>\n",
       "<tr>\n",
       "  <th>after</th>               <td>    0.0393</td> <td>    0.011</td> <td>    3.644</td> <td> 0.000</td> <td>    0.018     0.060</td>\n",
       "</tr>\n",
       "<tr>\n",
       "  <th>progresa[T.1]:after</th> <td>   -0.0025</td> <td>    0.014</td> <td>   -0.182</td> <td> 0.855</td> <td>   -0.030     0.025</td>\n",
       "</tr>\n",
       "<tr>\n",
       "  <th>age</th>                 <td>   -0.0687</td> <td>    0.001</td> <td>  -59.859</td> <td> 0.000</td> <td>   -0.071    -0.066</td>\n",
       "</tr>\n",
       "<tr>\n",
       "  <th>dist_sec</th>            <td>   -0.0157</td> <td>    0.002</td> <td>   -8.895</td> <td> 0.000</td> <td>   -0.019    -0.012</td>\n",
       "</tr>\n",
       "<tr>\n",
       "  <th>sex</th>                 <td>    0.0297</td> <td>    0.007</td> <td>    4.382</td> <td> 0.000</td> <td>    0.016     0.043</td>\n",
       "</tr>\n",
       "<tr>\n",
       "  <th>hohedu</th>              <td>    0.0096</td> <td>    0.001</td> <td>    8.061</td> <td> 0.000</td> <td>    0.007     0.012</td>\n",
       "</tr>\n",
       "<tr>\n",
       "  <th>indig</th>               <td>    0.0299</td> <td>    0.010</td> <td>    2.912</td> <td> 0.004</td> <td>    0.010     0.050</td>\n",
       "</tr>\n",
       "<tr>\n",
       "  <th>fam_n</th>               <td>   -0.0052</td> <td>    0.001</td> <td>   -3.534</td> <td> 0.000</td> <td>   -0.008    -0.002</td>\n",
       "</tr>\n",
       "<tr>\n",
       "  <th>min_dist</th>            <td>    0.0005</td> <td> 8.48e-05</td> <td>    6.383</td> <td> 0.000</td> <td>    0.000     0.001</td>\n",
       "</tr>\n",
       "<tr>\n",
       "  <th>hohage</th>              <td>    0.0004</td> <td>    0.000</td> <td>    1.197</td> <td> 0.231</td> <td>   -0.000     0.001</td>\n",
       "</tr>\n",
       "</table>\n",
       "<table class=\"simpletable\">\n",
       "<tr>\n",
       "  <th>Omnibus:</th>       <td>855.491</td> <th>  Durbin-Watson:     </th> <td>   1.497</td> \n",
       "</tr>\n",
       "<tr>\n",
       "  <th>Prob(Omnibus):</th> <td> 0.000</td>  <th>  Jarque-Bera (JB):  </th> <td> 812.874</td> \n",
       "</tr>\n",
       "<tr>\n",
       "  <th>Skew:</th>          <td>-0.624</td>  <th>  Prob(JB):          </th> <td>3.07e-177</td>\n",
       "</tr>\n",
       "<tr>\n",
       "  <th>Kurtosis:</th>      <td> 2.434</td>  <th>  Cond. No.          </th> <td>    857.</td> \n",
       "</tr>\n",
       "</table>"
      ],
      "text/plain": [
       "<class 'statsmodels.iolib.summary.Summary'>\n",
       "\"\"\"\n",
       "                            OLS Regression Results                            \n",
       "==============================================================================\n",
       "Dep. Variable:                     sc   R-squared:                       0.288\n",
       "Model:                            OLS   Adj. R-squared:                  0.287\n",
       "Method:                 Least Squares   F-statistic:                     380.8\n",
       "Date:                Mon, 01 May 2017   Prob (F-statistic):               0.00\n",
       "Time:                        19:46:10   Log-Likelihood:                -3670.4\n",
       "No. Observations:               10378   AIC:                             7365.\n",
       "Df Residuals:                   10366   BIC:                             7452.\n",
       "Df Model:                          11                                         \n",
       "Covariance Type:            nonrobust                                         \n",
       "=======================================================================================\n",
       "                          coef    std err          t      P>|t|      [95.0% Conf. Int.]\n",
       "---------------------------------------------------------------------------------------\n",
       "Intercept               1.5134      0.026     58.249      0.000         1.462     1.564\n",
       "progresa[T.1]           0.0264      0.009      2.842      0.004         0.008     0.045\n",
       "after                   0.0393      0.011      3.644      0.000         0.018     0.060\n",
       "progresa[T.1]:after    -0.0025      0.014     -0.182      0.855        -0.030     0.025\n",
       "age                    -0.0687      0.001    -59.859      0.000        -0.071    -0.066\n",
       "dist_sec               -0.0157      0.002     -8.895      0.000        -0.019    -0.012\n",
       "sex                     0.0297      0.007      4.382      0.000         0.016     0.043\n",
       "hohedu                  0.0096      0.001      8.061      0.000         0.007     0.012\n",
       "indig                   0.0299      0.010      2.912      0.004         0.010     0.050\n",
       "fam_n                  -0.0052      0.001     -3.534      0.000        -0.008    -0.002\n",
       "min_dist                0.0005   8.48e-05      6.383      0.000         0.000     0.001\n",
       "hohage                  0.0004      0.000      1.197      0.231        -0.000     0.001\n",
       "==============================================================================\n",
       "Omnibus:                      855.491   Durbin-Watson:                   1.497\n",
       "Prob(Omnibus):                  0.000   Jarque-Bera (JB):              812.874\n",
       "Skew:                          -0.624   Prob(JB):                    3.07e-177\n",
       "Kurtosis:                       2.434   Cond. No.                         857.\n",
       "==============================================================================\n",
       "\n",
       "Warnings:\n",
       "[1] Standard Errors assume that the covariance matrix of the errors is correctly specified.\n",
       "\"\"\""
      ]
     },
     "execution_count": 91,
     "metadata": {},
     "output_type": "execute_result"
    }
   ],
   "source": [
    "progresa_no_poor = progresa[(progresa.poor == 0) & ((progresa.year==97)|(progresa.year==98))]\n",
    "dd_lm = smf.ols(formula = 'sc ~ progresa + after + progresa:after + age + dist_sec + sex + hohedu + indig + fam_n + min_dist + hohage + hohedu',\n",
    "                           data = progresa_no_poor).fit()\n",
    "print (\"The number of non-poor households in treatment group: \", len(progresa_no_poor[(progresa_no_poor.progresa == 1) & (progresa_no_poor.year==98)]))\n",
    "dd_lm.summary()"
   ]
  },
  {
   "cell_type": "markdown",
   "metadata": {},
   "source": [
    "* A: Progresa might have impacted non-poor households as the increase in avg. enrollment among poor households might have been observed by non-poor households which would have prompted them to enroll there children to maintain a competitive edge over the non-poor households.\n",
    "* B: Interstingly, the impact of progresa on non-poor household is -0.0025 which shows a decrease in avg. enrollment. However, this value is not statistically significant. It is observed the overall impact of progresa is 0.0264 in the treatment group vs the control group across the years which is statistically significant.\n",
    "* C: Without progressa, the increase in avg. enrollment rate would be the same in the treatment and control groups in the non-poor households."
   ]
  },
  {
   "cell_type": "markdown",
   "metadata": {
    "ein.tags": [
     "worksheet-0"
    ],
    "slideshow": {
     "slide_type": "-"
    }
   },
   "source": [
    "### 2.8 Summary\n",
    "\n",
    "Based on all the analysis you have undertaken to date, do you think that Progresa had a causal impact on the enrollment rates of poor households in Mexico?"
   ]
  },
  {
   "cell_type": "markdown",
   "metadata": {
    "autoscroll": "json-false",
    "collapsed": false,
    "ein.tags": [
     "worksheet-0"
    ],
    "slideshow": {
     "slide_type": "-"
    }
   },
   "source": [
    "Yes, Progresa did have a causal impact on the enrollment rates of poor households in Mexico. The causal impact is not significant but is definetely observed among treatment groups in the poor households. Additional spill-over effects with an increase in avg. enrollment among non-poor households also shows that the Progresa study is having a positive impact on increasing the overall enrollment rate in the community."
   ]
  }
 ],
 "metadata": {
  "kernelspec": {
   "display_name": "Python 3",
   "language": "python",
   "name": "python3"
  },
  "language_info": {
   "codemirror_mode": {
    "name": "ipython",
    "version": 3
   },
   "file_extension": ".py",
   "mimetype": "text/x-python",
   "name": "python",
   "nbconvert_exporter": "python",
   "pygments_lexer": "ipython3",
   "version": "3.6.0"
  },
  "name": "ps2.ipynb"
 },
 "nbformat": 4,
 "nbformat_minor": 2
}
