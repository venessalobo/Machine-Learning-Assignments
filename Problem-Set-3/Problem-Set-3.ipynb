{
 "cells": [
  {
   "cell_type": "markdown",
   "metadata": {
    "ein.tags": [
     "worksheet-0"
    ],
    "slideshow": {
     "slide_type": "-"
    }
   },
   "source": [
    "# Problem Set 3, due May 9th at 3:30pm.\n",
    "\n",
    "### Before You Start\n",
    "\n",
    "Make sure the following libraries load correctly (hit Ctrl-Enter). Note that while you are loading several powerful libraries, including machine learning libraries, the goal of this problem set is to implement several algorithms from scratch. In particular, you should *not* be using any built-in libraries for nearest neighbors, distance metrics, or cross-validation -- your mission is to write those algorithms in Python!\n",
    "\n",
    "*Also note:* For this assignment we are requiring you to use base **matplotlib** - no more Seaborn or other packages. This will help you become familiar with techniques for maintaining fine-grained control over your data visualizations. It will also help our graders, who spent countless hours trying to make various versions import for grading."
   ]
  },
  {
   "cell_type": "code",
   "execution_count": 3,
   "metadata": {
    "autoscroll": "json-false",
    "collapsed": false,
    "ein.tags": [
     "worksheet-0"
    ],
    "slideshow": {
     "slide_type": "-"
    }
   },
   "outputs": [],
   "source": [
    "import IPython\n",
    "import numpy as np\n",
    "import scipy as sp\n",
    "import pandas as pd\n",
    "import matplotlib.pyplot as plt\n",
    "import sklearn"
   ]
  },
  {
   "cell_type": "markdown",
   "metadata": {
    "ein.tags": [
     "worksheet-0"
    ],
    "slideshow": {
     "slide_type": "-"
    }
   },
   "source": [
    "---\n",
    "\n",
    "## Introduction to the assignment\n",
    "\n",
    "For this assignment, you will be using the [Boston Housing Prices Data Set](http://archive.ics.uci.edu/ml/datasets/Housing).  Please read about the dataset carefully before continuing.  Use the following commands to load the dataset and print some descriptive information\n"
   ]
  },
  {
   "cell_type": "code",
   "execution_count": 4,
   "metadata": {
    "autoscroll": "json-false",
    "collapsed": false,
    "ein.tags": [
     "worksheet-0"
    ],
    "slideshow": {
     "slide_type": "-"
    }
   },
   "outputs": [],
   "source": [
    "from sklearn.datasets import load_boston\n",
    "bdata = load_boston()"
   ]
  },
  {
   "cell_type": "markdown",
   "metadata": {
    "ein.tags": [
     "worksheet-0"
    ],
    "slideshow": {
     "slide_type": "-"
    }
   },
   "source": [
    "The following commands will provide some basic information about the shape of the data:"
   ]
  },
  {
   "cell_type": "code",
   "execution_count": 5,
   "metadata": {
    "autoscroll": "json-false",
    "collapsed": false,
    "ein.tags": [
     "worksheet-0"
    ],
    "slideshow": {
     "slide_type": "-"
    }
   },
   "outputs": [
    {
     "name": "stdout",
     "output_type": "stream",
     "text": [
      "dict_keys(['data', 'target', 'feature_names', 'DESCR'])\n",
      "['CRIM' 'ZN' 'INDUS' 'CHAS' 'NOX' 'RM' 'AGE' 'DIS' 'RAD' 'TAX' 'PTRATIO'\n",
      " 'B' 'LSTAT']\n",
      "(506, 13)\n",
      "(506,)\n",
      "Boston House Prices dataset\n",
      "===========================\n",
      "\n",
      "Notes\n",
      "------\n",
      "Data Set Characteristics:  \n",
      "\n",
      "    :Number of Instances: 506 \n",
      "\n",
      "    :Number of Attributes: 13 numeric/categorical predictive\n",
      "    \n",
      "    :Median Value (attribute 14) is usually the target\n",
      "\n",
      "    :Attribute Information (in order):\n",
      "        - CRIM     per capita crime rate by town\n",
      "        - ZN       proportion of residential land zoned for lots over 25,000 sq.ft.\n",
      "        - INDUS    proportion of non-retail business acres per town\n",
      "        - CHAS     Charles River dummy variable (= 1 if tract bounds river; 0 otherwise)\n",
      "        - NOX      nitric oxides concentration (parts per 10 million)\n",
      "        - RM       average number of rooms per dwelling\n",
      "        - AGE      proportion of owner-occupied units built prior to 1940\n",
      "        - DIS      weighted distances to five Boston employment centres\n",
      "        - RAD      index of accessibility to radial highways\n",
      "        - TAX      full-value property-tax rate per $10,000\n",
      "        - PTRATIO  pupil-teacher ratio by town\n",
      "        - B        1000(Bk - 0.63)^2 where Bk is the proportion of blacks by town\n",
      "        - LSTAT    % lower status of the population\n",
      "        - MEDV     Median value of owner-occupied homes in $1000's\n",
      "\n",
      "    :Missing Attribute Values: None\n",
      "\n",
      "    :Creator: Harrison, D. and Rubinfeld, D.L.\n",
      "\n",
      "This is a copy of UCI ML housing dataset.\n",
      "http://archive.ics.uci.edu/ml/datasets/Housing\n",
      "\n",
      "\n",
      "This dataset was taken from the StatLib library which is maintained at Carnegie Mellon University.\n",
      "\n",
      "The Boston house-price data of Harrison, D. and Rubinfeld, D.L. 'Hedonic\n",
      "prices and the demand for clean air', J. Environ. Economics & Management,\n",
      "vol.5, 81-102, 1978.   Used in Belsley, Kuh & Welsch, 'Regression diagnostics\n",
      "...', Wiley, 1980.   N.B. Various transformations are used in the table on\n",
      "pages 244-261 of the latter.\n",
      "\n",
      "The Boston house-price data has been used in many machine learning papers that address regression\n",
      "problems.   \n",
      "     \n",
      "**References**\n",
      "\n",
      "   - Belsley, Kuh & Welsch, 'Regression diagnostics: Identifying Influential Data and Sources of Collinearity', Wiley, 1980. 244-261.\n",
      "   - Quinlan,R. (1993). Combining Instance-Based and Model-Based Learning. In Proceedings on the Tenth International Conference of Machine Learning, 236-243, University of Massachusetts, Amherst. Morgan Kaufmann.\n",
      "   - many more! (see http://archive.ics.uci.edu/ml/datasets/Housing)\n",
      "\n"
     ]
    }
   ],
   "source": [
    "print (bdata.keys())\n",
    "print (bdata.feature_names)\n",
    "print (bdata.data.shape)\n",
    "print (bdata.target.shape)\n",
    "# uncomment the following if you want to see a lengthy description of the dataset\n",
    "print (bdata.DESCR)"
   ]
  },
  {
   "cell_type": "code",
   "execution_count": 13,
   "metadata": {
    "collapsed": false
   },
   "outputs": [],
   "source": [
    "#Combining the data with the target median values\n",
    "bdata_df = np.insert(bdata.data, bdata.data.shape[1], bdata.target, axis = 1)"
   ]
  },
  {
   "cell_type": "markdown",
   "metadata": {
    "ein.tags": [
     "worksheet-0"
    ],
    "slideshow": {
     "slide_type": "-"
    }
   },
   "source": [
    "---\n",
    "\n",
    "## Part 1: Descriptive analysis\n",
    "\n",
    "The goal of this section is to explore the data and make a few nice\n",
    "visualizations -- before beginning the \"real\" work, we should dig into\n",
    "the data a bit do see what we are dealing with.  If you're new to data visualization, [this guide](http://pubs.aeaweb.org/doi/pdfplus/10.1257/jep.28.1.209) is a good place to start.\n",
    "  \n",
    "\n",
    "### 1.1: Histogram of housing prices\n",
    "\n",
    "Your first task is to make a histogram of 'MEDV' (the median hose\n",
    "                                                  value, your target\n",
    "                                                  variable), and make this graph look pretty by doing the following:\n",
    "\n",
    "1. Add appropriate labels to the x and y axes, make sure to include units\n",
    "2. Change the bin width on the histogram to be $1000\n",
    "3. Remove the axes on the top and right side of the plot window\n",
    "4. Change the color of the bars to be green, and remove the black borders from the bars\n"
   ]
  },
  {
   "cell_type": "code",
   "execution_count": 7,
   "metadata": {
    "autoscroll": "json-false",
    "collapsed": false,
    "ein.tags": [
     "worksheet-0"
    ],
    "slideshow": {
     "slide_type": "-"
    }
   },
   "outputs": [
    {
     "data": {
      "image/png": "[encoded data removed]",
      "text/plain": [
       "<matplotlib.figure.Figure at 0x2a6a7c4a710>"
      ]
     },
     "metadata": {},
     "output_type": "display_data"
    }
   ],
   "source": [
    "ax = plt.subplot(111)\n",
    "ax.hist(bdata_df[:,13], bins = 50, color = 'green')\n",
    "ax.spines['right'].set_visible(False)\n",
    "ax.spines['top'].set_visible(False)\n",
    "plt.title('Median House Value')\n",
    "plt.xlabel('Median House Value in $1000')\n",
    "plt.ylabel('Frequency')\n",
    "plt.show()"
   ]
  },
  {
   "cell_type": "markdown",
   "metadata": {
    "ein.tags": [
     "worksheet-0"
    ],
    "slideshow": {
     "slide_type": "-"
    }
   },
   "source": [
    "### 1.2: Scatter plot of housing prices and crime\n",
    "\n",
    "Use matplotlib to create a scatter plot that shows the relationship\n",
    "between the median value of the home (y-axis) and the per-capita crime\n",
    "rate (x-axis).  Properly label your axes, and make sure that your\n",
    "graphic looks polished and professional.  \n"
   ]
  },
  {
   "cell_type": "code",
   "execution_count": 8,
   "metadata": {
    "autoscroll": "json-false",
    "collapsed": false,
    "ein.tags": [
     "worksheet-0"
    ],
    "slideshow": {
     "slide_type": "-"
    }
   },
   "outputs": [
    {
     "data": {
      "image/png": "[encoded data removed]",
      "text/plain": [
       "<matplotlib.figure.Figure at 0x2a6a7dd61d0>"
      ]
     },
     "metadata": {},
     "output_type": "display_data"
    }
   ],
   "source": [
    "ax = plt.subplot(111)\n",
    "ax.scatter(bdata_df[:,0],bdata_df[:,13])\n",
    "plt.xlabel('Per capita crime rate')\n",
    "plt.ylabel('Median House value in $1000')\n",
    "plt.title('Housing price vs. Per capita crime rate')\n",
    "ax.spines['right'].set_visible(False)\n",
    "ax.spines['top'].set_visible(False)\n",
    "plt.xticks(np.arange(min(bdata_df[:,0]),max(bdata_df[:,0])+1,5.0))\n",
    "plt.show()"
   ]
  },
  {
   "cell_type": "markdown",
   "metadata": {
    "ein.tags": [
     "worksheet-0"
    ],
    "slideshow": {
     "slide_type": "-"
    }
   },
   "source": [
    "### 1.3 Create your own (creative and effective) visualization\n",
    "\n",
    "Use another type of graph or chart to illustrate an interesting pattern in the data.  Be creative in your visualization, and make sure to produce a \"publication-quality\" graph.  Points will be given for useful and creative graphs; points will be deducted for confusing issues like unlabeled axes.  "
   ]
  },
  {
   "cell_type": "code",
   "execution_count": 9,
   "metadata": {
    "collapsed": false
   },
   "outputs": [
    {
     "data": {
      "image/png": "[encoded data removed]",
      "text/plain": [
       "<matplotlib.figure.Figure at 0x2a6a7ddc0b8>"
      ]
     },
     "metadata": {},
     "output_type": "display_data"
    }
   ],
   "source": [
    "plt.figure(figsize=(20,10))\n",
    "plt.boxplot(bdata_df[:,range(11,13)])\n",
    "plt.xticks([1,2], ['Proportion of Blacks','% Lower Status Population'])\n",
    "plt.yticks(np.arange(min(bdata_df[:,13]),max(bdata_df[:,11])+1,30.0))\n",
    "plt.title('Proportion of Blacks and Percentage of Lower Status by town ')\n",
    "plt.show()"
   ]
  },
  {
   "cell_type": "markdown",
   "metadata": {
    "ein.tags": [
     "worksheet-0"
    ],
    "slideshow": {
     "slide_type": "-"
    }
   },
   "source": [
    "---\n",
    "\n",
    "## Part 2: Experimental Setup\n",
    "\n",
    "The goal of the next few sections is to design an experiment to predict the median home value for an instance in the data.\n",
    "\n",
    "### 2.1 Begin by writing a function to compute the Root Mean Squared Error for a list of numbers\n",
    "\n",
    "You can find the sqrt function in the Numpy package. \n",
    "Details of RMSE can be found in Hastie, Tibishrani, Friedman _The\n",
    "Elements of Statistical Learning_, Ch 2.5.  (Available on the web)\n",
    "\n"
   ]
  },
  {
   "cell_type": "code",
   "execution_count": 14,
   "metadata": {
    "autoscroll": "json-false",
    "collapsed": false,
    "ein.tags": [
     "worksheet-0"
    ],
    "slideshow": {
     "slide_type": "-"
    }
   },
   "outputs": [],
   "source": [
    "\"\"\"\n",
    "Function\n",
    "--------\n",
    "compute_rmse\n",
    "\n",
    "Given two arrays, one of actual values and one of predicted values,\n",
    "compute the Roote Mean Squared Error\n",
    "\n",
    "Parameters\n",
    "----------\n",
    "predictions : array\n",
    "    Array of numerical values corresponding to predictions for each of the N observations\n",
    "\n",
    "yvalues : array\n",
    "    Array of numerical values corresponding to the actual values for each of the N observations\n",
    "\n",
    "Returns\n",
    "-------\n",
    "rmse : int\n",
    "    Root Mean Squared Error of the prediction\n",
    "\n",
    "Example\n",
    "-------\n",
    ">>> print compute_rmse((2,2,3),(0,2,6)\n",
    "2.08\n",
    "\"\"\"\n",
    "def compute_rmse(predictions,yvalues):\n",
    "    x = np.square(np.asarray(predictions)- np.asarray(yvalues))\n",
    "    s = x.size + 0.0\n",
    "    y = np.sqrt(np.sum(x) * np.reciprocal(s))\n",
    "    return (round(y,2))    "
   ]
  },
  {
   "cell_type": "code",
   "execution_count": 15,
   "metadata": {
    "collapsed": false
   },
   "outputs": [
    {
     "name": "stdout",
     "output_type": "stream",
     "text": [
      "2.08\n"
     ]
    }
   ],
   "source": [
    "print(compute_rmse((2,2,3),(0,2,6)))"
   ]
  },
  {
   "cell_type": "markdown",
   "metadata": {
    "ein.tags": [
     "worksheet-0"
    ],
    "slideshow": {
     "slide_type": "-"
    }
   },
   "source": [
    "### 2.2 Divide your data into training and testing datasets\n",
    "\n",
    "\n",
    "Randomly select 66% of the data and put this in a training dataset\n",
    "(call this \"bdata_train\"), and place the remaining 34% in a testing\n",
    "dataset (call this \"bdata_test\").  Please us 'np.random' for random numbers.\n"
   ]
  },
  {
   "cell_type": "code",
   "execution_count": 16,
   "metadata": {
    "autoscroll": "json-false",
    "collapsed": false,
    "ein.tags": [
     "worksheet-0"
    ],
    "slideshow": {
     "slide_type": "-"
    }
   },
   "outputs": [],
   "source": [
    "# leave the following line untouched, it will help ensure that your \"random\" split is the same \"random\" split used by the rest of the class\n",
    "np.random.seed(seed=13579)\n",
    "\n",
    "def train_test_split(data, percentage):\n",
    "    np.random.shuffle(data)\n",
    "    bdata_train = data[0:np.int(data.shape[0] * percentage),:]\n",
    "    bdata_test = data[np.int(data.shape[0] * percentage):data.shape[0],:]\n",
    "    return bdata_train, bdata_test  "
   ]
  },
  {
   "cell_type": "code",
   "execution_count": 17,
   "metadata": {
    "collapsed": false
   },
   "outputs": [],
   "source": [
    "bdata_train, bdata_test = train_test_split(bdata_df, 0.66)"
   ]
  },
  {
   "cell_type": "code",
   "execution_count": 18,
   "metadata": {
    "collapsed": false
   },
   "outputs": [
    {
     "name": "stdout",
     "output_type": "stream",
     "text": [
      "(333, 14)\n",
      "(173, 14)\n"
     ]
    }
   ],
   "source": [
    "print(bdata_train.shape)\n",
    "print(bdata_test.shape)"
   ]
  },
  {
   "cell_type": "markdown",
   "metadata": {
    "ein.tags": [
     "worksheet-0"
    ],
    "slideshow": {
     "slide_type": "-"
    }
   },
   "source": [
    "### 2.3 Use a trivial baseline model for prediction, and compute RMSE\n",
    "Create a model that predicts, for every observation x_i, that the median home value is the average (mean) of the median values for all instances in the training set.  Compute the RMSE on the training set.  Now compute the RMSE on the test data set (but use the model you trained on the training set!).  How does RMSE compare for training vs. testing datasets? Is this what you expected, and why?"
   ]
  },
  {
   "cell_type": "code",
   "execution_count": 19,
   "metadata": {
    "autoscroll": "json-false",
    "collapsed": false,
    "ein.tags": [
     "worksheet-0"
    ],
    "slideshow": {
     "slide_type": "-"
    }
   },
   "outputs": [
    {
     "name": "stdout",
     "output_type": "stream",
     "text": [
      "Root mean squared error of the training data is : 8.58\n",
      "Root mean Squared error of the test data is: 10.28\n"
     ]
    }
   ],
   "source": [
    "print(\"Root mean squared error of the training data is :\",compute_rmse(np.repeat(bdata_train[:,13].mean(),bdata_train.shape[0]),bdata_train[:,13]))\n",
    "print(\"Root mean Squared error of the test data is:\",compute_rmse(np.repeat(bdata_train[:,13].mean(),bdata_test.shape[0]),bdata_test[:,13]))"
   ]
  },
  {
   "cell_type": "markdown",
   "metadata": {},
   "source": [
    "The RMSE of the test data is higher than the training data. I expected this value as the model based on the mean of the training data would not fit well with the test data. For example, the median values of the test data might vary largely as compared to the mean of the training data"
   ]
  },
  {
   "cell_type": "markdown",
   "metadata": {
    "ein.tags": [
     "worksheet-0"
    ],
    "slideshow": {
     "slide_type": "-"
    }
   },
   "source": [
    "\n"
   ]
  },
  {
   "cell_type": "markdown",
   "metadata": {
    "ein.tags": [
     "worksheet-0"
    ],
    "slideshow": {
     "slide_type": "-"
    }
   },
   "source": [
    "##Part 3: Nearest Neighbors\n"
   ]
  },
  {
   "cell_type": "markdown",
   "metadata": {
    "ein.tags": [
     "worksheet-0"
    ],
    "slideshow": {
     "slide_type": "-"
    }
   },
   "source": [
    "### 3.1 Nearest Neighbors: Distance function\n",
    "Let's try and build a machine learning algorithm to beat the \"Average\n",
    "Value\" baseline that you computed above.  Soon you will implement the\n",
    "Nearest Neighbor algorithm, but first you need to create a distance\n",
    "metric to measure the distance (and similarity) between two instances.\n",
    "Write a generic function to compute the Lp-Norm distance. Verify that\n",
    "your function works by computing the L-2 (Euclidean) distance and L-1 (Manhattan) distance between the points (3,4) and (6,8), and between (6,8) and (3,4).  Ensure that your distance is correct and positive in both cases!\n"
   ]
  },
  {
   "cell_type": "code",
   "execution_count": 23,
   "metadata": {
    "autoscroll": "json-false",
    "collapsed": false,
    "ein.tags": [
     "worksheet-0"
    ],
    "slideshow": {
     "slide_type": "-"
    }
   },
   "outputs": [],
   "source": [
    "\"\"\"\n",
    "Function\n",
    "--------\n",
    "distance\n",
    "\n",
    "Given two instances and a value for L, return the L-Norm distance between them\n",
    "\n",
    "Parameters\n",
    "----------\n",
    "x1, x2 : array\n",
    "    Array of numerical values corresponding to predictions for each of the N observations\n",
    "\n",
    "L: int\n",
    "    Value of L to use in computing distances\n",
    "\n",
    "Returns\n",
    "-------\n",
    "dist : int\n",
    "    The L-norm distance between instances\n",
    "\n",
    "Example\n",
    "-------\n",
    ">>> print distance((3,4),(5,9),1)\n",
    "7\n",
    "\n",
    "\"\"\"\n",
    "def distance(x1,x2,L):\n",
    "    x1 = np.asmatrix(x1)\n",
    "    x2 = np.asmatrix(x2)\n",
    "    t = np.power(abs(np.subtract(x1,x2)),L)\n",
    "    return np.power(np.sum(t),1/L)"
   ]
  },
  {
   "cell_type": "code",
   "execution_count": 28,
   "metadata": {
    "collapsed": false
   },
   "outputs": [
    {
     "name": "stdout",
     "output_type": "stream",
     "text": [
      "L1 Manhattan Distance of (3,4) and (6,8) is  7.0\n",
      "L2 Euclidean Distance of (3,4) and (6,8) is  5.0\n",
      "L1 Manhattan Distance of (6,8) and (3,4) is  7.0\n",
      "L2 Euclidean Distance of (6,8) and (3,4) is  5.0\n"
     ]
    }
   ],
   "source": [
    "print (\"L1 Manhattan Distance of (3,4) and (6,8) is \", distance((3,4),(6,8),1))\n",
    "print (\"L2 Euclidean Distance of (3,4) and (6,8) is \", distance((3,4),(6,8),2))\n",
    "print (\"L1 Manhattan Distance of (6,8) and (3,4) is \", distance((6,8),(3,4),1))\n",
    "print (\"L2 Euclidean Distance of (6,8) and (3,4) is \", distance((6,8),(3,4),2))"
   ]
  },
  {
   "cell_type": "markdown",
   "metadata": {
    "ein.tags": [
     "worksheet-0"
    ],
    "slideshow": {
     "slide_type": "-"
    }
   },
   "source": [
    "### 3.2 Basic Nearest Neighbor algorithm\n",
    "\n",
    "Now things get fun.  Your task is to implement a basic nearest neighbor algorithm from scratch.  Your simple model will use two input features (CRIM and RM) and a single output (MEDV).  In other words, you are modelling the relationship between median home value and crime rates and house size.\n",
    "\n",
    "Use your training data (bdata_train) to \"fit\" your model, although as\n",
    "you know, with Nearest Neighbors there is no real training, you just\n",
    "need to keep your training data in memory.  Write a function that\n",
    "predicts, for each instance in the testing data (bdata_test), the\n",
    "median home value using the nearest neighbor algorithm we discussed in\n",
    "class.  Since this is a small dataset, you can simply compare your\n",
    "test instance to every instance in the training set, and return the\n",
    "MEDV value of the closest training instance.  You can just loop over\n",
    "the instances to find the nearest neighbor.  Have your function take L as an input, where L is passed to the distance function.\n",
    "\n",
    "Compute the RMSE for the Nearest Neighbor predictions on the test set, using the Euclidean distance.  Report an estimate of the total time taken by your code to predict the nearest neighbors for all the values in the test data set.\n",
    "\n",
    "Plot the true vs predicted price for your test data\n"
   ]
  },
  {
   "cell_type": "code",
   "execution_count": 35,
   "metadata": {
    "collapsed": false
   },
   "outputs": [],
   "source": [
    "# Import time to estimate the total time taken\n",
    "import time\n",
    "# Import operator to help with sort\n",
    "import operator\n",
    "def nn_predict(test_data, train_data, L):\n",
    "#Record start time \n",
    "    start_time = time.time()\n",
    "    # List for predicted values\n",
    "    x = []\n",
    "    for i in test_data:\n",
    "    # List for nearest neighbour distances\n",
    "        nn_dist = []\n",
    "        for j in train_data:\n",
    "        # Calculate euclidean distance\n",
    "            euc_dist = distance(j[:-1],i[:-1],L)\n",
    "            # Append to the nn_dist list\n",
    "            nn_dist.append((j[j.shape[0]-1], euc_dist))\n",
    "            # Sort the list by distance , so that we can pick the lowest distance\n",
    "            nn_dist.sort(key = operator.itemgetter(1),reverse = False)\n",
    "        # Append the lowest distance to the predicted value list\n",
    "        x.append(nn_dist[0])\n",
    "    # Convert to array\n",
    "    x = np.array(x)\n",
    "    # Calculate runtime\n",
    "    elapsed_time = round(time.time() - start_time,2)\n",
    "    #Return the predicted value, root mean squared error and the time take for run\n",
    "    return x[:,0],compute_rmse(test_data[:,2],x[:,0]),elapsed_time"
   ]
  },
  {
   "cell_type": "code",
   "execution_count": 37,
   "metadata": {
    "collapsed": false
   },
   "outputs": [],
   "source": [
    "prediction , rmse , elapsed_time = nn_predict(bdata_test[:,(0,5,13)], bdata_train[:,(0,5,13)],2)"
   ]
  },
  {
   "cell_type": "code",
   "execution_count": 24,
   "metadata": {
    "collapsed": false
   },
   "outputs": [
    {
     "name": "stdout",
     "output_type": "stream",
     "text": [
      "Root mean squared error is: 7.45\n",
      "Total time for computation is: 3.19 Seconds\n"
     ]
    }
   ],
   "source": [
    "print(\"Root mean squared error is:\",rmse)\n",
    "print(\"Total time for computation is:\",elapsed_time,\"Seconds\")"
   ]
  },
  {
   "cell_type": "code",
   "execution_count": 25,
   "metadata": {
    "collapsed": false
   },
   "outputs": [
    {
     "data": {
      "image/png": "[encoded data removed]",
      "text/plain": [
       "<matplotlib.figure.Figure at 0x2a6a819ffd0>"
      ]
     },
     "metadata": {},
     "output_type": "display_data"
    }
   ],
   "source": [
    "ax = plt.scatter(bdata_test[:,13],prediction)\n",
    "plt.xlabel('Actual Value')\n",
    "plt.ylabel('Predicted Value')\n",
    "plt.title('Actual vs Predicted Values')\n",
    "plt.show()"
   ]
  },
  {
   "cell_type": "markdown",
   "metadata": {
    "ein.tags": [
     "worksheet-0"
    ],
    "slideshow": {
     "slide_type": "-"
    }
   },
   "source": [
    "### 3.3 Results and Normalization\n",
    "\n",
    "If you were being astute, you would have noticed that we never normalized our features -- a big no-no with Nearest Neighbor algorithms.  Normalization is similar to Mahalanobis disctance (if the features are independent).  Read more in Daume (2017), _A Course in Machine Learning_ Chapter 4.3.  Write a simple generic normalization function that takes as input an array of values for a given feature, and returns the normalized array.  Do it well, you will need it in the future as well ;-)\n",
    "\n",
    "Re-run the Nearest Neighbor algorithm on the normalized dataset (still just using CRIM and RM as input), and compare the RMSE from this method with your previous RMSE evaluations.\n",
    "\n",
    "*NOTE*: To normalize properly, best practice is to compute the mean and standard deviation on the training set, and use these values to normalize the testing dataset. However, for this problem set, it is okay if you separately normalize each dataset using the respective mean and standard deviation."
   ]
  },
  {
   "cell_type": "code",
   "execution_count": 26,
   "metadata": {
    "autoscroll": "json-false",
    "collapsed": false,
    "ein.tags": [
     "worksheet-0"
    ],
    "slideshow": {
     "slide_type": "-"
    }
   },
   "outputs": [],
   "source": [
    "def normalize (data):\n",
    "    for i in range(0, data.shape[1] - 1):\n",
    "        mean = data[:,i].mean()\n",
    "        std = data[:,i].std()\n",
    "        data[:,i] = (data[:,i] - mean)/std\n",
    "    return data"
   ]
  },
  {
   "cell_type": "code",
   "execution_count": 27,
   "metadata": {
    "collapsed": false
   },
   "outputs": [],
   "source": [
    "prediction , rmse , elapsed_time = nn_predict(normalize(bdata_test[:,(0,5,13)]), normalize(bdata_train[:,[0,5,13]]),2)"
   ]
  },
  {
   "cell_type": "code",
   "execution_count": 29,
   "metadata": {
    "collapsed": false
   },
   "outputs": [
    {
     "name": "stdout",
     "output_type": "stream",
     "text": [
      "Root mean squared error is: 7.73\n",
      "Total time for computation is: 3.35 Seconds\n"
     ]
    }
   ],
   "source": [
    "print(\"Root mean squared error is:\",rmse)\n",
    "print(\"Total time for computation is:\",elapsed_time,\"Seconds\")"
   ]
  },
  {
   "cell_type": "markdown",
   "metadata": {
    "ein.tags": [
     "worksheet-0"
    ],
    "slideshow": {
     "slide_type": "-"
    }
   },
   "source": [
    "### 3.4 Optimization\n",
    "\n",
    "\n",
    "A lot of the decisions we've made so far have been arbitrary.  Try to increase the performance of your nearest neighbor algorithm by adding features that you think might be relevant, and by using different values of L in the distance function.  Try a model that uses a different set of 2 features, then try at least one model that uses more than 4 features, then try using a different value of L.  If you're having fun, try a few different combinations of features and L!  \n",
    "\n",
    "What combination of features and distance function provide the lowest RMSE?  Compre RMSEs with the corresponding true-predicted plots.\n",
    "\n",
    "Do your decisions affect the running time of the algorithm?"
   ]
  },
  {
   "cell_type": "code",
   "execution_count": 26,
   "metadata": {
    "collapsed": false
   },
   "outputs": [
    {
     "name": "stdout",
     "output_type": "stream",
     "text": [
      "Root mean squared error is: 10.73\n",
      "Total time for computation is: 3.38 Seconds\n",
      "Root mean squared error is: 6.49\n",
      "Total time for computation is: 3.36 Seconds\n",
      "Root mean squared error is: 6.53\n",
      "Total time for computation is: 3.18 Seconds\n",
      "Root mean squared error is: 6.56\n",
      "Total time for computation is: 3.24 Seconds\n",
      "Root mean squared error is: 23.49\n",
      "Total time for computation is: 3.13 Seconds\n",
      "Root mean squared error is: 23.49\n",
      "Total time for computation is: 3.36 Seconds\n",
      "Root mean squared error is: 23.43\n",
      "Total time for computation is: 3.29 Seconds\n"
     ]
    }
   ],
   "source": [
    "#2 features - NOX and TAX\n",
    "prediction , rmse , elapsed_time = nn_predict(normalize(bdata_test[:,(4,9,13)]), normalize(bdata_train[:,(4,9,13)]),3)\n",
    "print(\"Root mean squared error is:\",rmse)\n",
    "print(\"Total time for computation is:\",elapsed_time,\"Seconds\") \n",
    "\n",
    "#2 features - PTRATIO and LSTAT with L = 2\n",
    "prediction , rmse , elapsed_time = nn_predict(normalize(bdata_test[:,(10,12,13)]), normalize(bdata_train[:,(10,12,13)]),2)\n",
    "print(\"Root mean squared error is:\",rmse)\n",
    "print(\"Total time for computation is:\",elapsed_time,\"Seconds\")\n",
    "\n",
    "#2 features - PTRATIO and LSTAT with L = 3\n",
    "prediction , rmse , elapsed_time = nn_predict(normalize(bdata_test[:,(10,12,13)]), normalize(bdata_train[:,(10,12,13)]),3)\n",
    "print(\"Root mean squared error is:\",rmse)\n",
    "print(\"Total time for computation is:\",elapsed_time,\"Seconds\")\n",
    "\n",
    "#2 features - PTRATIO and LSTAT with L = 4\n",
    "prediction , rmse , elapsed_time = nn_predict(normalize(bdata_test[:,(10,12,13)]), normalize(bdata_train[:,(10,12,13)]),4)\n",
    "print(\"Root mean squared error is:\",rmse)\n",
    "print(\"Total time for computation is:\",elapsed_time,\"Seconds\")\n",
    "\n",
    "#4 features - NOX, CHAS, PTRATIO and LSTAT with L = 2\n",
    "prediction , rmse , elapsed_time = nn_predict(normalize(bdata_test[:,(4,3,10,12,13)]), normalize(bdata_train[:,(4,3,10,12,13)]),2)\n",
    "print(\"Root mean squared error is:\",rmse)\n",
    "print(\"Total time for computation is:\",elapsed_time,\"Seconds\") \n",
    "\n",
    "#4 features - NOX, CHAS, PTRATIO and LSTAT with L = 3\n",
    "prediction , rmse , elapsed_time = nn_predict(normalize(bdata_test[:,(4,3,10,12,13)]), normalize(bdata_train[:,(4,3,10,12,13)]),3)\n",
    "print(\"Root mean squared error is:\",rmse)\n",
    "print(\"Total time for computation is:\",elapsed_time,\"Seconds\") \n",
    "\n",
    "#4 features - NOX, CHAS, PTRATIO and LSTAT with L = 4\n",
    "prediction , rmse , elapsed_time = nn_predict(normalize(bdata_test[:,(4,3,10,12,13)]), normalize(bdata_train[:,(4,3,10,12,13)]),4)\n",
    "print(\"Root mean squared error is:\",rmse)\n",
    "print(\"Total time for computation is:\",elapsed_time,\"Seconds\") "
   ]
  },
  {
   "cell_type": "markdown",
   "metadata": {},
   "source": [
    "Through trial and error method, the rmse obtained for the features PTRATIO and LSTAT obtained the lowest rmse.\n",
    "For these two features, the lowest value was obtained for the euclidean distance i.e. 6.49\n",
    "For the model with 4 features, a high rmse of ~23 was obtained and remained similar across different L values.\n",
    "\n",
    "It is seen that with different combinations, number of features and L values, the running time varies as well, although only by a small amount."
   ]
  },
  {
   "cell_type": "markdown",
   "metadata": {
    "ein.tags": [
     "worksheet-0"
    ],
    "slideshow": {
     "slide_type": "-"
    }
   },
   "source": [
    "### 3.5 Cross-Validation\n",
    "\n",
    "The more you tinkered with your features and distance function, the higher the risk that you overfit your training data.  To prevent this sort of overfitting, you need to use cross-validation (see Daume (2017) _A Course in Machine Learning_, Ch 4.6).  Here you must implement a simple k-fold cross-validation algorithm yourself.  Essentially you have to partition your dataset into 10 equally-sized samples, and for each of 10 iterations (the \"folds\"), use 9 samples as \"training data\" (even though there is no training in k-NN!), and the remaining 1 sample for testing.  The function you write here will be used several more times in this problem set, so do your best to write efficient code! (Note that the sklearn package has a built-in K-fold iterator -- do *not* use that here.)\n",
    "\n",
    "Use Euclidean distance with CRIM and RM (0 and 5) as features.  Compute the RMSE of that particular test set, then move on to the next iteration.  Report the average RMSE across the 10 iterations, and the total running time for all 10 iterations.  Compare the k-fold RMSE with the training-testing split RMSE above for the same hyperparameter values."
   ]
  },
  {
   "cell_type": "code",
   "execution_count": 30,
   "metadata": {
    "autoscroll": "json-false",
    "collapsed": false,
    "ein.tags": [
     "worksheet-0"
    ],
    "slideshow": {
     "slide_type": "-"
    }
   },
   "outputs": [],
   "source": [
    "def k_fold(data,L,m,k):\n",
    "    rmse = 0\n",
    "    elapsed_time = 0\n",
    "    for i in range(10):\n",
    "        test_data = data[range(int((i/10)* data.shape[0]), int(((i+1)/10)* data.shape[0])),:]\n",
    "        train_data = np.delete(data, range(int((i/10)* data.shape[0]), int(((i+1)/10)* data.shape[0])), axis=0)\n",
    "        if m=='knn':\n",
    "            p,r,t = knn_predict(normalize(test_data[:,:]), normalize(train_data[:,:]),2,k)\n",
    "        if m=='nn':\n",
    "            p,r,t = nn_predict(normalize(test_data[:,:]),normalize(train_data[:,:]),2)\n",
    "        rmse+=r\n",
    "        elapsed_time+=t\n",
    "    return(rmse/10),round(elapsed_time,2)"
   ]
  },
  {
   "cell_type": "code",
   "execution_count": 31,
   "metadata": {
    "collapsed": false
   },
   "outputs": [],
   "source": [
    "rmse,elapsed_time = k_fold(bdata_df[:,(0,5,13)],2,'nn',0)"
   ]
  },
  {
   "cell_type": "code",
   "execution_count": 32,
   "metadata": {
    "collapsed": false
   },
   "outputs": [
    {
     "name": "stdout",
     "output_type": "stream",
     "text": [
      "Root mean squared error using cross-validation: 6.426\n",
      "Time taken for cross-validation: 13.94\n"
     ]
    }
   ],
   "source": [
    "print('Root mean squared error using cross-validation:',rmse)\n",
    "print('Time taken for cross-validation:',elapsed_time)"
   ]
  },
  {
   "cell_type": "markdown",
   "metadata": {},
   "source": [
    "The RMSE obtained in the k-fold method is 6.426 which is lower than the 7.73 value obtained in the training-testing split. This shows that k-fold method delivers a better model. However, the run time for the k-fold method is higher than the training-testing split method."
   ]
  },
  {
   "cell_type": "markdown",
   "metadata": {
    "ein.tags": [
     "worksheet-0"
    ],
    "slideshow": {
     "slide_type": "-"
    }
   },
   "source": [
    "### 3.6 K-Nearest Neighbors Algorithm\n",
    "\n",
    "Implement the K-Nearest Neighbors algorithm.  Using 10-fold cross validation, report the RMSE for K=3 and the running time of the algorithm."
   ]
  },
  {
   "cell_type": "code",
   "execution_count": 33,
   "metadata": {
    "autoscroll": "json-false",
    "collapsed": false,
    "ein.tags": [
     "worksheet-0"
    ],
    "slideshow": {
     "slide_type": "-"
    }
   },
   "outputs": [],
   "source": [
    "# Import time to estimate the total time taken\n",
    "import time\n",
    "def knn_predict(test_data, train_data, L,k):\n",
    "    #Record start time \n",
    "    start_time = time.time()\n",
    "    # List for predicted values\n",
    "    x = []\n",
    "    for i in test_data:\n",
    "        # List for nearest neighbour distances\n",
    "        nn_dist = []\n",
    "        for j in train_data:\n",
    "            # Calculate euclidean distance\n",
    "            euc_dist = distance(j[:-1],i[:-1],L)\n",
    "            # Append to the nn_dist list\n",
    "            nn_dist.append((j[j.shape[0]-1], euc_dist))\n",
    "            # Sort the list by distance , so that we can pick the lowest distance\n",
    "            nn_dist.sort(key = operator.itemgetter(1),reverse = False)\n",
    "            # Append the lowest distance to the predicted value list\n",
    "        x.append(np.mean(nn_dist[0:k],axis = 0))\n",
    "    # Convert to array\n",
    "    x = np.array(x)\n",
    "    # Calculate runtime\n",
    "    elapsed_time = round(time.time() - start_time,2)\n",
    "    # Return the predicted value, root mean squared error and the time take for run\n",
    "    return x[:,0],compute_rmse(test_data[:,2],x[:,0]),elapsed_time"
   ]
  },
  {
   "cell_type": "code",
   "execution_count": 34,
   "metadata": {
    "collapsed": false
   },
   "outputs": [],
   "source": [
    "r,t = k_fold(bdata_df[:,(0,5,13)],2,'knn',3)"
   ]
  },
  {
   "cell_type": "code",
   "execution_count": 35,
   "metadata": {
    "collapsed": false
   },
   "outputs": [
    {
     "name": "stdout",
     "output_type": "stream",
     "text": [
      "Root mean squared error using K-nearest neigbour algorithm: 5.882\n",
      "Time taken for K-nearest neigbour algorithm: 13.88\n"
     ]
    }
   ],
   "source": [
    "print('Root mean squared error using K-nearest neigbour algorithm:',r)\n",
    "print('Time taken for K-nearest neigbour algorithm:',t)"
   ]
  },
  {
   "cell_type": "markdown",
   "metadata": {
    "ein.tags": [
     "worksheet-0"
    ],
    "slideshow": {
     "slide_type": "-"
    }
   },
   "source": [
    "### 3.7 Using cross validation to find K\n",
    "\n",
    "What is the best choice of K?  Compute the RMSE for values of K between 1 and 25 using 10-fold cross-validation.  Use the following features in your model, and don't forget to normalize: CRIM, ZN, RM, AGE, DIS, TAX.  Create a graph that shows how RMSE changes as K increases from 1 to 25.  Label your axes, and summarize what you see.  What do you think is a reasonable choice of K for this model?"
   ]
  },
  {
   "cell_type": "code",
   "execution_count": 36,
   "metadata": {
    "autoscroll": "json-false",
    "collapsed": false,
    "ein.tags": [
     "worksheet-0"
    ],
    "slideshow": {
     "slide_type": "-"
    }
   },
   "outputs": [],
   "source": [
    "'''\n",
    "CRIM - 0\n",
    "ZN - 1\n",
    "RM - 5\n",
    "AGE - 6\n",
    "DIS - 7\n",
    "TAX - 9\n",
    "'''\n",
    "bdata = bdata_df[:,(0,1,5,6,7,9,13)]\n",
    "\n",
    "x=[]\n",
    "y=[]\n",
    "\n",
    "for k_value in range(1,26):\n",
    "    # Calculating the RMSE and time taken \n",
    "    r,t = k_fold(bdata,2,'knn',k_value)\n",
    "    # Appending the value of iteration to x list\n",
    "    x.append(k_value)\n",
    "    # Appending corresponding RMSE value to y list\n",
    "    y.append(r)\n",
    "\n",
    "x = np.array(x)\n",
    "y = np.array(y)"
   ]
  },
  {
   "cell_type": "code",
   "execution_count": 37,
   "metadata": {
    "collapsed": false
   },
   "outputs": [
    {
     "data": {
      "image/png": "[encoded data removed]",
      "text/plain": [
       "<matplotlib.figure.Figure at 0x2a6a820e8d0>"
      ]
     },
     "metadata": {},
     "output_type": "display_data"
    }
   ],
   "source": [
    "kr = np.stack((x,y),axis = 1)\n",
    "plt.plot(kr[:,0],kr[:,1])\n",
    "plt.xlabel('K-value')\n",
    "plt.ylabel('RMSE')\n",
    "plt.title('K-value vs. RMSE')\n",
    "plt.show()"
   ]
  },
  {
   "cell_type": "markdown",
   "metadata": {},
   "source": [
    "It is observed that as the K-value increases the RMSE value reduces.                                                    For this model, based on time and accuracy of rmse, K can be chosen in two ways:\n",
    "\n",
    "1) While ignoring the time taken to train the model and aiming to obtain the lowest RMSE value, K = 25 would be a good choice.\n",
    "\n",
    "2) Also, it is observed that the difference in RMSE values across K = 1 to 25 is not drastically different. There is a difference of ~1 rmse units between K = 1 and K = 25. There is an exponential drop in rmse between  K = 1 to 10. Beyond that, the RMSE value drops only by 0.2. Therefore considering time contraint, K = 10 would be a good choice"
   ]
  }
 ],
 "metadata": {
  "anaconda-cloud": {},
  "kernelspec": {
   "display_name": "Python 3",
   "language": "python",
   "name": "python3"
  },
  "language_info": {
   "codemirror_mode": {
    "name": "ipython",
    "version": 3
   },
   "file_extension": ".py",
   "mimetype": "text/x-python",
   "name": "python",
   "nbconvert_exporter": "python",
   "pygments_lexer": "ipython3",
   "version": "3.6.0"
  },
  "name": "infx573-ps3-solutions.ipynb"
 },
 "nbformat": 4,
 "nbformat_minor": 0
}
